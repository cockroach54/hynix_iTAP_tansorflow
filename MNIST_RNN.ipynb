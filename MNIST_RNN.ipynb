{
 "cells": [
  {
   "cell_type": "markdown",
   "metadata": {},
   "source": [
    "\n",
    "# Recurrent neural network\n",
    " - RNN basic\n",
    " - MNIST by RNN\n",
    " - sequence2squence\n",
    " - sentiment analysis\n",
    " > - https://github.com/hunkim/DeepLearningZeroToAll\n",
    "  - https://tensorflowkorea.gitbooks.io/tensorflow-kr/content/g3doc/tutorials/\n",
    "  - https://r2rt.com/implementing-batch-normalization-in-tensorflow.html"
   ]
  },
  {
   "cell_type": "markdown",
   "metadata": {},
   "source": [
    "---\n",
    "## MNIST by Bi-directional LSTM \n",
    "> - many to one"
   ]
  },
  {
   "cell_type": "code",
   "execution_count": 5,
   "metadata": {},
   "outputs": [
    {
     "name": "stderr",
     "output_type": "stream",
     "text": [
      "C:\\ProgramData\\Anaconda3\\lib\\site-packages\\h5py\\__init__.py:34: FutureWarning: Conversion of the second argument of issubdtype from `float` to `np.floating` is deprecated. In future, it will be treated as `np.float64 == np.dtype(float).type`.\n",
      "  from ._conv import register_converters as _register_converters\n"
     ]
    },
    {
     "name": "stdout",
     "output_type": "stream",
     "text": [
      "Extracting MNIST_data/train-images-idx3-ubyte.gz\n",
      "Extracting MNIST_data/train-labels-idx1-ubyte.gz\n",
      "Extracting MNIST_data/t10k-images-idx3-ubyte.gz\n",
      "Extracting MNIST_data/t10k-labels-idx1-ubyte.gz\n"
     ]
    }
   ],
   "source": [
    "\"\"\" Bi-directional Recurrent Neural Network.\n",
    "A Bi-directional Recurrent Neural Network (LSTM) implementation example using \n",
    "TensorFlow library. This example is using the MNIST database of handwritten \n",
    "digits (http://yann.lecun.com/exdb/mnist/)\n",
    "Links:\n",
    "    [Long Short Term Memory](http://deeplearning.cs.cmu.edu/pdfs/Hochreiter97_lstm.pdf)\n",
    "    [MNIST Dataset](http://yann.lecun.com/exdb/mnist/).\n",
    "Author: Aymeric Damien\n",
    "Project: https://github.com/aymericdamien/TensorFlow-Examples/\n",
    "\"\"\"\n",
    "\n",
    "from __future__ import print_function\n",
    "\n",
    "import tensorflow as tf\n",
    "from tensorflow.contrib import rnn\n",
    "import numpy as np\n",
    "\n",
    "# Import MNIST data\n",
    "from tensorflow.examples.tutorials.mnist import input_data\n",
    "mnist = input_data.read_data_sets(\"MNIST_data/\", one_hot=True)"
   ]
  },
  {
   "cell_type": "code",
   "execution_count": 6,
   "metadata": {
    "scrolled": true
   },
   "outputs": [
    {
     "name": "stdout",
     "output_type": "stream",
     "text": [
      "x:\t\t\t Tensor(\"Placeholder:0\", shape=(?, 28, 28), dtype=float32, device=/device:GPU:0)\n",
      "outputs:\t\t Tensor(\"rnn/transpose:0\", shape=(?, 28, 128), dtype=float32, device=/device:GPU:0)\n",
      "outputs_(batch major)\t Tensor(\"transpose_1:0\", shape=(28, ?, 128), dtype=float32, device=/device:GPU:0)\n"
     ]
    }
   ],
   "source": [
    "'''\n",
    "To classify images using a bidirectional recurrent neural network, we consider\n",
    "every image row as a sequence of pixels. Because MNIST image shape is 28*28px,\n",
    "we will then handle 28 sequences of 28 steps for every sample.\n",
    "'''\n",
    "tf.reset_default_graph()\n",
    "\n",
    "# Training Parameters\n",
    "learning_rate = 0.001\n",
    "training_steps = 10000\n",
    "batch_size = 100\n",
    "display_step = 200\n",
    "\n",
    "# Network Parameters\n",
    "num_input = 28 # MNIST data input (img shape: 28*28)\n",
    "timesteps = 28 # timesteps\n",
    "num_hidden = 128 # hidden layer num of features\n",
    "num_classes = 10 # MNIST total classes (0-9 digits)\n",
    "\n",
    "# with tf.device('/cpu:0'):\n",
    "with tf.device('/gpu:0'):\n",
    "    # tf Graph input\n",
    "    \n",
    "    X = tf.placeholder(\"float\", [None, timesteps, num_input])\n",
    "    Y = tf.placeholder(\"float\", [None, num_classes])\n",
    "\n",
    "    # Define weights\n",
    "    weights = {\n",
    "        # Hidden layer weights => 2*n_hidden because of forward + backward cells\n",
    "        'out': tf.Variable(tf.random_normal([num_hidden, num_classes]))\n",
    "    }\n",
    "    biases = {\n",
    "        'out': tf.Variable(tf.random_normal([num_classes]))\n",
    "    }\n",
    "\n",
    "    def basic_RNN(x, weights, biases):\n",
    "#         x = tf.unstack(x, timesteps, 1) # batch major (batch, sequence, input)-> time major (sequence, batch, input)) \n",
    "        print('x:\\t\\t\\t',x) # (batch, sequence, input)\n",
    "        cell = rnn.BasicLSTMCell(num_hidden, forget_bias=1.0)\n",
    "        # Get lstm cell output\n",
    "        outputs, _states = tf.nn.dynamic_rnn(cell, x, time_major=False, dtype=tf.float32)\n",
    "        # Linear activation, using rnn inner loop last output\n",
    "        print('outputs:\\t\\t', outputs) # (batch, sequence, hidden)\n",
    "        \n",
    "#         outputs_ = tf.unstack(outputs, axis=1)\n",
    "#         print('sequene steps:', len(outputs_))\n",
    "#         print('last step output', outputs_[-1]) #(batch, hidden)\n",
    "#         return tf.matmul(outputs_[-1], weights['out']) + biases['out']\n",
    "\n",
    "        outputs_ = tf.transpose(outputs, [1,0,2])\n",
    "        print('outputs_(batch major)\\t', outputs_)\n",
    "        return tf.matmul(outputs_[-1], weights['out']) + biases['out']\n",
    "\n",
    "    logits = basic_RNN(X, weights, biases)\n",
    "    prediction = tf.nn.softmax(logits)\n",
    "\n",
    "    # Define loss and optimizer\n",
    "    loss_op = tf.reduce_mean(tf.nn.softmax_cross_entropy_with_logits(\n",
    "        logits=logits, labels=Y))\n",
    "    optimizer = tf.train.GradientDescentOptimizer(learning_rate=learning_rate)\n",
    "    train_op = optimizer.minimize(loss_op)\n",
    "\n",
    "    # Evaluate model (with test logits, for dropout to be disabled)\n",
    "    correct_pred = tf.equal(tf.argmax(prediction, 1), tf.argmax(Y, 1))\n",
    "    accuracy = tf.reduce_mean(tf.cast(correct_pred, tf.float32))\n",
    "\n",
    "# Initialize the variables (i.e. assign their default value)\n",
    "init = tf.global_variables_initializer()"
   ]
  },
  {
   "cell_type": "code",
   "execution_count": 7,
   "metadata": {
    "scrolled": true
   },
   "outputs": [
    {
     "name": "stdout",
     "output_type": "stream",
     "text": [
      "Step 1, Minibatch Loss= 2.8106, Training Accuracy= 0.060\n",
      "Step 200, Minibatch Loss= 2.1166, Training Accuracy= 0.290\n",
      "Step 400, Minibatch Loss= 1.8897, Training Accuracy= 0.430\n",
      "Step 600, Minibatch Loss= 1.7679, Training Accuracy= 0.520\n",
      "Step 800, Minibatch Loss= 1.5486, Training Accuracy= 0.520\n",
      "Step 1000, Minibatch Loss= 1.5983, Training Accuracy= 0.480\n",
      "Step 1200, Minibatch Loss= 1.3434, Training Accuracy= 0.630\n",
      "Step 1400, Minibatch Loss= 1.4437, Training Accuracy= 0.530\n",
      "Step 1600, Minibatch Loss= 1.3629, Training Accuracy= 0.600\n",
      "Step 1800, Minibatch Loss= 1.3655, Training Accuracy= 0.510\n",
      "Step 2000, Minibatch Loss= 1.2264, Training Accuracy= 0.600\n",
      "Step 2200, Minibatch Loss= 1.1985, Training Accuracy= 0.620\n",
      "Step 2400, Minibatch Loss= 1.3067, Training Accuracy= 0.590\n",
      "Step 2600, Minibatch Loss= 1.2667, Training Accuracy= 0.610\n",
      "Step 2800, Minibatch Loss= 1.0793, Training Accuracy= 0.640\n",
      "Step 3000, Minibatch Loss= 1.1217, Training Accuracy= 0.590\n",
      "Step 3200, Minibatch Loss= 1.1845, Training Accuracy= 0.610\n",
      "Step 3400, Minibatch Loss= 0.9442, Training Accuracy= 0.670\n",
      "Step 3600, Minibatch Loss= 0.9526, Training Accuracy= 0.720\n",
      "Step 3800, Minibatch Loss= 0.9897, Training Accuracy= 0.640\n",
      "Step 4000, Minibatch Loss= 0.7885, Training Accuracy= 0.770\n",
      "Step 4200, Minibatch Loss= 0.8413, Training Accuracy= 0.730\n",
      "Step 4400, Minibatch Loss= 0.8078, Training Accuracy= 0.740\n",
      "Step 4600, Minibatch Loss= 0.6705, Training Accuracy= 0.850\n",
      "Step 4800, Minibatch Loss= 0.7276, Training Accuracy= 0.760\n",
      "Step 5000, Minibatch Loss= 0.7499, Training Accuracy= 0.770\n",
      "Step 5200, Minibatch Loss= 0.8426, Training Accuracy= 0.730\n",
      "Step 5400, Minibatch Loss= 0.8340, Training Accuracy= 0.750\n",
      "Step 5600, Minibatch Loss= 0.7166, Training Accuracy= 0.750\n",
      "Step 5800, Minibatch Loss= 0.9006, Training Accuracy= 0.730\n",
      "Step 6000, Minibatch Loss= 0.6511, Training Accuracy= 0.810\n",
      "Step 6200, Minibatch Loss= 0.6722, Training Accuracy= 0.800\n",
      "Step 6400, Minibatch Loss= 0.8052, Training Accuracy= 0.760\n",
      "Step 6600, Minibatch Loss= 0.6503, Training Accuracy= 0.760\n",
      "Step 6800, Minibatch Loss= 0.6419, Training Accuracy= 0.760\n",
      "Step 7000, Minibatch Loss= 0.6459, Training Accuracy= 0.790\n",
      "Step 7200, Minibatch Loss= 0.5700, Training Accuracy= 0.800\n",
      "Step 7400, Minibatch Loss= 0.5729, Training Accuracy= 0.840\n",
      "Step 7600, Minibatch Loss= 0.5716, Training Accuracy= 0.800\n",
      "Step 7800, Minibatch Loss= 0.6268, Training Accuracy= 0.800\n",
      "Step 8000, Minibatch Loss= 0.4356, Training Accuracy= 0.880\n",
      "Step 8200, Minibatch Loss= 0.6515, Training Accuracy= 0.820\n",
      "Step 8400, Minibatch Loss= 0.4573, Training Accuracy= 0.840\n",
      "Step 8600, Minibatch Loss= 0.5590, Training Accuracy= 0.810\n",
      "Step 8800, Minibatch Loss= 0.5103, Training Accuracy= 0.840\n",
      "Step 9000, Minibatch Loss= 0.4619, Training Accuracy= 0.930\n",
      "Step 9200, Minibatch Loss= 0.4282, Training Accuracy= 0.860\n",
      "Step 9400, Minibatch Loss= 0.4800, Training Accuracy= 0.850\n",
      "Step 9600, Minibatch Loss= 0.4667, Training Accuracy= 0.880\n",
      "Step 9800, Minibatch Loss= 0.4088, Training Accuracy= 0.890\n",
      "Step 10000, Minibatch Loss= 0.4248, Training Accuracy= 0.850\n",
      "Optimization Finished!\n",
      "Testing Accuracy: 0.859375\n"
     ]
    }
   ],
   "source": [
    "# Start training\n",
    "with tf.Session(config=tf.ConfigProto(allow_soft_placement=True)) as sess: # gpu 못올리는 에러 해결 설정\n",
    "\n",
    "    # Run the initializer\n",
    "    sess.run(init)\n",
    "\n",
    "\n",
    "    for step in range(1, training_steps+1):\n",
    "        batch_x, batch_y = mnist.train.next_batch(batch_size)\n",
    "        # Reshape data to get 28 seq of 28 elements\n",
    "        batch_x = batch_x.reshape((batch_size, timesteps, num_input))\n",
    "        # Run optimization op (backprop)\n",
    "        sess.run(train_op, feed_dict={X: batch_x, Y: batch_y})\n",
    "        if step % display_step == 0 or step == 1:\n",
    "            # Calculate batch loss and accuracy\n",
    "            loss, acc = sess.run([loss_op, accuracy], feed_dict={X: batch_x,\n",
    "                                                                 Y: batch_y})\n",
    "            print(\"Step \" + str(step) + \", Minibatch Loss= \" + \\\n",
    "                  \"{:.4f}\".format(loss) + \", Training Accuracy= \" + \\\n",
    "                  \"{:.3f}\".format(acc))\n",
    "\n",
    "    print(\"Optimization Finished!\")\n",
    "\n",
    "    # Calculate accuracy for 128 mnist test images\n",
    "    test_len = 128\n",
    "    test_data = mnist.test.images[:test_len].reshape((-1, timesteps, num_input))\n",
    "    test_label = mnist.test.labels[:test_len]\n",
    "    print(\"Testing Accuracy:\", \\\n",
    "        sess.run(accuracy, feed_dict={X: test_data, Y: test_label}))"
   ]
  },
  {
   "cell_type": "markdown",
   "metadata": {},
   "source": [
    "---\n",
    "##  Bi-directinal RNN (Static)"
   ]
  },
  {
   "cell_type": "markdown",
   "metadata": {},
   "source": [
    "tf.nn.static_bidirectional_rnn\n",
    " - 시작시에 미리 모델을 다 만듦 - 로딩이 길지만 학습은 빠름\n",
    " - 인풋이 List of 2-d tensor(batch, input), 즉 sequence 만큼 list\n",
    "\n",
    "tf.nn.bidirectional_dynamic_rnn\n",
    " - 학습중에 모델을 동적으로 만듦 - 로딩이 짧지만 학습이 느림\n",
    " - 인풋이 3-d  tensor(batch, seq, input) 기본이 batch major"
   ]
  },
  {
   "cell_type": "code",
   "execution_count": 1,
   "metadata": {
    "collapsed": true
   },
   "outputs": [],
   "source": [
    "import numpy as np"
   ]
  },
  {
   "cell_type": "code",
   "execution_count": 2,
   "metadata": {},
   "outputs": [
    {
     "data": {
      "text/plain": [
       "array([[[ 0,  1,  2,  3,  4],\n",
       "        [ 5,  6,  7,  8,  9]],\n",
       "\n",
       "       [[10, 11, 12, 13, 14],\n",
       "        [15, 16, 17, 18, 19]],\n",
       "\n",
       "       [[20, 21, 22, 23, 24],\n",
       "        [25, 26, 27, 28, 29]]])"
      ]
     },
     "execution_count": 2,
     "metadata": {},
     "output_type": "execute_result"
    }
   ],
   "source": [
    "a = np.arange(30).reshape([3,2,5])\n",
    "a"
   ]
  },
  {
   "cell_type": "code",
   "execution_count": 4,
   "metadata": {},
   "outputs": [
    {
     "data": {
      "text/plain": [
       "[array([[[ 0,  1,  2,  3,  4]],\n",
       " \n",
       "        [[10, 11, 12, 13, 14]],\n",
       " \n",
       "        [[20, 21, 22, 23, 24]]]), array([[[ 5,  6,  7,  8,  9]],\n",
       " \n",
       "        [[15, 16, 17, 18, 19]],\n",
       " \n",
       "        [[25, 26, 27, 28, 29]]])]"
      ]
     },
     "execution_count": 4,
     "metadata": {},
     "output_type": "execute_result"
    }
   ],
   "source": [
    "np.split(a, 2, axis=1)\n",
    "# np.split(a, 5, axis=2)"
   ]
  },
  {
   "cell_type": "code",
   "execution_count": 5,
   "metadata": {},
   "outputs": [
    {
     "data": {
      "text/plain": [
       "[<tf.Tensor 'unstack:0' shape=(3, 5) dtype=int32>,\n",
       " <tf.Tensor 'unstack:1' shape=(3, 5) dtype=int32>]"
      ]
     },
     "execution_count": 5,
     "metadata": {},
     "output_type": "execute_result"
    }
   ],
   "source": [
    "tf.unstack(a, axis=1) # List of tenaor로 리턴, tf.nn.static_bidirectional_rnn에 인풋으로 사용 "
   ]
  },
  {
   "cell_type": "code",
   "execution_count": 6,
   "metadata": {
    "collapsed": true
   },
   "outputs": [],
   "source": [
    "'''\n",
    "To classify images using a bidirectional recurrent neural network, we consider\n",
    "every image row as a sequence of pixels. Because MNIST image shape is 28*28px,\n",
    "we will then handle 28 sequences of 28 steps for every sample.\n",
    "'''\n",
    "\n",
    "# Training Parameters\n",
    "learning_rate = 0.001\n",
    "training_steps = 10000\n",
    "batch_size = 100\n",
    "display_step = 200\n",
    "\n",
    "# Network Parameters\n",
    "num_input = 28 # MNIST data input (img shape: 28*28)\n",
    "timesteps = 28 # timesteps\n",
    "num_hidden = 128 # hidden layer num of features\n",
    "num_classes = 10 # MNIST total classes (0-9 digits)\n",
    "\n",
    "with tf.device('/cpu:0'):\n",
    "# with tf.device('/gpu:0'):\n",
    "    # tf Graph input\n",
    "    X = tf.placeholder(\"float\", [None, timesteps, num_input])\n",
    "    Y = tf.placeholder(\"float\", [None, num_classes])\n",
    "\n",
    "    # Define weights\n",
    "    weights = {\n",
    "        # Hidden layer weights => 2*n_hidden because of forward + backward cells\n",
    "        'out': tf.Variable(tf.random_normal([2*num_hidden, num_classes]))\n",
    "    }\n",
    "    biases = {\n",
    "        'out': tf.Variable(tf.random_normal([num_classes]))\n",
    "    }\n",
    "\n",
    "    def BiRNN(x, weights, biases):\n",
    "\n",
    "        # Prepare data shape to match `rnn` function requirements\n",
    "        # Current data input shape: (batch_size, timesteps, n_input)\n",
    "        # Required shape: 'timesteps' tensors list of shape (batch_size, num_input)\n",
    "\n",
    "        # Unstack to get a list of 'timesteps' tensors of shape (batch_size, num_input)\n",
    "        x = tf.unstack(x, timesteps, 1)\n",
    "        \n",
    "        # Define lstm cells with tensorflow\n",
    "        # Forward direction cell\n",
    "        lstm_fw_cell = rnn.BasicLSTMCell(num_hidden, forget_bias=1.0)\n",
    "        # Backward direction cell\n",
    "        lstm_bw_cell = rnn.BasicLSTMCell(num_hidden, forget_bias=1.0)\n",
    "\n",
    "        # Get lstm cell output\n",
    "        try:\n",
    "            outputs, _, _ = rnn.static_bidirectional_rnn(lstm_fw_cell, lstm_bw_cell, x,\n",
    "                                                  dtype=tf.float32)\n",
    "        except Exception: # Old TensorFlow version only returns outputs not states\n",
    "            outputs = rnn.static_bidirectional_rnn(lstm_fw_cell, lstm_bw_cell, x,\n",
    "                                            dtype=tf.float32)\n",
    "\n",
    "        # Linear activation, using rnn inner loop last output\n",
    "        return tf.matmul(outputs[-1], weights['out']) + biases['out']\n",
    "\n",
    "    logits = BiRNN(X, weights, biases)\n",
    "    prediction = tf.nn.softmax(logits)\n",
    "\n",
    "    # Define loss and optimizer\n",
    "    loss_op = tf.reduce_mean(tf.nn.softmax_cross_entropy_with_logits(\n",
    "        logits=logits, labels=Y))\n",
    "    optimizer = tf.train.GradientDescentOptimizer(learning_rate=learning_rate)\n",
    "    train_op = optimizer.minimize(loss_op)\n",
    "\n",
    "    # Evaluate model (with test logits, for dropout to be disabled)\n",
    "    correct_pred = tf.equal(tf.argmax(prediction, 1), tf.argmax(Y, 1))\n",
    "    accuracy = tf.reduce_mean(tf.cast(correct_pred, tf.float32))\n",
    "\n",
    "# Initialize the variables (i.e. assign their default value)\n",
    "init = tf.global_variables_initializer()"
   ]
  },
  {
   "cell_type": "code",
   "execution_count": 36,
   "metadata": {
    "scrolled": true
   },
   "outputs": [
    {
     "name": "stdout",
     "output_type": "stream",
     "text": [
      "Step 1, Minibatch Loss= 2.7034, Training Accuracy= 0.130\n",
      "Step 200, Minibatch Loss= 2.1622, Training Accuracy= 0.230\n",
      "Step 400, Minibatch Loss= 1.9232, Training Accuracy= 0.450\n",
      "Step 600, Minibatch Loss= 1.6289, Training Accuracy= 0.520\n",
      "Step 800, Minibatch Loss= 1.6521, Training Accuracy= 0.480\n",
      "Step 1000, Minibatch Loss= 1.5981, Training Accuracy= 0.480\n",
      "Step 1200, Minibatch Loss= 1.5832, Training Accuracy= 0.440\n",
      "Step 1400, Minibatch Loss= 1.4323, Training Accuracy= 0.570\n",
      "Step 1600, Minibatch Loss= 1.3384, Training Accuracy= 0.590\n",
      "Step 1800, Minibatch Loss= 1.2887, Training Accuracy= 0.590\n",
      "Step 2000, Minibatch Loss= 1.2511, Training Accuracy= 0.610\n",
      "Step 2200, Minibatch Loss= 1.2084, Training Accuracy= 0.580\n",
      "Step 2400, Minibatch Loss= 1.0337, Training Accuracy= 0.710\n",
      "Step 2600, Minibatch Loss= 1.0508, Training Accuracy= 0.660\n",
      "Step 2800, Minibatch Loss= 1.1189, Training Accuracy= 0.630\n",
      "Step 3000, Minibatch Loss= 1.0811, Training Accuracy= 0.610\n",
      "Step 3200, Minibatch Loss= 1.0023, Training Accuracy= 0.680\n",
      "Step 3400, Minibatch Loss= 0.8933, Training Accuracy= 0.750\n",
      "Step 3600, Minibatch Loss= 0.8330, Training Accuracy= 0.790\n",
      "Step 3800, Minibatch Loss= 0.9317, Training Accuracy= 0.670\n",
      "Step 4000, Minibatch Loss= 0.8478, Training Accuracy= 0.730\n",
      "Step 4200, Minibatch Loss= 0.8928, Training Accuracy= 0.740\n",
      "Step 4400, Minibatch Loss= 0.9933, Training Accuracy= 0.640\n",
      "Step 4600, Minibatch Loss= 0.8437, Training Accuracy= 0.730\n",
      "Step 4800, Minibatch Loss= 0.9793, Training Accuracy= 0.680\n",
      "Step 5000, Minibatch Loss= 0.9181, Training Accuracy= 0.730\n",
      "Step 5200, Minibatch Loss= 0.8392, Training Accuracy= 0.730\n",
      "Step 5400, Minibatch Loss= 0.8743, Training Accuracy= 0.700\n",
      "Step 5600, Minibatch Loss= 0.9147, Training Accuracy= 0.710\n",
      "Step 5800, Minibatch Loss= 0.7438, Training Accuracy= 0.740\n",
      "Step 6000, Minibatch Loss= 0.6807, Training Accuracy= 0.730\n",
      "Step 6200, Minibatch Loss= 0.5119, Training Accuracy= 0.840\n",
      "Step 6400, Minibatch Loss= 0.6533, Training Accuracy= 0.790\n",
      "Step 6600, Minibatch Loss= 0.5862, Training Accuracy= 0.810\n",
      "Step 6800, Minibatch Loss= 0.7614, Training Accuracy= 0.820\n",
      "Step 7000, Minibatch Loss= 0.5196, Training Accuracy= 0.810\n",
      "Step 7200, Minibatch Loss= 0.6347, Training Accuracy= 0.820\n"
     ]
    },
    {
     "ename": "KeyboardInterrupt",
     "evalue": "",
     "output_type": "error",
     "traceback": [
      "\u001b[1;31m---------------------------------------------------------------------------\u001b[0m",
      "\u001b[1;31mKeyboardInterrupt\u001b[0m                         Traceback (most recent call last)",
      "\u001b[1;32m<ipython-input-36-ca3eeb5ff0d1>\u001b[0m in \u001b[0;36m<module>\u001b[1;34m()\u001b[0m\n\u001b[0;32m     10\u001b[0m         \u001b[0mbatch_x\u001b[0m \u001b[1;33m=\u001b[0m \u001b[0mbatch_x\u001b[0m\u001b[1;33m.\u001b[0m\u001b[0mreshape\u001b[0m\u001b[1;33m(\u001b[0m\u001b[1;33m(\u001b[0m\u001b[0mbatch_size\u001b[0m\u001b[1;33m,\u001b[0m \u001b[0mtimesteps\u001b[0m\u001b[1;33m,\u001b[0m \u001b[0mnum_input\u001b[0m\u001b[1;33m)\u001b[0m\u001b[1;33m)\u001b[0m\u001b[1;33m\u001b[0m\u001b[0m\n\u001b[0;32m     11\u001b[0m         \u001b[1;31m# Run optimization op (backprop)\u001b[0m\u001b[1;33m\u001b[0m\u001b[1;33m\u001b[0m\u001b[0m\n\u001b[1;32m---> 12\u001b[1;33m         \u001b[0msess\u001b[0m\u001b[1;33m.\u001b[0m\u001b[0mrun\u001b[0m\u001b[1;33m(\u001b[0m\u001b[0mtrain_op\u001b[0m\u001b[1;33m,\u001b[0m \u001b[0mfeed_dict\u001b[0m\u001b[1;33m=\u001b[0m\u001b[1;33m{\u001b[0m\u001b[0mX\u001b[0m\u001b[1;33m:\u001b[0m \u001b[0mbatch_x\u001b[0m\u001b[1;33m,\u001b[0m \u001b[0mY\u001b[0m\u001b[1;33m:\u001b[0m \u001b[0mbatch_y\u001b[0m\u001b[1;33m}\u001b[0m\u001b[1;33m)\u001b[0m\u001b[1;33m\u001b[0m\u001b[0m\n\u001b[0m\u001b[0;32m     13\u001b[0m         \u001b[1;32mif\u001b[0m \u001b[0mstep\u001b[0m \u001b[1;33m%\u001b[0m \u001b[0mdisplay_step\u001b[0m \u001b[1;33m==\u001b[0m \u001b[1;36m0\u001b[0m \u001b[1;32mor\u001b[0m \u001b[0mstep\u001b[0m \u001b[1;33m==\u001b[0m \u001b[1;36m1\u001b[0m\u001b[1;33m:\u001b[0m\u001b[1;33m\u001b[0m\u001b[0m\n\u001b[0;32m     14\u001b[0m             \u001b[1;31m# Calculate batch loss and accuracy\u001b[0m\u001b[1;33m\u001b[0m\u001b[1;33m\u001b[0m\u001b[0m\n",
      "\u001b[1;32mC:\\ProgramData\\Anaconda3\\lib\\site-packages\\tensorflow\\python\\client\\session.py\u001b[0m in \u001b[0;36mrun\u001b[1;34m(self, fetches, feed_dict, options, run_metadata)\u001b[0m\n\u001b[0;32m    887\u001b[0m     \u001b[1;32mtry\u001b[0m\u001b[1;33m:\u001b[0m\u001b[1;33m\u001b[0m\u001b[0m\n\u001b[0;32m    888\u001b[0m       result = self._run(None, fetches, feed_dict, options_ptr,\n\u001b[1;32m--> 889\u001b[1;33m                          run_metadata_ptr)\n\u001b[0m\u001b[0;32m    890\u001b[0m       \u001b[1;32mif\u001b[0m \u001b[0mrun_metadata\u001b[0m\u001b[1;33m:\u001b[0m\u001b[1;33m\u001b[0m\u001b[0m\n\u001b[0;32m    891\u001b[0m         \u001b[0mproto_data\u001b[0m \u001b[1;33m=\u001b[0m \u001b[0mtf_session\u001b[0m\u001b[1;33m.\u001b[0m\u001b[0mTF_GetBuffer\u001b[0m\u001b[1;33m(\u001b[0m\u001b[0mrun_metadata_ptr\u001b[0m\u001b[1;33m)\u001b[0m\u001b[1;33m\u001b[0m\u001b[0m\n",
      "\u001b[1;32mC:\\ProgramData\\Anaconda3\\lib\\site-packages\\tensorflow\\python\\client\\session.py\u001b[0m in \u001b[0;36m_run\u001b[1;34m(self, handle, fetches, feed_dict, options, run_metadata)\u001b[0m\n\u001b[0;32m   1118\u001b[0m     \u001b[1;32mif\u001b[0m \u001b[0mfinal_fetches\u001b[0m \u001b[1;32mor\u001b[0m \u001b[0mfinal_targets\u001b[0m \u001b[1;32mor\u001b[0m \u001b[1;33m(\u001b[0m\u001b[0mhandle\u001b[0m \u001b[1;32mand\u001b[0m \u001b[0mfeed_dict_tensor\u001b[0m\u001b[1;33m)\u001b[0m\u001b[1;33m:\u001b[0m\u001b[1;33m\u001b[0m\u001b[0m\n\u001b[0;32m   1119\u001b[0m       results = self._do_run(handle, final_targets, final_fetches,\n\u001b[1;32m-> 1120\u001b[1;33m                              feed_dict_tensor, options, run_metadata)\n\u001b[0m\u001b[0;32m   1121\u001b[0m     \u001b[1;32melse\u001b[0m\u001b[1;33m:\u001b[0m\u001b[1;33m\u001b[0m\u001b[0m\n\u001b[0;32m   1122\u001b[0m       \u001b[0mresults\u001b[0m \u001b[1;33m=\u001b[0m \u001b[1;33m[\u001b[0m\u001b[1;33m]\u001b[0m\u001b[1;33m\u001b[0m\u001b[0m\n",
      "\u001b[1;32mC:\\ProgramData\\Anaconda3\\lib\\site-packages\\tensorflow\\python\\client\\session.py\u001b[0m in \u001b[0;36m_do_run\u001b[1;34m(self, handle, target_list, fetch_list, feed_dict, options, run_metadata)\u001b[0m\n\u001b[0;32m   1315\u001b[0m     \u001b[1;32mif\u001b[0m \u001b[0mhandle\u001b[0m \u001b[1;32mis\u001b[0m \u001b[1;32mNone\u001b[0m\u001b[1;33m:\u001b[0m\u001b[1;33m\u001b[0m\u001b[0m\n\u001b[0;32m   1316\u001b[0m       return self._do_call(_run_fn, self._session, feeds, fetches, targets,\n\u001b[1;32m-> 1317\u001b[1;33m                            options, run_metadata)\n\u001b[0m\u001b[0;32m   1318\u001b[0m     \u001b[1;32melse\u001b[0m\u001b[1;33m:\u001b[0m\u001b[1;33m\u001b[0m\u001b[0m\n\u001b[0;32m   1319\u001b[0m       \u001b[1;32mreturn\u001b[0m \u001b[0mself\u001b[0m\u001b[1;33m.\u001b[0m\u001b[0m_do_call\u001b[0m\u001b[1;33m(\u001b[0m\u001b[0m_prun_fn\u001b[0m\u001b[1;33m,\u001b[0m \u001b[0mself\u001b[0m\u001b[1;33m.\u001b[0m\u001b[0m_session\u001b[0m\u001b[1;33m,\u001b[0m \u001b[0mhandle\u001b[0m\u001b[1;33m,\u001b[0m \u001b[0mfeeds\u001b[0m\u001b[1;33m,\u001b[0m \u001b[0mfetches\u001b[0m\u001b[1;33m)\u001b[0m\u001b[1;33m\u001b[0m\u001b[0m\n",
      "\u001b[1;32mC:\\ProgramData\\Anaconda3\\lib\\site-packages\\tensorflow\\python\\client\\session.py\u001b[0m in \u001b[0;36m_do_call\u001b[1;34m(self, fn, *args)\u001b[0m\n\u001b[0;32m   1321\u001b[0m   \u001b[1;32mdef\u001b[0m \u001b[0m_do_call\u001b[0m\u001b[1;33m(\u001b[0m\u001b[0mself\u001b[0m\u001b[1;33m,\u001b[0m \u001b[0mfn\u001b[0m\u001b[1;33m,\u001b[0m \u001b[1;33m*\u001b[0m\u001b[0margs\u001b[0m\u001b[1;33m)\u001b[0m\u001b[1;33m:\u001b[0m\u001b[1;33m\u001b[0m\u001b[0m\n\u001b[0;32m   1322\u001b[0m     \u001b[1;32mtry\u001b[0m\u001b[1;33m:\u001b[0m\u001b[1;33m\u001b[0m\u001b[0m\n\u001b[1;32m-> 1323\u001b[1;33m       \u001b[1;32mreturn\u001b[0m \u001b[0mfn\u001b[0m\u001b[1;33m(\u001b[0m\u001b[1;33m*\u001b[0m\u001b[0margs\u001b[0m\u001b[1;33m)\u001b[0m\u001b[1;33m\u001b[0m\u001b[0m\n\u001b[0m\u001b[0;32m   1324\u001b[0m     \u001b[1;32mexcept\u001b[0m \u001b[0merrors\u001b[0m\u001b[1;33m.\u001b[0m\u001b[0mOpError\u001b[0m \u001b[1;32mas\u001b[0m \u001b[0me\u001b[0m\u001b[1;33m:\u001b[0m\u001b[1;33m\u001b[0m\u001b[0m\n\u001b[0;32m   1325\u001b[0m       \u001b[0mmessage\u001b[0m \u001b[1;33m=\u001b[0m \u001b[0mcompat\u001b[0m\u001b[1;33m.\u001b[0m\u001b[0mas_text\u001b[0m\u001b[1;33m(\u001b[0m\u001b[0me\u001b[0m\u001b[1;33m.\u001b[0m\u001b[0mmessage\u001b[0m\u001b[1;33m)\u001b[0m\u001b[1;33m\u001b[0m\u001b[0m\n",
      "\u001b[1;32mC:\\ProgramData\\Anaconda3\\lib\\site-packages\\tensorflow\\python\\client\\session.py\u001b[0m in \u001b[0;36m_run_fn\u001b[1;34m(session, feed_dict, fetch_list, target_list, options, run_metadata)\u001b[0m\n\u001b[0;32m   1300\u001b[0m           return tf_session.TF_Run(session, options,\n\u001b[0;32m   1301\u001b[0m                                    \u001b[0mfeed_dict\u001b[0m\u001b[1;33m,\u001b[0m \u001b[0mfetch_list\u001b[0m\u001b[1;33m,\u001b[0m \u001b[0mtarget_list\u001b[0m\u001b[1;33m,\u001b[0m\u001b[1;33m\u001b[0m\u001b[0m\n\u001b[1;32m-> 1302\u001b[1;33m                                    status, run_metadata)\n\u001b[0m\u001b[0;32m   1303\u001b[0m \u001b[1;33m\u001b[0m\u001b[0m\n\u001b[0;32m   1304\u001b[0m     \u001b[1;32mdef\u001b[0m \u001b[0m_prun_fn\u001b[0m\u001b[1;33m(\u001b[0m\u001b[0msession\u001b[0m\u001b[1;33m,\u001b[0m \u001b[0mhandle\u001b[0m\u001b[1;33m,\u001b[0m \u001b[0mfeed_dict\u001b[0m\u001b[1;33m,\u001b[0m \u001b[0mfetch_list\u001b[0m\u001b[1;33m)\u001b[0m\u001b[1;33m:\u001b[0m\u001b[1;33m\u001b[0m\u001b[0m\n",
      "\u001b[1;31mKeyboardInterrupt\u001b[0m: "
     ]
    }
   ],
   "source": [
    "# Start training\n",
    "with tf.Session() as sess:\n",
    "\n",
    "    # Run the initializer\n",
    "    sess.run(init)\n",
    "\n",
    "    for step in range(1, training_steps+1):\n",
    "        batch_x, batch_y = mnist.train.next_batch(batch_size)\n",
    "        # Reshape data to get 28 seq of 28 elements\n",
    "        batch_x = batch_x.reshape((batch_size, timesteps, num_input))\n",
    "        # Run optimization op (backprop)\n",
    "        sess.run(train_op, feed_dict={X: batch_x, Y: batch_y})\n",
    "        if step % display_step == 0 or step == 1:\n",
    "            # Calculate batch loss and accuracy\n",
    "            loss, acc = sess.run([loss_op, accuracy], feed_dict={X: batch_x,\n",
    "                                                                 Y: batch_y})\n",
    "            print(\"Step \" + str(step) + \", Minibatch Loss= \" + \\\n",
    "                  \"{:.4f}\".format(loss) + \", Training Accuracy= \" + \\\n",
    "                  \"{:.3f}\".format(acc))\n",
    "\n",
    "    print(\"Optimization Finished!\")\n",
    "\n",
    "    # Calculate accuracy for 128 mnist test images\n",
    "    test_len = 128\n",
    "    test_data = mnist.test.images[:test_len].reshape((-1, timesteps, num_input))\n",
    "    test_label = mnist.test.labels[:test_len]\n",
    "    print(\"Testing Accuracy:\", \\\n",
    "        sess.run(accuracy, feed_dict={X: test_data, Y: test_label}))"
   ]
  }
 ],
 "metadata": {
  "kernelspec": {
   "display_name": "Python 3",
   "language": "python",
   "name": "python3"
  },
  "language_info": {
   "codemirror_mode": {
    "name": "ipython",
    "version": 3
   },
   "file_extension": ".py",
   "mimetype": "text/x-python",
   "name": "python",
   "nbconvert_exporter": "python",
   "pygments_lexer": "ipython3",
   "version": "3.6.2"
  }
 },
 "nbformat": 4,
 "nbformat_minor": 2
}
