{
 "cells": [
  {
   "cell_type": "markdown",
   "metadata": {},
   "source": [
    "## practice"
   ]
  },
  {
   "cell_type": "code",
   "execution_count": 1,
   "metadata": {},
   "outputs": [
    {
     "name": "stderr",
     "output_type": "stream",
     "text": [
      "C:\\ProgramData\\Anaconda3\\lib\\site-packages\\h5py\\__init__.py:34: FutureWarning: Conversion of the second argument of issubdtype from `float` to `np.floating` is deprecated. In future, it will be treated as `np.float64 == np.dtype(float).type`.\n",
      "  from ._conv import register_converters as _register_converters\n"
     ]
    },
    {
     "name": "stdout",
     "output_type": "stream",
     "text": [
      "b'Hello, TensorFlow!'\n"
     ]
    },
    {
     "data": {
      "text/plain": [
       "[[[1.0, 2.0, 3.0]], [[7.0, 8.0, 9.0]]]"
      ]
     },
     "execution_count": 1,
     "metadata": {},
     "output_type": "execute_result"
    }
   ],
   "source": [
    "import tensorflow as tf\n",
    "tf.__version__\n",
    "## '1.4.0'\n",
    "\n",
    "# Create a constant op\n",
    "# This op is added as a node to the default graph\n",
    "hello = tf.constant(\"Hello, TensorFlow!\")\n",
    "\n",
    "# start a TF session\n",
    "sess = tf.Session()\n",
    "\n",
    "# run the op and get result\n",
    "print(sess.run(hello))\n",
    "\n",
    "## b'Hello, TensorFlow!'\n",
    "\n",
    "3 # a rank 0 tensor; this is a scalar with shape []\n",
    "[1. ,2., 3.] # a rank 1 tensor; this is a vector with shape [3]\n",
    "[[1., 2., 3.], [4., 5., 6.]] # a rank 2 tensor; a matrix with shape [2, 3]\n",
    "[[[1., 2., 3.]], [[7., 8., 9.]]] # a rank 3 tensor with shape [2, 1, 3]\n",
    "\n"
   ]
  },
  {
   "cell_type": "code",
   "execution_count": 3,
   "metadata": {},
   "outputs": [
    {
     "data": {
      "text/plain": [
       "[]"
      ]
     },
     "execution_count": 3,
     "metadata": {},
     "output_type": "execute_result"
    }
   ],
   "source": [
    "tf.global_variables()"
   ]
  },
  {
   "cell_type": "code",
   "execution_count": 9,
   "metadata": {},
   "outputs": [
    {
     "name": "stdout",
     "output_type": "stream",
     "text": [
      "node1: Tensor(\"Const_4:0\", shape=(), dtype=float32) node2: Tensor(\"my_node2:0\", shape=(), dtype=float32)\n",
      "node3:  Tensor(\"Add_2:0\", shape=(), dtype=float32)\n",
      "sess.run(node1, node2):  [3.0, 4.0]\n",
      "sess.run(node3):  7.0\n"
     ]
    }
   ],
   "source": [
    "node1 = tf.constant(3.0, tf.float32)\n",
    "node2 = tf.constant(4.0, name='my_node2') # also tf.float32 implicitly\n",
    "node3 = tf.add(node1, node2)\n",
    "\n",
    "print(\"node1:\", node1, \"node2:\", node2)\n",
    "print(\"node3: \", node3)\n",
    "\n",
    "## node1: Tensor(\"Const_1:0\", shape=(), dtype=float32) node2: Tensor(\"Const_2:0\", shape=(), dtype=float32)\n",
    "## node3:  Tensor(\"Add:0\", shape=(), dtype=float32)\n",
    "\n",
    "sess = tf.Session()\n",
    "print(\"sess.run(node1, node2): \", sess.run([node1, node2]))\n",
    "print(\"sess.run(node3): \", sess.run(node3))\n",
    "\n",
    "## sess.run(node1, node2):  [3.0, 4.0]\n",
    "## sess.run(node3):  7.0"
   ]
  },
  {
   "cell_type": "code",
   "execution_count": 10,
   "metadata": {},
   "outputs": [
    {
     "data": {
      "text/plain": [
       "<tf.Tensor 'my_node2:0' shape=() dtype=float32>"
      ]
     },
     "execution_count": 10,
     "metadata": {},
     "output_type": "execute_result"
    }
   ],
   "source": [
    "node2"
   ]
  },
  {
   "cell_type": "code",
   "execution_count": 11,
   "metadata": {},
   "outputs": [
    {
     "name": "stdout",
     "output_type": "stream",
     "text": [
      "7.5\n",
      "[3. 7.]\n",
      "22.5\n"
     ]
    }
   ],
   "source": [
    "a = tf.placeholder(tf.float32)\n",
    "b = tf.placeholder(tf.float32)\n",
    "adder_node = a + b  # + provides a shortcut for tf.add(a, b)\n",
    "\n",
    "print(sess.run(adder_node, feed_dict={a: 3, b: 4.5}))\n",
    "print(sess.run(adder_node, feed_dict={a: [1,3], b: [2, 4]}))\n",
    "\n",
    "## 7.5\n",
    "## [ 3.  7.]\n",
    "\n",
    "add_and_triple = adder_node * 3.\n",
    "print(sess.run(add_and_triple, feed_dict={a: 3, b:4.5}))\n",
    "# 22.5\n"
   ]
  },
  {
   "cell_type": "code",
   "execution_count": 17,
   "metadata": {},
   "outputs": [
    {
     "name": "stdout",
     "output_type": "stream",
     "text": [
      "[[5.]\n",
      " [6.]\n",
      " [7.]]\n"
     ]
    }
   ],
   "source": [
    "a = tf.placeholder(tf.float32)\n",
    "b = tf.placeholder(shape=[None, 1], dtype=tf.float32)\n",
    "adder_node = a + b  # + provides a shortcut for tf.add(a, b)\n",
    "\n",
    "print(sess.run(adder_node, feed_dict={a: [[2],[2],[2]], b: [[3],[4],[5]]}))"
   ]
  },
  {
   "cell_type": "code",
   "execution_count": 32,
   "metadata": {
    "collapsed": true
   },
   "outputs": [],
   "source": [
    "# X and Y data\n",
    "x_train = [1, 2, 3]\n",
    "y_train = [1, 2, 3]\n",
    "\n",
    "# Try to find values for W and b to compute y_data = x_data * W + b\n",
    "# We know that W should be 1 and b should be 0\n",
    "# But let TensorFlow figure it out\n",
    "W = tf.Variable(tf.random_normal([1]), name='weight')\n",
    "b = tf.Variable(tf.random_normal([1]), name='bias')\n",
    "\n",
    "# Our hypothesis XW+b\n",
    "hypothesis = x_train * W + b\n"
   ]
  },
  {
   "cell_type": "code",
   "execution_count": 22,
   "metadata": {},
   "outputs": [
    {
     "data": {
      "text/plain": [
       "array([-0.33075207], dtype=float32)"
      ]
     },
     "execution_count": 22,
     "metadata": {},
     "output_type": "execute_result"
    }
   ],
   "source": [
    "sess.run(tf.global_variables_initializer())\n",
    "sess.run(W)"
   ]
  },
  {
   "cell_type": "code",
   "execution_count": 34,
   "metadata": {
    "scrolled": true
   },
   "outputs": [
    {
     "name": "stdout",
     "output_type": "stream",
     "text": [
      "0 4.7123103 [-0.33709452] [0.7979085]\n",
      "20 0.21669938 [0.43445432] [1.0721725]\n",
      "40 0.15997095 [0.52851576] [1.0514703]\n",
      "60 0.14495413 [0.55709946] [1.0048816]\n",
      "80 0.13164662 [0.5785261] [0.95792514]\n",
      "100 0.11956353 [0.598392] [0.91293174]\n",
      "120 0.10858955 [0.61727166] [0.87002987]\n",
      "140 0.09862273 [0.6352591] [0.8291418]\n",
      "160 0.08957073 [0.6524007] [0.7901751]\n",
      "180 0.0813495 [0.6687366] [0.7530397]\n",
      "200 0.073882945 [0.6843048] [0.7176496]\n",
      "220 0.06710166 [0.69914126] [0.6839226]\n",
      "240 0.060942773 [0.7132806] [0.6517807]\n",
      "260 0.05534923 [0.7267553] [0.6211495]\n",
      "280 0.050269037 [0.7395968] [0.5919577]\n",
      "300 0.04565515 [0.75183475] [0.5641378]\n",
      "320 0.041464742 [0.76349765] [0.5376254]\n",
      "340 0.03765893 [0.7746124] [0.5123589]\n",
      "360 0.034202453 [0.7852048] [0.48827997]\n",
      "380 0.03106322 [0.7952995] [0.46533257]\n",
      "400 0.028212123 [0.8049196] [0.44346365]\n",
      "420 0.025622701 [0.81408757] [0.42262253]\n",
      "440 0.023270935 [0.8228248] [0.4027609]\n",
      "460 0.021135045 [0.83115137] [0.38383263]\n",
      "480 0.019195182 [0.8390866] [0.36579394]\n",
      "500 0.017433373 [0.84664905] [0.34860295]\n",
      "520 0.015833274 [0.8538559] [0.3322199]\n",
      "540 0.014380028 [0.8607242] [0.3166067]\n",
      "560 0.013060156 [0.86726964] [0.3017273]\n",
      "580 0.011861455 [0.87350744] [0.28754726]\n",
      "600 0.010772769 [0.87945217] [0.2740336]\n",
      "620 0.009783995 [0.8851175] [0.26115507]\n",
      "640 0.008885983 [0.8905165] [0.24888168]\n",
      "660 0.008070383 [0.89566183] [0.23718517]\n",
      "680 0.007329659 [0.9005654] [0.2260383]\n",
      "700 0.006656905 [0.9052384] [0.2154153]\n",
      "720 0.006045911 [0.9096919] [0.20529161]\n",
      "740 0.005490999 [0.913936] [0.19564368]\n",
      "760 0.0049870145 [0.9179807] [0.18644914]\n",
      "780 0.004529293 [0.9218353] [0.17768677]\n",
      "800 0.0041135736 [0.92550874] [0.16933616]\n",
      "820 0.0037360126 [0.9290096] [0.161378]\n",
      "840 0.003393111 [0.9323458] [0.15379383]\n",
      "860 0.003081671 [0.93552536] [0.14656611]\n",
      "880 0.0027988274 [0.9385553] [0.13967805]\n",
      "900 0.0025419374 [0.941443] [0.13311376]\n",
      "920 0.002308632 [0.944195] [0.12685788]\n",
      "940 0.0020967352 [0.9468176] [0.12089604]\n",
      "960 0.0019042931 [0.949317] [0.11521442]\n",
      "980 0.0017295014 [0.9516989] [0.10979977]\n",
      "1000 0.0015707668 [0.9539688] [0.1046396]\n",
      "1020 0.0014265943 [0.9561322] [0.09972193]\n",
      "1040 0.0012956603 [0.9581937] [0.09503536]\n",
      "1060 0.0011767392 [0.9601585] [0.09056909]\n",
      "1080 0.0010687298 [0.9620309] [0.08631268]\n",
      "1100 0.0009706361 [0.9638153] [0.08225632]\n",
      "1120 0.0008815508 [0.96551585] [0.07839058]\n",
      "1140 0.0008006369 [0.9671365] [0.07470653]\n",
      "1160 0.00072715344 [0.96868086] [0.07119562]\n",
      "1180 0.0006604145 [0.9701528] [0.06784975]\n",
      "1200 0.00059979846 [0.97155553] [0.06466103]\n",
      "1220 0.00054474565 [0.97289234] [0.0616222]\n",
      "1240 0.00049474917 [0.9741663] [0.05872615]\n",
      "1260 0.0004493372 [0.9753804] [0.05596622]\n",
      "1280 0.00040809522 [0.9765374] [0.05333602]\n",
      "1300 0.00037063906 [0.97764] [0.05082944]\n",
      "1320 0.00033661767 [0.9786909] [0.04844067]\n",
      "1340 0.00030572317 [0.9796923] [0.04616416]\n",
      "1360 0.00027766198 [0.98064667] [0.04399462]\n",
      "1380 0.00025217704 [0.98155624] [0.04192703]\n",
      "1400 0.00022903371 [0.982423] [0.0399566]\n",
      "1420 0.00020801165 [0.98324907] [0.03807879]\n",
      "1440 0.00018891941 [0.98403627] [0.03628922]\n",
      "1460 0.00017157763 [0.98478657] [0.03458376]\n",
      "1480 0.00015582943 [0.9855016] [0.03295841]\n",
      "1500 0.00014152765 [0.9861829] [0.03140946]\n",
      "1520 0.00012853775 [0.9868323] [0.02993332]\n",
      "1540 0.00011673998 [0.98745114] [0.02852657]\n",
      "1560 0.000106026004 [0.98804086] [0.02718592]\n",
      "1580 9.629319e-05 [0.9886029] [0.02590829]\n",
      "1600 8.745561e-05 [0.9891384] [0.02469072]\n",
      "1620 7.942837e-05 [0.98964894] [0.02353036]\n",
      "1640 7.213819e-05 [0.99013555] [0.0224245]\n",
      "1660 6.551586e-05 [0.99059916] [0.02137055]\n",
      "1680 5.950262e-05 [0.9910409] [0.02036619]\n",
      "1700 5.4041913e-05 [0.99146193] [0.01940905]\n",
      "1720 4.908147e-05 [0.9918632] [0.01849688]\n",
      "1740 4.457726e-05 [0.99224555] [0.01762759]\n",
      "1760 4.0484465e-05 [0.99261004] [0.01679915]\n",
      "1780 3.6769565e-05 [0.9929573] [0.01600966]\n",
      "1800 3.3394037e-05 [0.9932883] [0.01525728]\n",
      "1820 3.0329184e-05 [0.9936037] [0.01454026]\n",
      "1840 2.7546184e-05 [0.9939043] [0.01385692]\n",
      "1860 2.5016663e-05 [0.9941908] [0.01320569]\n",
      "1880 2.2721215e-05 [0.9944638] [0.01258507]\n",
      "1900 2.0635598e-05 [0.9947239] [0.01199362]\n",
      "1920 1.8741666e-05 [0.9949719] [0.01143]\n",
      "1940 1.7021675e-05 [0.99520826] [0.01089285]\n",
      "1960 1.545874e-05 [0.99543345] [0.01038091]\n",
      "1980 1.4040343e-05 [0.995648] [0.00989303]\n",
      "2000 1.2751672e-05 [0.9958526] [0.00942809]\n"
     ]
    }
   ],
   "source": [
    "# cost/loss function\n",
    "cost = tf.reduce_mean(tf.square(hypothesis - y_train))\n",
    "\n",
    "# Minimize\n",
    "optimizer = tf.train.GradientDescentOptimizer(learning_rate=0.01)\n",
    "train = optimizer.minimize(cost)\n",
    "\n",
    "# Launch the graph in a session.\n",
    "sess = tf.Session()\n",
    "# Initializes global variables in the graph.\n",
    "sess.run(tf.global_variables_initializer())\n",
    "\n",
    "# Fit the line\n",
    "for step in range(2001):\n",
    "    sess.run(train)\n",
    "    if step % 20 == 0:\n",
    "        print(step, sess.run(cost), sess.run(W), sess.run(b))\n"
   ]
  },
  {
   "cell_type": "code",
   "execution_count": 25,
   "metadata": {
    "collapsed": true
   },
   "outputs": [],
   "source": [
    "import numpy as np"
   ]
  },
  {
   "cell_type": "code",
   "execution_count": 26,
   "metadata": {
    "collapsed": true
   },
   "outputs": [],
   "source": [
    "# [1,2,3]*[4]\n",
    "a = np.array([1,2,3])\n",
    "b = [4]"
   ]
  },
  {
   "cell_type": "code",
   "execution_count": 30,
   "metadata": {},
   "outputs": [
    {
     "data": {
      "text/plain": [
       "6"
      ]
     },
     "execution_count": 30,
     "metadata": {},
     "output_type": "execute_result"
    }
   ],
   "source": [
    "np.matmul(a,[1,1,1])"
   ]
  },
  {
   "cell_type": "code",
   "execution_count": 36,
   "metadata": {},
   "outputs": [
    {
     "name": "stdout",
     "output_type": "stream",
     "text": [
      "Extracting MNIST_data/train-images-idx3-ubyte.gz\n",
      "Extracting MNIST_data/train-labels-idx1-ubyte.gz\n",
      "Extracting MNIST_data/t10k-images-idx3-ubyte.gz\n",
      "Extracting MNIST_data/t10k-labels-idx1-ubyte.gz\n"
     ]
    }
   ],
   "source": [
    "# import tensorflow as tf\n",
    "import random\n",
    "from tensorflow.examples.tutorials.mnist import input_data\n",
    "\n",
    "tf.set_random_seed(777)  # reproducibility\n",
    "\n",
    "mnist = input_data.read_data_sets(\"MNIST_data/\", one_hot=True)\n",
    "# Check out https://www.tensorflow.org/get_started/mnist/beginners for\n",
    "# more information about the mnist dataset\n",
    "\n",
    "# parameters\n",
    "learning_rate = 0.001\n",
    "training_epochs = 15\n",
    "batch_size = 100\n",
    "\n",
    "# input place holders\n",
    "X = tf.placeholder(tf.float32, [None, 784])\n",
    "Y = tf.placeholder(tf.float32, [None, 10])\n",
    "\n",
    "# 1-hidden layer\n",
    "W1 = tf.Variable(tf.random_normal([784, 256]))\n",
    "b1 = tf.Variable(tf.random_normal([256]))\n",
    "L1 = tf.nn.relu(tf.matmul(X, W1) + b1)\n",
    "\n",
    "W2 = tf.Variable(tf.random_normal([256, 10]))\n",
    "b2 = tf.Variable(tf.random_normal([10]))\n",
    "hypothesis = tf.matmul(L1, W2) + b2\n",
    "# define cost/loss & optimizer\n",
    "cost = tf.reduce_mean(tf.nn.softmax_cross_entropy_with_logits(\n",
    "    logits=hypothesis, labels=Y))\n",
    "optimizer = tf.train.AdamOptimizer(learning_rate=learning_rate).minimize(cost)\n"
   ]
  },
  {
   "cell_type": "code",
   "execution_count": 43,
   "metadata": {
    "scrolled": true
   },
   "outputs": [
    {
     "name": "stdout",
     "output_type": "stream",
     "text": [
      "Total step: 8250\n",
      "step 0: acc_tr 0.115236, acc_tt 0.1118, cost 107.596\n",
      "step 200: acc_tr 0.734345, acc_tt 0.7344, cost 12.3757\n",
      "step 400: acc_tr 0.815545, acc_tt 0.8206, cost 7.87124\n",
      "step 600: acc_tr 0.848782, acc_tt 0.8516, cost 6.05923\n",
      "step 800: acc_tr 0.8676, acc_tt 0.8668, cost 5.12064\n",
      "step 1000: acc_tr 0.882436, acc_tt 0.8786, cost 4.32357\n",
      "step 1200: acc_tr 0.894527, acc_tt 0.888, cost 3.80413\n",
      "step 1400: acc_tr 0.899109, acc_tt 0.8946, cost 3.61203\n",
      "step 1600: acc_tr 0.907418, acc_tt 0.8996, cost 3.21624\n",
      "step 1800: acc_tr 0.913745, acc_tt 0.9056, cost 3.05542\n",
      "step 2000: acc_tr 0.920218, acc_tt 0.9148, cost 2.7779\n",
      "step 2200: acc_tr 0.9256, acc_tt 0.919, cost 2.6144\n",
      "step 2400: acc_tr 0.927745, acc_tt 0.921, cost 2.52929\n",
      "step 2600: acc_tr 0.926764, acc_tt 0.9214, cost 2.50238\n",
      "step 2800: acc_tr 0.936727, acc_tt 0.9284, cost 2.29012\n",
      "step 3000: acc_tr 0.933582, acc_tt 0.9258, cost 2.30602\n",
      "step 3200: acc_tr 0.941164, acc_tt 0.9316, cost 2.15108\n",
      "step 3400: acc_tr 0.945182, acc_tt 0.9354, cost 2.0155\n",
      "step 3600: acc_tr 0.948691, acc_tt 0.9348, cost 1.939\n",
      "step 3800: acc_tr 0.950473, acc_tt 0.936, cost 1.9054\n",
      "step 4000: acc_tr 0.9524, acc_tt 0.938, cost 1.8658\n",
      "step 4200: acc_tr 0.955, acc_tt 0.9384, cost 1.80518\n",
      "step 4400: acc_tr 0.957818, acc_tt 0.9398, cost 1.72661\n",
      "step 4600: acc_tr 0.961036, acc_tt 0.9412, cost 1.72475\n",
      "step 4800: acc_tr 0.9616, acc_tt 0.9442, cost 1.67034\n",
      "step 5000: acc_tr 0.960891, acc_tt 0.9402, cost 1.66681\n",
      "step 5200: acc_tr 0.962564, acc_tt 0.9422, cost 1.64149\n",
      "step 5400: acc_tr 0.966182, acc_tt 0.9446, cost 1.56746\n",
      "step 5600: acc_tr 0.968618, acc_tt 0.945, cost 1.56063\n",
      "step 5800: acc_tr 0.968036, acc_tt 0.9434, cost 1.55956\n",
      "step 6000: acc_tr 0.9716, acc_tt 0.9458, cost 1.51211\n",
      "step 6200: acc_tr 0.973491, acc_tt 0.946, cost 1.48395\n",
      "step 6400: acc_tr 0.9738, acc_tt 0.9442, cost 1.47634\n",
      "step 6600: acc_tr 0.9724, acc_tt 0.944, cost 1.49491\n",
      "step 6800: acc_tr 0.975927, acc_tt 0.9466, cost 1.46092\n",
      "step 7000: acc_tr 0.977055, acc_tt 0.9466, cost 1.3985\n",
      "step 7200: acc_tr 0.978309, acc_tt 0.949, cost 1.39615\n",
      "step 7400: acc_tr 0.973964, acc_tt 0.9458, cost 1.47734\n",
      "step 7600: acc_tr 0.9778, acc_tt 0.9476, cost 1.40014\n",
      "step 7800: acc_tr 0.982182, acc_tt 0.9476, cost 1.38593\n",
      "step 8000: acc_tr 0.982109, acc_tt 0.9482, cost 1.34515\n",
      "step 8200: acc_tr 0.982545, acc_tt 0.9478, cost 1.3538\n",
      "step 8400: acc_tr 0.985327, acc_tt 0.9482, cost 1.31213\n",
      "step 8600: acc_tr 0.983818, acc_tt 0.9498, cost 1.34456\n",
      "step 8800: acc_tr 0.983127, acc_tt 0.9486, cost 1.31927\n",
      "step 9000: acc_tr 0.987836, acc_tt 0.9492, cost 1.28414\n",
      "step 9200: acc_tr 0.987855, acc_tt 0.9498, cost 1.24558\n",
      "step 9400: acc_tr 0.9886, acc_tt 0.9496, cost 1.26622\n",
      "step 9600: acc_tr 0.985164, acc_tt 0.9496, cost 1.31402\n",
      "step 9800: acc_tr 0.987364, acc_tt 0.9498, cost 1.23351\n",
      "step 10000: acc_tr 0.989818, acc_tt 0.9504, cost 1.25927\n",
      "step 10200: acc_tr 0.990291, acc_tt 0.95, cost 1.24951\n",
      "step 10400: acc_tr 0.986582, acc_tt 0.9472, cost 1.29996\n",
      "step 10600: acc_tr 0.988345, acc_tt 0.9492, cost 1.24907\n",
      "step 10800: acc_tr 0.989073, acc_tt 0.9508, cost 1.23647\n",
      "step 11000: acc_tr 0.990345, acc_tt 0.9512, cost 1.25453\n",
      "step 11200: acc_tr 0.988055, acc_tt 0.9506, cost 1.27405\n",
      "step 11400: acc_tr 0.992545, acc_tt 0.9554, cost 1.21764\n",
      "step 11600: acc_tr 0.991382, acc_tt 0.9508, cost 1.21928\n",
      "step 11800: acc_tr 0.989509, acc_tt 0.9508, cost 1.25195\n",
      "step 12000: acc_tr 0.993091, acc_tt 0.9522, cost 1.21217\n",
      "step 12200: acc_tr 0.993291, acc_tt 0.9518, cost 1.20303\n",
      "step 12400: acc_tr 0.993945, acc_tt 0.9536, cost 1.18478\n",
      "step 12600: acc_tr 0.992818, acc_tt 0.9512, cost 1.21794\n",
      "step 12800: acc_tr 0.993145, acc_tt 0.9522, cost 1.18346\n",
      "step 13000: acc_tr 0.993982, acc_tt 0.9524, cost 1.18453\n",
      "step 13200: acc_tr 0.994145, acc_tt 0.9564, cost 1.17152\n",
      "step 13400: acc_tr 0.993782, acc_tt 0.9526, cost 1.19861\n",
      "step 13600: acc_tr 0.994745, acc_tt 0.954, cost 1.18772\n",
      "step 13800: acc_tr 0.995236, acc_tt 0.953, cost 1.14018\n",
      "step 14000: acc_tr 0.995291, acc_tt 0.9524, cost 1.14506\n",
      "step 14200: acc_tr 0.994182, acc_tt 0.954, cost 1.14192\n",
      "step 14400: acc_tr 0.995364, acc_tt 0.9564, cost 1.14356\n",
      "step 14600: acc_tr 0.996109, acc_tt 0.9572, cost 1.13532\n",
      "step 14800: acc_tr 0.995182, acc_tt 0.955, cost 1.12638\n",
      "step 15000: acc_tr 0.9956, acc_tt 0.9554, cost 1.15656\n",
      "step 15200: acc_tr 0.995764, acc_tt 0.9552, cost 1.11754\n",
      "step 15400: acc_tr 0.994636, acc_tt 0.9554, cost 1.15729\n",
      "step 15600: acc_tr 0.994418, acc_tt 0.9558, cost 1.1393\n",
      "step 15800: acc_tr 0.994491, acc_tt 0.957, cost 1.19765\n",
      "step 16000: acc_tr 0.9944, acc_tt 0.9556, cost 1.14299\n",
      "step 16200: acc_tr 0.997091, acc_tt 0.9572, cost 1.13605\n",
      "step 16400: acc_tr 0.9944, acc_tt 0.9546, cost 1.16451\n",
      "step 16600: acc_tr 0.996727, acc_tt 0.9574, cost 1.1239\n",
      "step 16800: acc_tr 0.995927, acc_tt 0.9562, cost 1.14811\n",
      "step 17000: acc_tr 0.993691, acc_tt 0.955, cost 1.17866\n",
      "step 17200: acc_tr 0.996764, acc_tt 0.957, cost 1.10767\n",
      "step 17400: acc_tr 0.996909, acc_tt 0.9578, cost 1.10374\n",
      "step 17600: acc_tr 0.997455, acc_tt 0.9572, cost 1.05786\n",
      "step 17800: acc_tr 0.997964, acc_tt 0.9576, cost 1.0719\n",
      "step 18000: acc_tr 0.997709, acc_tt 0.958, cost 1.09274\n",
      "step 18200: acc_tr 0.995091, acc_tt 0.9542, cost 1.08895\n",
      "step 18400: acc_tr 0.997582, acc_tt 0.9592, cost 1.0654\n",
      "step 18600: acc_tr 0.994891, acc_tt 0.9538, cost 1.10753\n",
      "step 18800: acc_tr 0.9932, acc_tt 0.957, cost 1.11752\n",
      "step 19000: acc_tr 0.996855, acc_tt 0.957, cost 1.08711\n",
      "step 19200: acc_tr 0.997364, acc_tt 0.9596, cost 1.08817\n",
      "step 19400: acc_tr 0.997291, acc_tt 0.9598, cost 1.07257\n",
      "step 19600: acc_tr 0.996764, acc_tt 0.959, cost 1.10457\n",
      "step 19800: acc_tr 0.995545, acc_tt 0.9574, cost 1.12684\n",
      "Wall time: 36.8 s\n"
     ]
    }
   ],
   "source": [
    "%%time\n",
    "predicted = tf.argmax(hypothesis, 1)\n",
    "accuracy = tf.reduce_mean(tf.cast(tf.equal(predicted, tf.argmax(Y, 1)), dtype=tf.float32))\n",
    "\n",
    "# initialize session\n",
    "sess = tf.InteractiveSession()\n",
    "sess.run(tf.global_variables_initializer())\n",
    "\n",
    "# for plotting\n",
    "x_range=[]\n",
    "train_accuracies=[]\n",
    "val_accuracies=[]\n",
    "val_costs=[]\n",
    "\n",
    "total_iter = int(mnist.train.num_examples/batch_size*training_epochs)\n",
    "print('Total step:', total_iter)\n",
    "for i in range(20000):\n",
    "    batch = mnist.train.next_batch(batch_size)\n",
    "    optimizer.run(feed_dict={X: batch[0], Y: batch[1]})\n",
    "\n",
    "    if i % 200 == 0:   \n",
    "        train_accuracy = accuracy.eval(feed_dict={X:mnist.train.images, Y:mnist.train.labels})\n",
    "        val_accuracy = accuracy.eval(feed_dict={X: mnist.validation.images, Y: mnist.validation.labels})\n",
    "        cost_ = cost.eval(feed_dict={X:mnist.test.images, Y:mnist.test.labels})\n",
    "        print('step %d: acc_tr %g, acc_tt %g, cost %g' % (i, train_accuracy, val_accuracy, cost_))\n",
    "\n",
    "        # for plotting\n",
    "        train_accuracies.append(train_accuracy)\n",
    "        val_accuracies.append(val_accuracy)\n",
    "        val_costs.append(cost_)\n",
    "        x_range.append(i)\n",
    "\n"
   ]
  },
  {
   "cell_type": "code",
   "execution_count": 45,
   "metadata": {},
   "outputs": [
    {
     "name": "stdout",
     "output_type": "stream",
     "text": [
      "Label:  [2]\n",
      "Prediction:  [2]\n"
     ]
    },
    {
     "data": {
      "image/png": "[encoded data removed]",
      "text/plain": [
       "<matplotlib.figure.Figure at 0x1c07c435320>"
      ]
     },
     "metadata": {},
     "output_type": "display_data"
    }
   ],
   "source": [
    "import matplotlib.pyplot as plt\n",
    "# Get one and predict\n",
    "r = random.randint(0, mnist.test.num_examples - 1)\n",
    "print(\"Label: \", sess.run(tf.argmax(mnist.test.labels[r:r + 1], 1)))\n",
    "print(\"Prediction: \", sess.run(\n",
    "    tf.argmax(hypothesis, 1), feed_dict={X: mnist.test.images[r:r + 1]}))\n",
    "\n",
    "plt.imshow(mnist.test.images[r:r + 1].\n",
    "          reshape(28, 28), cmap='Greys', interpolation='nearest')\n",
    "plt.show()\n"
   ]
  },
  {
   "cell_type": "code",
   "execution_count": 46,
   "metadata": {},
   "outputs": [
    {
     "data": {
      "image/png": "[encoded data removed]",
      "text/plain": [
       "<matplotlib.figure.Figure at 0x1c078a5d278>"
      ]
     },
     "metadata": {},
     "output_type": "display_data"
    }
   ],
   "source": [
    "# plot learning result\n",
    "\n",
    "plt.figure(figsize=(18,5))\n",
    "plt.subplot(121)\n",
    "plt.plot(x_range, train_accuracies,'-b', label='Training')\n",
    "plt.plot(x_range, val_accuracies,'-g', label='Validation')\n",
    "plt.legend(loc='lower right', frameon=False)\n",
    "# plt.ylim(ymax = 1.1, ymin = 0.7)\n",
    "plt.ylabel('accuracy')\n",
    "plt.xlabel('step')\n",
    "plt.title('FCN: Accuracy')\n",
    "\n",
    "plt.subplot(122)\n",
    "plt.plot(x_range, val_costs,'-r', label='Validatin_cost')\n",
    "plt.legend(loc='lower right', frameon=False)\n",
    "# plt.ylim(ymax = 1.1, ymin = 0.7)\n",
    "plt.ylabel('cost')\n",
    "plt.xlabel('step')\n",
    "plt.title('FCN: Validation Cost')\n",
    "plt.show()\n"
   ]
  },
  {
   "cell_type": "code",
   "execution_count": 1,
   "metadata": {},
   "outputs": [
    {
     "name": "stderr",
     "output_type": "stream",
     "text": [
      "C:\\ProgramData\\Anaconda3\\lib\\site-packages\\h5py\\__init__.py:34: FutureWarning: Conversion of the second argument of issubdtype from `float` to `np.floating` is deprecated. In future, it will be treated as `np.float64 == np.dtype(float).type`.\n",
      "  from ._conv import register_converters as _register_converters\n"
     ]
    }
   ],
   "source": [
    "import tensorflow as tf\n",
    "import numpy as np\n",
    "from tqdm import tqdm_notebook\n",
    "import matplotlib.pyplot as plt\n",
    "%matplotlib inline\n",
    "\n",
    "# AND\n",
    "x_data = np.array([[0, 0],\n",
    "                  [0, 1],\n",
    "                  [1, 0],\n",
    "                  [1, 1]], dtype=np.float32)\n",
    "y_data = np.array([[0],\n",
    "                  [0],\n",
    "                  [0],\n",
    "                  [1]], dtype=np.float32)\n",
    "\n",
    "X = tf.placeholder(tf.float32, [None, 2], name='x-input')\n",
    "Y = tf.placeholder(tf.float32, [None, 1], name='y-input')"
   ]
  },
  {
   "cell_type": "code",
   "execution_count": 2,
   "metadata": {
    "collapsed": true
   },
   "outputs": [],
   "source": [
    "with tf.name_scope(\"layer\") as scope:    \n",
    "    W = tf.Variable(tf.random_normal([2, 1]), name='weight')\n",
    "    b = tf.Variable(tf.random_normal([1]), name='bias')\n",
    "\n",
    "    hypothesis = tf.sigmoid(tf.matmul(X, W) + b)\n",
    "    \n",
    "    w_hist = tf.summary.histogram(\"weight\", W)\n",
    "    b_hist = tf.summary.histogram(\"bias\", b)\n",
    "    hypothesis_hist = tf.summary.histogram(\"hypothesis\", hypothesis)"
   ]
  },
  {
   "cell_type": "code",
   "execution_count": 3,
   "metadata": {
    "collapsed": true
   },
   "outputs": [],
   "source": [
    "with tf.name_scope(\"cost\") as scope:\n",
    "    cost = -tf.reduce_mean(Y * tf.log(hypothesis) + (1 - Y) * tf.log(1 - hypothesis))\n",
    "    cost_summ = tf.summary.scalar(\"cost\", cost)\n",
    "\n",
    "with tf.name_scope(\"train\") as scope:\n",
    "    train = tf.train.GradientDescentOptimizer(learning_rate=0.1).minimize(cost)"
   ]
  },
  {
   "cell_type": "code",
   "execution_count": 4,
   "metadata": {
    "collapsed": true
   },
   "outputs": [],
   "source": [
    "# Accuracy computation\n",
    "# True if hypothesis>0.5 else False\n",
    "predicted = tf.cast(hypothesis > 0.5, dtype=tf.float32)\n",
    "accuracy = tf.reduce_mean(tf.cast(tf.equal(predicted, Y), dtype=tf.float32))\n",
    "accuracy_summ = tf.summary.scalar(\"accuracy\", accuracy)"
   ]
  },
  {
   "cell_type": "code",
   "execution_count": 5,
   "metadata": {},
   "outputs": [
    {
     "data": {
      "application/vnd.jupyter.widget-view+json": {
       "model_id": "748aa833ff3441d6a18c770dd75566ba",
       "version_major": 2,
       "version_minor": 0
      },
      "text/plain": [
       "A Jupyter Widget"
      ]
     },
     "metadata": {},
     "output_type": "display_data"
    },
    {
     "name": "stdout",
     "output_type": "stream",
     "text": [
      "\n",
      "\n",
      "Hypothesis:  [[1.2337421e-05]\n",
      " [2.0179892e-02]\n",
      " [2.0179855e-02]\n",
      " [9.7173595e-01]] \n",
      "Correct:  [[0.]\n",
      " [0.]\n",
      " [0.]\n",
      " [1.]] \n",
      "Accuracy:  1.0\n"
     ]
    }
   ],
   "source": [
    "# Launch graph\n",
    "with tf.Session() as sess:\n",
    "    # tensorboard --logdir=./logs\n",
    "    merged_summary = tf.summary.merge_all()\n",
    "    writer = tf.summary.FileWriter(\"./logs/hello_tf_180115-1\")\n",
    "    writer.add_graph(sess.graph)  # Show the graph\n",
    "    \n",
    "    # Initialize TensorFlow variables\n",
    "    sess.run(tf.global_variables_initializer())\n",
    "\n",
    "    for step in tqdm_notebook(range(10001)):\n",
    "        summary, _ = sess.run([merged_summary, train], feed_dict={X: x_data, Y: y_data})\n",
    "        writer.add_summary(summary, global_step=step)\n",
    "\n",
    "    # Accuracy report\n",
    "    h, c, a = sess.run([hypothesis, predicted, accuracy], feed_dict={X: x_data, Y: y_data})\n",
    "    print(\"\\nHypothesis: \", h, \"\\nCorrect: \", c, \"\\nAccuracy: \", a)"
   ]
  },
  {
   "cell_type": "code",
   "execution_count": null,
   "metadata": {
    "collapsed": true
   },
   "outputs": [],
   "source": []
  }
 ],
 "metadata": {
  "kernelspec": {
   "display_name": "Python 3",
   "language": "python",
   "name": "python3"
  },
  "language_info": {
   "codemirror_mode": {
    "name": "ipython",
    "version": 3
   },
   "file_extension": ".py",
   "mimetype": "text/x-python",
   "name": "python",
   "nbconvert_exporter": "python",
   "pygments_lexer": "ipython3",
   "version": "3.6.2"
  }
 },
 "nbformat": 4,
 "nbformat_minor": 2
}
