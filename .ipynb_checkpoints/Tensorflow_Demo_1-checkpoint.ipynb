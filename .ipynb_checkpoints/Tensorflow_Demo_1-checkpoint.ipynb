{
 "cells": [
  {
   "cell_type": "markdown",
   "metadata": {},
   "source": [
    "# Tensorflow Demo\n",
    " - 텐서플로 기초 실습\n",
    " > - https://github.com/hunkim/DeepLearningZeroToAll\n",
    "  - https://tensorflowkorea.gitbooks.io/tensorflow-kr/content/g3doc/tutorials/\n",
    "  - https://r2rt.com/implementing-batch-normalization-in-tensorflow.html"
   ]
  },
  {
   "cell_type": "code",
   "execution_count": 3,
   "metadata": {},
   "outputs": [
    {
     "data": {
      "text/plain": [
       "'1.4.0'"
      ]
     },
     "execution_count": 3,
     "metadata": {},
     "output_type": "execute_result"
    }
   ],
   "source": [
    "import tensorflow as tf\n",
    "tf.__version__\n",
    "## '1.4.0'"
   ]
  },
  {
   "cell_type": "code",
   "execution_count": 2,
   "metadata": {
    "collapsed": true
   },
   "outputs": [],
   "source": [
    "# Create a constant op\n",
    "# This op is added as a node to the default graph\n",
    "hello = tf.constant(\"Hello, TensorFlow!\")"
   ]
  },
  {
   "cell_type": "code",
   "execution_count": 4,
   "metadata": {
    "collapsed": true
   },
   "outputs": [],
   "source": [
    "# start a TF session\n",
    "sess = tf.Session()"
   ]
  },
  {
   "cell_type": "code",
   "execution_count": 5,
   "metadata": {},
   "outputs": [
    {
     "name": "stdout",
     "output_type": "stream",
     "text": [
      "b'Hello, TensorFlow!'\n"
     ]
    }
   ],
   "source": [
    "# run the op and get result\n",
    "print(sess.run(hello))\n",
    "\n",
    "## b'Hello, TensorFlow!'"
   ]
  },
  {
   "cell_type": "code",
   "execution_count": 18,
   "metadata": {},
   "outputs": [
    {
     "data": {
      "text/plain": [
       "[[[1.0, 2.0, 3.0]], [[7.0, 8.0, 9.0]]]"
      ]
     },
     "execution_count": 18,
     "metadata": {},
     "output_type": "execute_result"
    }
   ],
   "source": [
    "3 # a rank 0 tensor; this is a scalar with shape []\n",
    "[1. ,2., 3.] # a rank 1 tensor; this is a vector with shape [3]\n",
    "[[1., 2., 3.], [4., 5., 6.]] # a rank 2 tensor; a matrix with shape [2, 3]\n",
    "[[[1., 2., 3.]], [[7., 8., 9.]]] # a rank 3 tensor with shape [2, 1, 3]"
   ]
  },
  {
   "cell_type": "code",
   "execution_count": 6,
   "metadata": {},
   "outputs": [
    {
     "name": "stdout",
     "output_type": "stream",
     "text": [
      "node1: Tensor(\"Const_1:0\", shape=(), dtype=float32) node2: Tensor(\"Const_2:0\", shape=(), dtype=float32)\n",
      "node3:  Tensor(\"Add:0\", shape=(), dtype=float32)\n"
     ]
    }
   ],
   "source": [
    "node1 = tf.constant(3.0, tf.float32)\n",
    "node2 = tf.constant(4.0) # also tf.float32 implicitly\n",
    "node3 = tf.add(node1, node2)\n",
    "\n",
    "print(\"node1:\", node1, \"node2:\", node2)\n",
    "print(\"node3: \", node3)\n",
    "\n",
    "## node1: Tensor(\"Const_1:0\", shape=(), dtype=float32) node2: Tensor(\"Const_2:0\", shape=(), dtype=float32)\n",
    "## node3:  Tensor(\"Add:0\", shape=(), dtype=float32)\n"
   ]
  },
  {
   "cell_type": "code",
   "execution_count": 7,
   "metadata": {},
   "outputs": [
    {
     "name": "stdout",
     "output_type": "stream",
     "text": [
      "sess.run(node1, node2):  [3.0, 4.0]\n",
      "sess.run(node3):  7.0\n"
     ]
    }
   ],
   "source": [
    "sess = tf.Session()\n",
    "print(\"sess.run(node1, node2): \", sess.run([node1, node2]))\n",
    "print(\"sess.run(node3): \", sess.run(node3))\n",
    "\n",
    "## sess.run(node1, node2):  [3.0, 4.0]\n",
    "## sess.run(node3):  7.0"
   ]
  },
  {
   "cell_type": "code",
   "execution_count": 11,
   "metadata": {},
   "outputs": [
    {
     "name": "stdout",
     "output_type": "stream",
     "text": [
      "7.5\n",
      "[3. 7.]\n"
     ]
    }
   ],
   "source": [
    "a = tf.placeholder(tf.float32)\n",
    "b = tf.placeholder(tf.float32, name='my_node')\n",
    "adder_node = a + b  # + provides a shortcut for tf.add(a, b)\n",
    "\n",
    "print(sess.run(adder_node, feed_dict={a: 3, b: 4.5}))\n",
    "print(sess.run(adder_node, feed_dict={a: [1,3], b: [2, 4]}))\n",
    "\n",
    "## 7.5\n",
    "## [ 3.  7.]"
   ]
  },
  {
   "cell_type": "code",
   "execution_count": 12,
   "metadata": {},
   "outputs": [
    {
     "name": "stdout",
     "output_type": "stream",
     "text": [
      "22.5\n",
      "[21.  9.]\n"
     ]
    }
   ],
   "source": [
    "add_and_triple = adder_node * 3.\n",
    "print(sess.run(add_and_triple, feed_dict={a: 3, b:4.5}))\n",
    "print(sess.run(add_and_triple, feed_dict={a: [3,2], b:[4,1]}))\n",
    "# 22.5"
   ]
  },
  {
   "cell_type": "code",
   "execution_count": 39,
   "metadata": {},
   "outputs": [
    {
     "name": "stdout",
     "output_type": "stream",
     "text": [
      "[2. 2. 2.]\n",
      "[5. 5. 5.]\n"
     ]
    }
   ],
   "source": [
    "# 명시적으로 여러개의 그래프 생성도 가능\n",
    "g1 = tf.Graph()\n",
    "with g1.as_default():\n",
    "    c1 = tf.constant([2.,2.,2.])    \n",
    "    v1 = tf.Variable(tf.zeros(3), name='g1/v1')\n",
    "    v1_2 = tf.Variable(tf.random_normal(shape=[2,3]), name='g1/v1_2')    \n",
    "    a1 = tf.add(c1, v1)\n",
    "\n",
    "g2 = tf.Graph()\n",
    "with g2.as_default():\n",
    "    c2 = tf.constant([4.,4.,4.])    \n",
    "    v2 = tf.Variable(tf.ones(3), name='g2/v2')\n",
    "    v2_2 = tf.Variable(tf.fill([3,5], 7), name='g2/v2_2')\n",
    "    a2 = tf.add(c2, v2)\n",
    "\n",
    "with tf.Session(graph = g1) as sess:\n",
    "    sess.run(tf.global_variables_initializer())\n",
    "    print(sess.run(a1))\n",
    "#[2., 2., 2.]\n",
    "\n",
    "with tf.Session(graph = g2) as sess:\n",
    "    sess.run(tf.global_variables_initializer())\n",
    "    print(sess.run(a2))\n",
    "#[4., 4., 4.]\n"
   ]
  },
  {
   "cell_type": "code",
   "execution_count": 40,
   "metadata": {},
   "outputs": [
    {
     "name": "stdout",
     "output_type": "stream",
     "text": [
      "[<tf.Variable 'g2/v2:0' shape=(3,) dtype=float32_ref>, <tf.Variable 'g2/v2_2:0' shape=(3, 5) dtype=int32_ref>]\n",
      "[[7 7 7 7 7]\n",
      " [7 7 7 7 7]\n",
      " [7 7 7 7 7]]\n"
     ]
    }
   ],
   "source": [
    "with g2.as_default():\n",
    "    print(tf.global_variables())\n",
    "    \n",
    "with tf.Session(graph = g2) as sess:\n",
    "    sess.run(tf.global_variables_initializer())\n",
    "    print(sess.run(v2_2))"
   ]
  },
  {
   "cell_type": "markdown",
   "metadata": {},
   "source": [
    "---\n",
    "## Linear regression"
   ]
  },
  {
   "cell_type": "code",
   "execution_count": 41,
   "metadata": {
    "collapsed": true
   },
   "outputs": [],
   "source": [
    "import numpy as np"
   ]
  },
  {
   "cell_type": "code",
   "execution_count": 65,
   "metadata": {},
   "outputs": [],
   "source": [
    "xx = np.random.normal(5, 1, [100])\n",
    "noise = np.random.normal(0, 0.5, [100])\n",
    "yy = xx*3 + 10 + noise"
   ]
  },
  {
   "cell_type": "code",
   "execution_count": 66,
   "metadata": {},
   "outputs": [
    {
     "data": {
      "image/png": "[encoded data removed]",
      "text/plain": [
       "<matplotlib.figure.Figure at 0x1d3fb3bbf28>"
      ]
     },
     "metadata": {},
     "output_type": "display_data"
    }
   ],
   "source": [
    "import matplotlib.pyplot as plt\n",
    "# plt.scatter(x_train, y_train)\n",
    "plt.scatter(xx, yy)\n",
    "plt.show()"
   ]
  },
  {
   "cell_type": "code",
   "execution_count": 67,
   "metadata": {},
   "outputs": [],
   "source": [
    "# Try to find values for W and b to compute y_data = x_data * W + b\n",
    "# We know that W should be 1 and b should be 0\n",
    "# But let TensorFlow figure it out\n",
    "W = tf.Variable(tf.random_normal([1]), name='weight')\n",
    "b = tf.Variable(tf.random_normal([1]), name='bias')\n",
    "\n",
    "# Our hypothesis XW+b\n",
    "hypothesis = xx * W + b\n",
    "\n",
    "# cost/loss function\n",
    "cost = tf.reduce_mean(tf.square(hypothesis - yy))\n",
    "\n",
    "# Minimize\n",
    "optimizer = tf.train.GradientDescentOptimizer(learning_rate=0.01)\n",
    "train = optimizer.minimize(cost)"
   ]
  },
  {
   "cell_type": "markdown",
   "metadata": {},
   "source": [
    "---\n",
    "위는 연습용"
   ]
  },
  {
   "cell_type": "code",
   "execution_count": 79,
   "metadata": {
    "collapsed": true
   },
   "outputs": [],
   "source": [
    "# X and Y data\n",
    "x_train = [1, 2, 3]\n",
    "y_train = [3, 5, 7]\n",
    "# y_train = [1, 4, 9]# W*W 제곱해서 2차 근사"
   ]
  },
  {
   "cell_type": "code",
   "execution_count": 80,
   "metadata": {
    "collapsed": true
   },
   "outputs": [],
   "source": [
    "# Try to find values for W and b to compute y_data = x_data * W + b\n",
    "# We know that W should be 1 and b should be 0\n",
    "# But let TensorFlow figure it out\n",
    "W = tf.Variable(tf.random_normal([1]), name='weight')\n",
    "b = tf.Variable(tf.random_normal([1]), name='bias')\n",
    "\n",
    "# Our hypothesis XW+b\n",
    "hypothesis = x_train * W + b\n",
    "\n",
    "# cost/loss function\n",
    "cost = tf.reduce_mean(tf.square(hypothesis - y_train))\n",
    "\n",
    "# Minimize\n",
    "optimizer = tf.train.GradientDescentOptimizer(learning_rate=0.01)\n",
    "train = optimizer.minimize(cost)"
   ]
  },
  {
   "cell_type": "code",
   "execution_count": 81,
   "metadata": {
    "scrolled": true
   },
   "outputs": [
    {
     "name": "stdout",
     "output_type": "stream",
     "text": [
      "0 20.60746 [0.47995973] [-0.32650977]\n",
      "20 0.2260282 [2.063246] [0.40089652]\n",
      "40 0.037639376 [2.2042303] [0.49237934]\n",
      "60 0.032664657 [2.20834] [0.5222657]\n",
      "80 0.029652799 [2.1998541] [0.54529154]\n",
      "100 0.026930973 [2.1905859] [0.5667159]\n",
      "120 0.024459193 [2.181641] [0.5870839]\n",
      "140 0.022214262 [2.1731055] [0.6064899]\n",
      "160 0.020175356 [2.1649706] [0.62498355]\n",
      "180 0.018323528 [2.1572173] [0.6426081]\n",
      "200 0.01664172 [2.1498287] [0.6594041]\n",
      "220 0.01511427 [2.1427872] [0.67541087]\n",
      "240 0.013727039 [2.136077] [0.6906653]\n",
      "260 0.012467154 [2.1296818] [0.7052028]\n",
      "280 0.011322856 [2.1235876] [0.71905714]\n",
      "300 0.010283602 [2.1177793] [0.7322602]\n",
      "320 0.009339734 [2.1122441] [0.74484295]\n",
      "340 0.008482488 [2.1069689] [0.75683445]\n",
      "360 0.0077039395 [2.101942] [0.7682623]\n",
      "380 0.006996847 [2.097151] [0.77915305]\n",
      "400 0.0063546547 [2.092585] [0.789532]\n",
      "420 0.005771374 [2.088234] [0.7994234]\n",
      "440 0.0052416935 [2.0840876] [0.80884963]\n",
      "460 0.004760541 [2.0801349] [0.8178331]\n",
      "480 0.004323592 [2.076369] [0.82639456]\n",
      "500 0.00392675 [2.0727801] [0.8345535]\n",
      "520 0.0035663422 [2.0693598] [0.842329]\n",
      "540 0.0032390058 [2.0661001] [0.84973896]\n",
      "560 0.002941719 [2.0629938] [0.85680056]\n",
      "580 0.0026717174 [2.060033] [0.8635304]\n",
      "600 0.002426508 [2.0572119] [0.8699439]\n",
      "620 0.0022038 [2.0545235] [0.876056]\n",
      "640 0.0020015007 [2.0519607] [0.881881]\n",
      "660 0.001817806 [2.0495188] [0.8874322]\n",
      "680 0.0016509653 [2.0471919] [0.89272237]\n",
      "700 0.001499434 [2.0449736] [0.8977639]\n",
      "720 0.00136182 [2.0428607] [0.9025686]\n",
      "740 0.0012368403 [2.040846] [0.90714717]\n",
      "760 0.0011233083 [2.0389266] [0.91151094]\n",
      "780 0.0010201993 [2.0370967] [0.9156698]\n",
      "800 0.0009265653 [2.0353537] [0.9196329]\n",
      "820 0.00084152276 [2.0336921] [0.9234098]\n",
      "840 0.0007642808 [2.0321088] [0.9270093]\n",
      "860 0.00069413893 [2.0305998] [0.9304398]\n",
      "880 0.00063042186 [2.0291617] [0.9337088]\n",
      "900 0.00057255727 [2.027791] [0.9368242]\n",
      "920 0.00052000914 [2.026485] [0.93979317]\n",
      "940 0.0004722809 [2.0252404] [0.9426226]\n",
      "960 0.00042893086 [2.0240543] [0.9453192]\n",
      "980 0.0003895633 [2.0229237] [0.947889]\n",
      "1000 0.0003538083 [2.0218465] [0.9503381]\n",
      "1020 0.0003213368 [2.02082] [0.952672]\n",
      "1040 0.00029184282 [2.0198412] [0.9548961]\n",
      "1060 0.00026505548 [2.0189087] [0.95701593]\n",
      "1080 0.00024072795 [2.0180202] [0.9590359]\n",
      "1100 0.00021863119 [2.0171733] [0.96096104]\n",
      "1120 0.00019856798 [2.0163662] [0.96279573]\n",
      "1140 0.00018034146 [2.015597] [0.9645441]\n",
      "1160 0.00016379166 [2.0148642] [0.96621037]\n",
      "1180 0.00014875595 [2.0141656] [0.9677983]\n",
      "1200 0.00013510455 [2.0135] [0.9693116]\n",
      "1220 0.0001227021 [2.0128653] [0.9707539]\n",
      "1240 0.00011144176 [2.0122607] [0.97212845]\n",
      "1260 0.00010121169 [2.0116844] [0.9734383]\n",
      "1280 9.192316e-05 [2.0111353] [0.97468656]\n",
      "1300 8.3486615e-05 [2.010612] [0.97587615]\n",
      "1320 7.582278e-05 [2.0101135] [0.97700983]\n",
      "1340 6.886509e-05 [2.009638] [0.9780902]\n",
      "1360 6.2543404e-05 [2.009185] [0.9791199]\n",
      "1380 5.680272e-05 [2.0087535] [0.98010105]\n",
      "1400 5.1590727e-05 [2.0083423] [0.98103625]\n",
      "1420 4.685626e-05 [2.00795] [0.98192745]\n",
      "1440 4.2553685e-05 [2.0075765] [0.9827768]\n",
      "1460 3.8649425e-05 [2.0072205] [0.98358625]\n",
      "1480 3.5103247e-05 [2.006881] [0.9843576]\n",
      "1500 3.1880452e-05 [2.006558] [0.98509264]\n",
      "1520 2.8954984e-05 [2.00625] [0.9857931]\n",
      "1540 2.629769e-05 [2.0059562] [0.9864607]\n",
      "1560 2.3882487e-05 [2.005676] [0.9870969]\n",
      "1580 2.1691652e-05 [2.0054092] [0.98770326]\n",
      "1600 1.97004e-05 [2.0051553] [0.9882812]\n",
      "1620 1.7892511e-05 [2.004913] [0.9888317]\n",
      "1640 1.6251905e-05 [2.0046823] [0.98935634]\n",
      "1660 1.4760127e-05 [2.0044622] [0.9898564]\n",
      "1680 1.3406563e-05 [2.0042527] [0.9903331]\n",
      "1700 1.2175183e-05 [2.0040529] [0.9907872]\n",
      "1720 1.1058633e-05 [2.0038624] [0.9912203]\n",
      "1740 1.0042849e-05 [2.003681] [0.9916329]\n",
      "1760 9.122371e-06 [2.0035079] [0.9920259]\n",
      "1780 8.284732e-06 [2.003343] [0.9924006]\n",
      "1800 7.52449e-06 [2.0031862] [0.9927577]\n",
      "1820 6.8344893e-06 [2.0030365] [0.99309784]\n",
      "1840 6.2074882e-06 [2.002894] [0.9934221]\n",
      "1860 5.638036e-06 [2.002758] [0.993731]\n",
      "1880 5.1204843e-06 [2.002628] [0.9940256]\n",
      "1900 4.6508353e-06 [2.002505] [0.9943061]\n",
      "1920 4.2244487e-06 [2.0023875] [0.99457353]\n",
      "1940 3.8372777e-06 [2.0022755] [0.99482834]\n",
      "1960 3.4851125e-06 [2.0021687] [0.9950711]\n",
      "1980 3.1662405e-06 [2.0020669] [0.99530256]\n",
      "2000 2.8755728e-06 [2.0019698] [0.99552304]\n",
      "2020 2.611685e-06 [2.0018775] [0.9957332]\n",
      "2040 2.3725281e-06 [2.0017896] [0.9959334]\n",
      "2060 2.1552887e-06 [2.0017054] [0.99612427]\n",
      "2080 1.9572988e-06 [2.001625] [0.9963061]\n",
      "2100 1.77801e-06 [2.0015488] [0.9964794]\n",
      "2120 1.6152584e-06 [2.0014765] [0.9966447]\n",
      "2140 1.4673033e-06 [2.0014071] [0.99680215]\n",
      "2160 1.332222e-06 [2.0013406] [0.99695224]\n",
      "2180 1.2107058e-06 [2.0012784] [0.99709517]\n",
      "2200 1.0996774e-06 [2.0012183] [0.99723154]\n",
      "2220 9.990146e-07 [2.001161] [0.9973612]\n",
      "2240 9.0755975e-07 [2.001107] [0.99748504]\n",
      "2260 8.243903e-07 [2.0010545] [0.99760276]\n",
      "2280 7.4916426e-07 [2.0010056] [0.99771523]\n",
      "2300 6.803297e-07 [2.000958] [0.9978222]\n",
      "2320 6.181862e-07 [2.0009136] [0.99792445]\n",
      "2340 5.615811e-07 [2.0008707] [0.9980215]\n",
      "2360 5.1018424e-07 [2.0008297] [0.99811435]\n",
      "2380 4.6374376e-07 [2.0007915] [0.99820244]\n",
      "2400 4.2104048e-07 [2.0007534] [0.9982866]\n",
      "2420 3.8263906e-07 [2.0007188] [0.9983671]\n",
      "2440 3.475966e-07 [2.0006855] [0.9984433]\n",
      "2460 3.1580007e-07 [2.0006526] [0.99851626]\n",
      "2480 2.8680347e-07 [2.0006225] [0.9985859]\n",
      "2500 2.607792e-07 [2.0005937] [0.99865186]\n",
      "2520 2.3687221e-07 [2.000565] [0.9987149]\n",
      "2540 2.1512521e-07 [2.0005388] [0.9987754]\n",
      "2560 1.9562891e-07 [2.0005143] [0.9988327]\n",
      "2580 1.7776226e-07 [2.0004902] [0.99888706]\n",
      "2600 1.6143917e-07 [2.0004663] [0.9989391]\n",
      "2620 1.466458e-07 [2.0004447] [0.99898916]\n",
      "2640 1.3318885e-07 [2.0004244] [0.9990365]\n",
      "2660 1.2108057e-07 [2.000405] [0.99908125]\n",
      "2680 1.101129e-07 [2.000386] [0.99912375]\n",
      "2700 9.9923454e-08 [2.000367] [0.9991648]\n",
      "2720 9.0852076e-08 [2.00035] [0.99920416]\n",
      "2740 8.250271e-08 [2.0003338] [0.99924153]\n",
      "2760 7.5080685e-08 [2.0003188] [0.99927676]\n",
      "2780 6.834936e-08 [2.0003042] [0.99931014]\n",
      "2800 6.2150015e-08 [2.00029] [0.99934196]\n",
      "2820 5.6389506e-08 [2.0002756] [0.9993729]\n",
      "2840 5.1220564e-08 [2.0002625] [0.9994026]\n",
      "2860 4.6494733e-08 [2.0002503] [0.9994308]\n",
      "2880 4.220459e-08 [2.000239] [0.99945754]\n",
      "2900 3.8405403e-08 [2.000228] [0.99948287]\n",
      "2920 3.4986822e-08 [2.0002177] [0.9995068]\n",
      "2940 3.1822236e-08 [2.000208] [0.9995294]\n",
      "2960 2.8983473e-08 [2.0001984] [0.9995509]\n",
      "2980 2.6373755e-08 [2.0001888] [0.99957126]\n",
      "3000 2.3900478e-08 [2.0001793] [0.9995915]\n",
      "3020 2.1623237e-08 [2.0001705] [0.99961114]\n",
      "3040 1.964518e-08 [2.0001626] [0.9996297]\n",
      "3060 1.7821188e-08 [2.000155] [0.9996473]\n",
      "3080 1.6209848e-08 [2.0001478] [0.99966395]\n",
      "3100 1.473624e-08 [2.0001411] [0.99967957]\n",
      "3120 1.3426207e-08 [2.0001347] [0.9996944]\n",
      "3140 1.2173227e-08 [2.0001285] [0.99970865]\n",
      "3160 1.1135266e-08 [2.000123] [0.9997218]\n",
      "3180 1.0155664e-08 [2.0001175] [0.99973446]\n",
      "3200 9.239652e-09 [2.0001123] [0.9997464]\n",
      "3220 8.438747e-09 [2.0001075] [0.99975747]\n",
      "3240 7.715187e-09 [2.0001028] [0.9997682]\n",
      "3260 7.028518e-09 [2.000098] [0.9997787]\n",
      "3280 6.4026153e-09 [2.0000932] [0.9997884]\n",
      "3300 5.826602e-09 [2.0000885] [0.99979794]\n",
      "3320 5.3102363e-09 [2.000084] [0.9998075]\n",
      "3340 4.773407e-09 [2.0000799] [0.999817]\n",
      "3360 4.3132786e-09 [2.0000758] [0.99982643]\n",
      "3380 3.912722e-09 [2.0000722] [0.9998348]\n",
      "3400 3.5254288e-09 [2.0000687] [0.9998431]\n",
      "3420 3.1908864e-09 [2.0000653] [0.99985075]\n",
      "3440 2.899867e-09 [2.0000622] [0.9998579]\n",
      "3460 2.6092646e-09 [2.0000591] [0.99986506]\n",
      "3480 2.373478e-09 [2.0000563] [0.9998713]\n",
      "3500 2.1649953e-09 [2.000054] [0.9998773]\n",
      "3520 1.959279e-09 [2.0000515] [0.99988323]\n",
      "3540 1.7764895e-09 [2.0000489] [0.99988896]\n",
      "3560 1.6215532e-09 [2.0000467] [0.9998938]\n",
      "3580 1.4647412e-09 [2.0000446] [0.99989855]\n",
      "3600 1.3316518e-09 [2.0000427] [0.9999033]\n",
      "3620 1.205232e-09 [2.0000408] [0.9999081]\n",
      "3640 1.1025539e-09 [2.0000389] [0.9999123]\n",
      "3660 1.0206236e-09 [2.0000372] [0.9999159]\n",
      "3680 9.347332e-10 [2.0000358] [0.9999195]\n",
      "3700 8.582788e-10 [2.0000343] [0.99992305]\n",
      "3720 7.8089596e-10 [2.0000327] [0.9999266]\n",
      "3740 7.0614686e-10 [2.0000312] [0.99993014]\n",
      "3760 6.5205086e-10 [2.00003] [0.99993306]\n",
      "3780 6.0860356e-10 [2.0000288] [0.99993545]\n",
      "3800 5.660847e-10 [2.000028] [0.99993783]\n",
      "3820 5.252332e-10 [2.000027] [0.9999402]\n",
      "3840 4.797774e-10 [2.0000257] [0.9999426]\n",
      "3860 4.4218496e-10 [2.0000248] [0.999945]\n",
      "3880 4.0625991e-10 [2.0000238] [0.99994737]\n",
      "3900 3.720023e-10 [2.000023] [0.99994975]\n",
      "3920 3.3387929e-10 [2.0000217] [0.9999518]\n",
      "3940 3.2537173e-10 [2.0000212] [0.99995315]\n",
      "3960 2.986932e-10 [2.0000207] [0.99995434]\n",
      "3980 2.858087e-10 [2.00002] [0.99995553]\n",
      "4000 2.69362e-10 [2.0000198] [0.9999567]\n",
      "4020 2.5708383e-10 [2.000019] [0.9999579]\n",
      "4040 2.4169822e-10 [2.0000188] [0.9999591]\n",
      "4060 2.3002637e-10 [2.0000181] [0.9999603]\n",
      "4080 2.1865769e-10 [2.0000176] [0.9999615]\n",
      "4100 2.0463631e-10 [2.0000172] [0.9999627]\n",
      "4120 1.9387396e-10 [2.0000167] [0.9999639]\n",
      "4140 1.8091366e-10 [2.0000162] [0.9999651]\n",
      "4160 1.7075763e-10 [2.0000157] [0.99996626]\n",
      "4180 1.5688784e-10 [2.000015] [0.99996746]\n",
      "4200 1.459739e-10 [2.0000145] [0.99996865]\n",
      "4220 1.3619683e-10 [2.000014] [0.99996984]\n",
      "4240 1.2619239e-10 [2.0000136] [0.99997103]\n",
      "4260 1.1717323e-10 [2.000013] [0.9999722]\n",
      "4280 1.1254997e-10 [2.000013] [0.99997246]\n",
      "4300 1.1254997e-10 [2.000013] [0.99997246]\n",
      "4320 1.1254997e-10 [2.000013] [0.99997246]\n",
      "4340 1.1254997e-10 [2.000013] [0.99997246]\n",
      "4360 1.1254997e-10 [2.000013] [0.99997246]\n",
      "4380 1.1254997e-10 [2.000013] [0.99997246]\n",
      "4400 1.1254997e-10 [2.000013] [0.99997246]\n",
      "4420 1.1254997e-10 [2.000013] [0.99997246]\n",
      "4440 1.1254997e-10 [2.000013] [0.99997246]\n",
      "4460 1.1254997e-10 [2.000013] [0.99997246]\n"
     ]
    },
    {
     "name": "stdout",
     "output_type": "stream",
     "text": [
      "4480 1.1254997e-10 [2.000013] [0.99997246]\n",
      "4500 1.1254997e-10 [2.000013] [0.99997246]\n",
      "4520 1.1254997e-10 [2.000013] [0.99997246]\n",
      "4540 1.1254997e-10 [2.000013] [0.99997246]\n",
      "4560 1.1254997e-10 [2.000013] [0.99997246]\n",
      "4580 1.1254997e-10 [2.000013] [0.99997246]\n",
      "4600 1.1254997e-10 [2.000013] [0.99997246]\n",
      "4620 1.1254997e-10 [2.000013] [0.99997246]\n",
      "4640 1.1254997e-10 [2.000013] [0.99997246]\n",
      "4660 1.1254997e-10 [2.000013] [0.99997246]\n",
      "4680 1.1254997e-10 [2.000013] [0.99997246]\n",
      "4700 1.1254997e-10 [2.000013] [0.99997246]\n",
      "4720 1.1254997e-10 [2.000013] [0.99997246]\n",
      "4740 1.1254997e-10 [2.000013] [0.99997246]\n",
      "4760 1.1254997e-10 [2.000013] [0.99997246]\n",
      "4780 1.1254997e-10 [2.000013] [0.99997246]\n",
      "4800 1.1254997e-10 [2.000013] [0.99997246]\n",
      "4820 1.1254997e-10 [2.000013] [0.99997246]\n",
      "4840 1.1254997e-10 [2.000013] [0.99997246]\n",
      "4860 1.1254997e-10 [2.000013] [0.99997246]\n",
      "4880 1.1254997e-10 [2.000013] [0.99997246]\n",
      "4900 1.1254997e-10 [2.000013] [0.99997246]\n",
      "4920 1.1254997e-10 [2.000013] [0.99997246]\n",
      "4940 1.1254997e-10 [2.000013] [0.99997246]\n",
      "4960 1.1254997e-10 [2.000013] [0.99997246]\n",
      "4980 1.1254997e-10 [2.000013] [0.99997246]\n",
      "5000 1.1254997e-10 [2.000013] [0.99997246]\n"
     ]
    }
   ],
   "source": [
    "# Launch the graph in a session.\n",
    "sess = tf.Session()\n",
    "# Initializes global variables in the graph.\n",
    "sess.run(tf.global_variables_initializer())\n",
    "\n",
    "# Fit the line\n",
    "for step in range(5001):\n",
    "    sess.run(train)\n",
    "    if step % 20 == 0:\n",
    "        print(step, sess.run(cost), sess.run(W), sess.run(b))"
   ]
  },
  {
   "cell_type": "markdown",
   "metadata": {},
   "source": [
    "---\n",
    "## MLP(Multi Layer Perceptron)\n",
    "> MNIST data set"
   ]
  },
  {
   "cell_type": "code",
   "execution_count": 6,
   "metadata": {},
   "outputs": [
    {
     "name": "stdout",
     "output_type": "stream",
     "text": [
      "Extracting MNIST_data/train-images-idx3-ubyte.gz\n",
      "Extracting MNIST_data/train-labels-idx1-ubyte.gz\n",
      "Extracting MNIST_data/t10k-images-idx3-ubyte.gz\n",
      "Extracting MNIST_data/t10k-labels-idx1-ubyte.gz\n"
     ]
    }
   ],
   "source": [
    "# load MNIST dataset \n",
    "import random\n",
    "from tensorflow.examples.tutorials.mnist import input_data\n",
    "\n",
    "tf.set_random_seed(777)  # reproducibility\n",
    "\n",
    "mnist = input_data.read_data_sets(\"MNIST_data/\", one_hot=True)\n",
    "# Check out https://www.tensorflow.org/get_started/mnist/beginners for\n",
    "# more information about the mnist dataset"
   ]
  },
  {
   "cell_type": "code",
   "execution_count": 7,
   "metadata": {},
   "outputs": [],
   "source": [
    "# parameters\n",
    "learning_rate = 0.001\n",
    "training_epochs = 15\n",
    "# use mini batch\n",
    "batch_size = 100\n",
    "\n",
    "# input place holders\n",
    "X = tf.placeholder(tf.float32, [None, 784])\n",
    "Y = tf.placeholder(tf.float32, [None, 10])\n",
    "\n",
    "# weights & bias for nn hidden layers\n",
    "# 1-hidden layer\n",
    "W1 = tf.Variable(tf.random_normal([784, 256]))\n",
    "b1 = tf.Variable(tf.random_normal([256]))\n",
    "L1 = tf.nn.relu(tf.matmul(X, W1) + b1)\n",
    "\n",
    "W2 = tf.Variable(tf.random_normal([256, 10]))\n",
    "b2 = tf.Variable(tf.random_normal([10]))\n",
    "hypothesis = tf.matmul(L1, W2) + b2\n",
    "\n",
    "\n",
    "# 2-hidden layers\n",
    "# W1 = tf.Variable(tf.random_normal([784, 256]))\n",
    "# b1 = tf.Variable(tf.random_normal([256]))\n",
    "# L1 = tf.nn.relu(tf.matmul(X, W1) + b1)\n",
    "\n",
    "# W2 = tf.Variable(tf.random_normal([256, 256]))\n",
    "# b2 = tf.Variable(tf.random_normal([256]))\n",
    "# L2 = tf.nn.relu(tf.matmul(L1, W2) + b2)\n",
    "\n",
    "# W3 = tf.Variable(tf.random_normal([256, 10]))\n",
    "# b3 = tf.Variable(tf.random_normal([10]))\n",
    "# hypothesis = tf.matmul(L2, W3) + b3\n",
    "\n",
    "# 3-hidden layers\n",
    "# W1 = tf.Variable(tf.random_normal([784, 256]))\n",
    "# b1 = tf.Variable(tf.random_normal([256]))\n",
    "# L1 = tf.nn.relu(tf.matmul(X, W1) + b1)\n",
    "\n",
    "# W2 = tf.Variable(tf.random_normal([256, 256]))\n",
    "# b2 = tf.Variable(tf.random_normal([256]))\n",
    "# L2 = tf.nn.relu(tf.matmul(L1, W2) + b2)\n",
    "\n",
    "# W3 = tf.Variable(tf.random_normal([256, 256]))\n",
    "# b3 = tf.Variable(tf.random_normal([256]))\n",
    "# L3 = tf.nn.relu(tf.matmul(L2, W3) + b3)\n",
    "\n",
    "# W4 = tf.Variable(tf.random_normal([256, 10]))\n",
    "# b4 = tf.Variable(tf.random_normal([10]))\n",
    "# hypothesis = tf.matmul(L4, W4) + b4\n",
    "\n",
    "\n",
    "# define cost/loss & optimizer\n",
    "cost = tf.reduce_mean(tf.nn.softmax_cross_entropy_with_logits(\n",
    "    logits=hypothesis, labels=Y))\n",
    "optimizer = tf.train.GradientDescentOptimizer(learning_rate=learning_rate).minimize(cost)\n",
    "\n",
    "predicted = tf.argmax(hypothesis, 1)\n",
    "accuracy = tf.reduce_mean(tf.cast(tf.equal(predicted, tf.argmax(Y, 1)), dtype=tf.float32))"
   ]
  },
  {
   "cell_type": "code",
   "execution_count": 8,
   "metadata": {
    "scrolled": true
   },
   "outputs": [
    {
     "name": "stdout",
     "output_type": "stream",
     "text": [
      "Total step: 8250\n",
      "step 0: acc_tr 0.152327, acc_tt 0.1488, cost 135.18\n",
      "step 200: acc_tr 0.2902, acc_tt 0.285, cost 55.7496\n",
      "step 400: acc_tr 0.397145, acc_tt 0.3952, cost 39.0584\n",
      "step 600: acc_tr 0.479345, acc_tt 0.4824, cost 30.1772\n",
      "step 800: acc_tr 0.535782, acc_tt 0.5394, cost 25.0468\n",
      "step 1000: acc_tr 0.576709, acc_tt 0.5808, cost 21.6421\n",
      "step 1200: acc_tr 0.609636, acc_tt 0.6146, cost 19.1717\n",
      "step 1400: acc_tr 0.634909, acc_tt 0.6388, cost 17.3576\n",
      "step 1600: acc_tr 0.657455, acc_tt 0.6592, cost 15.9898\n",
      "step 1800: acc_tr 0.675164, acc_tt 0.6776, cost 14.9004\n",
      "step 2000: acc_tr 0.690909, acc_tt 0.6918, cost 13.964\n",
      "step 2200: acc_tr 0.703527, acc_tt 0.7062, cost 13.1992\n",
      "step 2400: acc_tr 0.713945, acc_tt 0.7176, cost 12.5484\n",
      "step 2600: acc_tr 0.724782, acc_tt 0.7272, cost 12.0122\n",
      "step 2800: acc_tr 0.732218, acc_tt 0.738, cost 11.5224\n",
      "step 3000: acc_tr 0.740509, acc_tt 0.7466, cost 11.1117\n",
      "step 3200: acc_tr 0.7482, acc_tt 0.7568, cost 10.7508\n",
      "step 3400: acc_tr 0.753727, acc_tt 0.7624, cost 10.3853\n",
      "step 3600: acc_tr 0.759491, acc_tt 0.7692, cost 10.0918\n",
      "step 3800: acc_tr 0.764273, acc_tt 0.7732, cost 9.78933\n",
      "step 4000: acc_tr 0.768945, acc_tt 0.7758, cost 9.55207\n",
      "step 4200: acc_tr 0.773109, acc_tt 0.7822, cost 9.31324\n",
      "step 4400: acc_tr 0.778327, acc_tt 0.7866, cost 9.10147\n",
      "step 4600: acc_tr 0.781709, acc_tt 0.7894, cost 8.89353\n",
      "step 4800: acc_tr 0.785127, acc_tt 0.7936, cost 8.73625\n",
      "step 5000: acc_tr 0.788745, acc_tt 0.7984, cost 8.53616\n",
      "step 5200: acc_tr 0.791618, acc_tt 0.801, cost 8.3802\n",
      "step 5400: acc_tr 0.793964, acc_tt 0.8044, cost 8.22637\n",
      "step 5600: acc_tr 0.7974, acc_tt 0.8068, cost 8.06546\n",
      "step 5800: acc_tr 0.799582, acc_tt 0.8084, cost 7.93324\n",
      "step 6000: acc_tr 0.801564, acc_tt 0.8114, cost 7.80462\n",
      "step 6200: acc_tr 0.804618, acc_tt 0.8128, cost 7.68601\n",
      "step 6400: acc_tr 0.806873, acc_tt 0.8172, cost 7.58279\n",
      "step 6600: acc_tr 0.808855, acc_tt 0.8172, cost 7.44751\n",
      "step 6800: acc_tr 0.810782, acc_tt 0.8182, cost 7.34696\n",
      "step 7000: acc_tr 0.812655, acc_tt 0.82, cost 7.24186\n",
      "step 7200: acc_tr 0.814764, acc_tt 0.8216, cost 7.16278\n",
      "step 7400: acc_tr 0.816291, acc_tt 0.8236, cost 7.06827\n",
      "step 7600: acc_tr 0.818309, acc_tt 0.8258, cost 6.98632\n",
      "step 7800: acc_tr 0.819855, acc_tt 0.8266, cost 6.89685\n",
      "step 8000: acc_tr 0.821455, acc_tt 0.8284, cost 6.81892\n",
      "step 8200: acc_tr 0.822673, acc_tt 0.8292, cost 6.73667\n",
      "--------------------------\n",
      "Learning Finished!\n",
      "Accuracy: 0.8296\n",
      "Label:  [8]\n",
      "Prediction:  [8]\n",
      "Wall time: 14.7 s\n"
     ]
    }
   ],
   "source": [
    "%%time\n",
    "# initialize session\n",
    "sess = tf.InteractiveSession()\n",
    "sess.run(tf.global_variables_initializer())\n",
    "\n",
    "# for plotting\n",
    "x_range=[]\n",
    "train_accuracies=[]\n",
    "val_accuracies=[]\n",
    "val_costs=[]\n",
    "\n",
    "total_iter = int(mnist.train.num_examples/batch_size*training_epochs)\n",
    "print('Total step:', total_iter)\n",
    "for i in range(total_iter):\n",
    "    batch = mnist.train.next_batch(batch_size)\n",
    "    optimizer.run(feed_dict={X: batch[0], Y: batch[1]})\n",
    "\n",
    "    if i % 200 == 0:   \n",
    "        train_accuracy = accuracy.eval(feed_dict={X:mnist.train.images, Y:mnist.train.labels})\n",
    "        val_accuracy = accuracy.eval(feed_dict={X: mnist.validation.images, Y: mnist.validation.labels})\n",
    "        cost_ = cost.eval(feed_dict={X:mnist.test.images, Y:mnist.test.labels})\n",
    "        print('step %d: acc_tr %g, acc_tt %g, cost %g' % (i, train_accuracy, val_accuracy, cost_))\n",
    "\n",
    "        # for plotting\n",
    "        train_accuracies.append(train_accuracy)\n",
    "        val_accuracies.append(val_accuracy)\n",
    "        val_costs.append(cost_)\n",
    "        x_range.append(i)\n",
    "\n",
    "print('--------------------------')\n",
    "print('Learning Finished!')\n",
    "\n",
    "# Test model and check accuracy\n",
    "print('Accuracy:', sess.run(accuracy, feed_dict={\n",
    "      X: mnist.test.images, Y: mnist.test.labels}))\n",
    "\n",
    "# Get one and predict\n",
    "r = random.randint(0, mnist.test.num_examples - 1)\n",
    "print(\"Label: \", sess.run(tf.argmax(mnist.test.labels[r:r + 1], 1)))\n",
    "print(\"Prediction: \", sess.run(\n",
    "    tf.argmax(hypothesis, 1), feed_dict={X: mnist.test.images[r:r + 1]}))"
   ]
  },
  {
   "cell_type": "code",
   "execution_count": 9,
   "metadata": {},
   "outputs": [
    {
     "data": {
      "image/png": "[encoded data removed]",
      "text/plain": [
       "<matplotlib.figure.Figure at 0x22ad0fe0a58>"
      ]
     },
     "metadata": {},
     "output_type": "display_data"
    }
   ],
   "source": [
    "# draw graph\n",
    "import matplotlib.pyplot as plt\n",
    "plt.imshow(mnist.test.images[r:r + 1].\n",
    "          reshape(28, 28), cmap='Greys', interpolation='nearest')\n",
    "plt.show()"
   ]
  },
  {
   "cell_type": "code",
   "execution_count": 10,
   "metadata": {},
   "outputs": [
    {
     "data": {
      "image/png": "[encoded data removed]",
      "text/plain": [
       "<matplotlib.figure.Figure at 0x22a946fdb70>"
      ]
     },
     "metadata": {},
     "output_type": "display_data"
    }
   ],
   "source": [
    "# plot learning result\n",
    "\n",
    "plt.figure(figsize=(18,5))\n",
    "plt.subplot(121)\n",
    "plt.plot(x_range, train_accuracies,'-b', label='Training')\n",
    "plt.plot(x_range, val_accuracies,'-g', label='Validation')\n",
    "plt.legend(loc='lower right', frameon=False)\n",
    "# plt.ylim(ymax = 1.1, ymin = 0.7)\n",
    "plt.ylabel('accuracy')\n",
    "plt.xlabel('step')\n",
    "plt.title('FCN: Accuracy')\n",
    "\n",
    "plt.subplot(122)\n",
    "plt.plot(x_range, val_costs,'-r', label='Validatin_cost')\n",
    "plt.legend(loc='lower right', frameon=False)\n",
    "# plt.ylim(ymax = 1.1, ymin = 0.7)\n",
    "plt.ylabel('cost')\n",
    "plt.xlabel('step')\n",
    "plt.title('FCN: Validation Cost')\n",
    "plt.show()"
   ]
  }
 ],
 "metadata": {
  "kernelspec": {
   "display_name": "Python 3",
   "language": "python",
   "name": "python3"
  },
  "language_info": {
   "codemirror_mode": {
    "name": "ipython",
    "version": 3
   },
   "file_extension": ".py",
   "mimetype": "text/x-python",
   "name": "python",
   "nbconvert_exporter": "python",
   "pygments_lexer": "ipython3",
   "version": "3.6.2"
  }
 },
 "nbformat": 4,
 "nbformat_minor": 2
}
