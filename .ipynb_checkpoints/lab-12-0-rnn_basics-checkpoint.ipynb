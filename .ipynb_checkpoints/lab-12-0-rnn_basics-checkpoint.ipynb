{
 "cells": [
  {
   "cell_type": "code",
   "execution_count": 1,
   "metadata": {},
   "outputs": [
    {
     "name": "stderr",
     "output_type": "stream",
     "text": [
      "C:\\ProgramData\\Anaconda3\\lib\\site-packages\\h5py\\__init__.py:34: FutureWarning: Conversion of the second argument of issubdtype from `float` to `np.floating` is deprecated. In future, it will be treated as `np.float64 == np.dtype(float).type`.\n",
      "  from ._conv import register_converters as _register_converters\n"
     ]
    }
   ],
   "source": [
    "# http://www.wildml.com/2016/08/rnns-in-tensorflow-a-practical-guide-and-undocumented-features/\n",
    "# http://learningtensorflow.com/index.html\n",
    "# http://suriyadeepan.github.io/2016-12-31-practical-seq2seq/\n",
    "\n",
    "import tensorflow as tf\n",
    "import numpy as np;\n",
    "from tensorflow.contrib import rnn\n",
    "import pprint\n",
    "pp = pprint.PrettyPrinter(indent=4)\n",
    "sess = tf.InteractiveSession()"
   ]
  },
  {
   "cell_type": "code",
   "execution_count": 2,
   "metadata": {
    "collapsed": true
   },
   "outputs": [],
   "source": [
    "# One hot encoding for each char in 'hello'\n",
    "h = [1, 0, 0, 0]\n",
    "e = [0, 1, 0, 0]\n",
    "l = [0, 0, 1, 0]\n",
    "o = [0, 0, 0, 1]"
   ]
  },
  {
   "cell_type": "markdown",
   "metadata": {},
   "source": [
    "![image](https://cloud.githubusercontent.com/assets/901975/23348727/cc981856-fce7-11e6-83ea-4b187473466b.png)\n"
   ]
  },
  {
   "cell_type": "code",
   "execution_count": 3,
   "metadata": {},
   "outputs": [
    {
     "name": "stdout",
     "output_type": "stream",
     "text": [
      "2 2\n",
      "array([[[1., 0., 0., 0.]]], dtype=float32)\n",
      "array([[[ 0.25353152, -0.38124302]]], dtype=float32)\n"
     ]
    }
   ],
   "source": [
    "with tf.variable_scope('one_cell') as scope:\n",
    "    # One cell RNN input_dim (4) -> output_dim (2)\n",
    "    hidden_size = 2\n",
    "    cell = tf.contrib.rnn.BasicRNNCell(num_units=hidden_size)\n",
    "    print(cell.output_size, cell.state_size)\n",
    "\n",
    "    x_data = np.array([[h]], dtype=np.float32) # x_data = [[[1,0,0,0]]]\n",
    "    pp.pprint(x_data)\n",
    "    outputs, _states = tf.nn.dynamic_rnn(cell, x_data, dtype=tf.float32)\n",
    "\n",
    "    sess.run(tf.global_variables_initializer())\n",
    "    pp.pprint(outputs.eval())"
   ]
  },
  {
   "cell_type": "markdown",
   "metadata": {},
   "source": [
    "![image](https://cloud.githubusercontent.com/assets/901975/23383634/649efd0a-fd82-11e6-925d-8041242743b0.png)"
   ]
  },
  {
   "cell_type": "code",
   "execution_count": 4,
   "metadata": {},
   "outputs": [
    {
     "name": "stdout",
     "output_type": "stream",
     "text": [
      "(1, 5, 4)\n",
      "array([[[1., 0., 0., 0.],\n",
      "        [0., 1., 0., 0.],\n",
      "        [0., 0., 1., 0.],\n",
      "        [0., 0., 1., 0.],\n",
      "        [0., 0., 0., 1.]]], dtype=float32)\n",
      "array([[[ 0.62770045,  0.00986449],\n",
      "        [-0.05255038, -0.4901402 ],\n",
      "        [ 0.6168245 ,  0.56070495],\n",
      "        [ 0.4122445 , -0.03717238],\n",
      "        [ 0.32332072,  0.40726092]]], dtype=float32)\n"
     ]
    }
   ],
   "source": [
    "with tf.variable_scope('two_sequances') as scope:\n",
    "    # One cell RNN input_dim (4) -> output_dim (2). sequence: 5\n",
    "    hidden_size = 2\n",
    "    cell = tf.contrib.rnn.BasicRNNCell(num_units=hidden_size)\n",
    "    x_data = np.array([[h, e, l, l, o]], dtype=np.float32)\n",
    "    print(x_data.shape)\n",
    "    pp.pprint(x_data)\n",
    "    outputs, states = tf.nn.dynamic_rnn(cell, x_data, dtype=tf.float32)\n",
    "    sess.run(tf.global_variables_initializer())\n",
    "    pp.pprint(outputs.eval())"
   ]
  },
  {
   "cell_type": "markdown",
   "metadata": {},
   "source": [
    "![image](https://cloud.githubusercontent.com/assets/901975/23383681/9943a9fc-fd82-11e6-8121-bd187994e249.png)"
   ]
  },
  {
   "cell_type": "code",
   "execution_count": 5,
   "metadata": {},
   "outputs": [
    {
     "name": "stdout",
     "output_type": "stream",
     "text": [
      "array([[[1., 0., 0., 0.],\n",
      "        [0., 1., 0., 0.],\n",
      "        [0., 0., 1., 0.],\n",
      "        [0., 0., 1., 0.],\n",
      "        [0., 0., 0., 1.]],\n",
      "\n",
      "       [[0., 1., 0., 0.],\n",
      "        [0., 0., 0., 1.],\n",
      "        [0., 0., 1., 0.],\n",
      "        [0., 0., 1., 0.],\n",
      "        [0., 0., 1., 0.]],\n",
      "\n",
      "       [[0., 0., 1., 0.],\n",
      "        [0., 0., 1., 0.],\n",
      "        [0., 1., 0., 0.],\n",
      "        [0., 1., 0., 0.],\n",
      "        [0., 0., 1., 0.]]], dtype=float32)\n",
      "array([[[-0.06219105, -0.01099421],\n",
      "        [-0.10651003,  0.01913863],\n",
      "        [ 0.08602893,  0.12481384],\n",
      "        [ 0.19820604,  0.1726022 ],\n",
      "        [ 0.17979996,  0.11810107]],\n",
      "\n",
      "       [[-0.02272038,  0.02060791],\n",
      "        [-0.01012713,  0.01987761],\n",
      "        [ 0.14364548,  0.11615264],\n",
      "        [ 0.23534514,  0.16332924],\n",
      "        [ 0.29399288,  0.18383114]],\n",
      "\n",
      "       [[ 0.15078431,  0.10517859],\n",
      "        [ 0.24028231,  0.1564656 ],\n",
      "        [ 0.19216289,  0.13652058],\n",
      "        [ 0.13251089,  0.11432255],\n",
      "        [ 0.2225451 ,  0.15972325]]], dtype=float32)\n"
     ]
    }
   ],
   "source": [
    "with tf.variable_scope('3_batches') as scope:\n",
    "    # One cell RNN input_dim (4) -> output_dim (2). sequence: 5, batch 3\n",
    "    # 3 batches 'hello', 'eolll', 'lleel'\n",
    "    x_data = np.array([[h, e, l, l, o],\n",
    "                       [e, o, l, l, l],\n",
    "                       [l, l, e, e, l]], dtype=np.float32)\n",
    "    pp.pprint(x_data)\n",
    "    \n",
    "    hidden_size = 2\n",
    "    cell = rnn.BasicLSTMCell(num_units=hidden_size, state_is_tuple=True)\n",
    "    outputs, _states = tf.nn.dynamic_rnn(\n",
    "        cell, x_data, dtype=tf.float32)\n",
    "    sess.run(tf.global_variables_initializer())\n",
    "    pp.pprint(outputs.eval())"
   ]
  },
  {
   "cell_type": "code",
   "execution_count": 6,
   "metadata": {},
   "outputs": [
    {
     "name": "stdout",
     "output_type": "stream",
     "text": [
      "array([[[1., 0., 0., 0.],\n",
      "        [0., 1., 0., 0.],\n",
      "        [0., 0., 1., 0.],\n",
      "        [0., 0., 1., 0.],\n",
      "        [0., 0., 0., 1.]],\n",
      "\n",
      "       [[0., 1., 0., 0.],\n",
      "        [0., 0., 0., 1.],\n",
      "        [0., 0., 1., 0.],\n",
      "        [0., 0., 1., 0.],\n",
      "        [0., 0., 1., 0.]],\n",
      "\n",
      "       [[0., 0., 1., 0.],\n",
      "        [0., 0., 1., 0.],\n",
      "        [0., 1., 0., 0.],\n",
      "        [0., 1., 0., 0.],\n",
      "        [0., 0., 1., 0.]]], dtype=float32)\n",
      "array([[[-0.03665272, -0.08603765],\n",
      "        [-0.05067253, -0.04695345],\n",
      "        [ 0.00550083,  0.12136231],\n",
      "        [ 0.0562441 ,  0.23520145],\n",
      "        [ 0.03805113,  0.11890974]],\n",
      "\n",
      "       [[-0.03038856,  0.03534475],\n",
      "        [-0.01513103,  0.01431402],\n",
      "        [ 0.03984192,  0.16457097],\n",
      "        [ 0.        ,  0.        ],\n",
      "        [ 0.        ,  0.        ]],\n",
      "\n",
      "       [[ 0.05872437,  0.14578155],\n",
      "        [ 0.10614235,  0.2434153 ],\n",
      "        [ 0.03219486,  0.24239312],\n",
      "        [-0.01725218,  0.24230239],\n",
      "        [ 0.        ,  0.        ]]], dtype=float32)\n"
     ]
    }
   ],
   "source": [
    "with tf.variable_scope('3_batches_dynamic_length') as scope:\n",
    "    # One cell RNN input_dim (4) -> output_dim (5). sequence: 5, batch 3\n",
    "    # 3 batches 'hello', 'eolll', 'lleel'\n",
    "    x_data = np.array([[h, e, l, l, o],\n",
    "                       [e, o, l, l, l],\n",
    "                       [l, l, e, e, l]], dtype=np.float32)\n",
    "    pp.pprint(x_data)\n",
    "    \n",
    "    hidden_size = 2\n",
    "    cell = rnn.BasicLSTMCell(num_units=hidden_size, state_is_tuple=True)\n",
    "    outputs, _states = tf.nn.dynamic_rnn(\n",
    "        cell, x_data, sequence_length=[5,3,4], dtype=tf.float32)\n",
    "    sess.run(tf.global_variables_initializer())\n",
    "    pp.pprint(outputs.eval())"
   ]
  },
  {
   "cell_type": "code",
   "execution_count": 7,
   "metadata": {},
   "outputs": [
    {
     "name": "stdout",
     "output_type": "stream",
     "text": [
      "array([[[1., 0., 0., 0.],\n",
      "        [0., 1., 0., 0.],\n",
      "        [0., 0., 1., 0.],\n",
      "        [0., 0., 1., 0.],\n",
      "        [0., 0., 0., 1.]],\n",
      "\n",
      "       [[0., 1., 0., 0.],\n",
      "        [0., 0., 0., 1.],\n",
      "        [0., 0., 1., 0.],\n",
      "        [0., 0., 1., 0.],\n",
      "        [0., 0., 1., 0.]],\n",
      "\n",
      "       [[0., 0., 1., 0.],\n",
      "        [0., 0., 1., 0.],\n",
      "        [0., 1., 0., 0.],\n",
      "        [0., 1., 0., 0.],\n",
      "        [0., 0., 1., 0.]]], dtype=float32)\n",
      "array([[[ 0.18832435, -0.04882861],\n",
      "        [ 0.20916383, -0.03173139],\n",
      "        [ 0.15483086,  0.08937699],\n",
      "        [ 0.0569924 ,  0.15280218],\n",
      "        [-0.02889918,  0.2243461 ]],\n",
      "\n",
      "       [[ 0.1423103 , -0.01378568],\n",
      "        [ 0.0132358 ,  0.05629058],\n",
      "        [-0.0155682 ,  0.10625246],\n",
      "        [-0.0337203 ,  0.14555953],\n",
      "        [-0.0404962 ,  0.16704859]],\n",
      "\n",
      "       [[-0.03276835,  0.08514413],\n",
      "        [-0.04421207,  0.13221982],\n",
      "        [ 0.13127321,  0.11559415],\n",
      "        [ 0.21868217,  0.07880902],\n",
      "        [ 0.16873711,  0.14001356]]], dtype=float32)\n"
     ]
    }
   ],
   "source": [
    "with tf.variable_scope('initial_state') as scope:\n",
    "    batch_size = 3\n",
    "    x_data = np.array([[h, e, l, l, o],\n",
    "                      [e, o, l, l, l],\n",
    "                      [l, l, e, e, l]], dtype=np.float32)\n",
    "    pp.pprint(x_data)\n",
    "    \n",
    "    # One cell RNN input_dim (4) -> output_dim (5). sequence: 5, batch: 3\n",
    "    hidden_size=2\n",
    "    cell = rnn.BasicLSTMCell(num_units=hidden_size, state_is_tuple=True)\n",
    "    initial_state = cell.zero_state(batch_size, tf.float32)\n",
    "    outputs, _states = tf.nn.dynamic_rnn(cell, x_data,\n",
    "                                         initial_state=initial_state, dtype=tf.float32)\n",
    "    sess.run(tf.global_variables_initializer())\n",
    "    pp.pprint(outputs.eval())"
   ]
  },
  {
   "cell_type": "code",
   "execution_count": 8,
   "metadata": {},
   "outputs": [
    {
     "name": "stdout",
     "output_type": "stream",
     "text": [
      "array([[[ 0.,  1.,  2.],\n",
      "        [ 3.,  4.,  5.],\n",
      "        [ 6.,  7.,  8.],\n",
      "        [ 9., 10., 11.],\n",
      "        [12., 13., 14.]],\n",
      "\n",
      "       [[15., 16., 17.],\n",
      "        [18., 19., 20.],\n",
      "        [21., 22., 23.],\n",
      "        [24., 25., 26.],\n",
      "        [27., 28., 29.]],\n",
      "\n",
      "       [[30., 31., 32.],\n",
      "        [33., 34., 35.],\n",
      "        [36., 37., 38.],\n",
      "        [39., 40., 41.],\n",
      "        [42., 43., 44.]]], dtype=float32)\n"
     ]
    }
   ],
   "source": [
    "# Create input data\n",
    "batch_size=3\n",
    "sequence_length=5\n",
    "input_dim=3\n",
    "\n",
    "x_data = np.arange(45, dtype=np.float32).reshape(batch_size, sequence_length, input_dim)\n",
    "pp.pprint(x_data)  # batch, sequence_length, input_dim"
   ]
  },
  {
   "cell_type": "code",
   "execution_count": 9,
   "metadata": {},
   "outputs": [
    {
     "name": "stdout",
     "output_type": "stream",
     "text": [
      "array([[[-1.2697624e-01, -1.6370183e-01,  5.5429835e-02, -2.7616326e-02,\n",
      "         -1.6166409e-02],\n",
      "        [-1.1515450e-01, -2.2084413e-01,  6.3222778e-01, -7.6658633e-03,\n",
      "         -2.5761175e-01],\n",
      "        [-2.6808485e-02, -2.0609497e-01,  9.1906321e-01, -9.0490124e-04,\n",
      "         -4.4715497e-01],\n",
      "        [-2.9834674e-03, -1.7402244e-01,  9.8520261e-01, -6.1402759e-05,\n",
      "         -5.2905798e-01],\n",
      "        [-3.3736907e-04, -1.4436315e-01,  9.9747223e-01, -7.2510056e-06,\n",
      "         -5.7801569e-01]],\n",
      "\n",
      "       [[-6.7622022e-05, -7.0049960e-06,  7.6142257e-01, -2.6248704e-06,\n",
      "         -4.7248051e-01],\n",
      "        [-8.4153180e-06, -6.4339388e-06,  9.6358925e-01, -2.7090522e-07,\n",
      "         -6.3917875e-01],\n",
      "        [-1.2468383e-06, -5.4630586e-06,  9.9493575e-01, -2.8579350e-08,\n",
      "         -6.9572413e-01],\n",
      "        [-1.9602233e-07, -4.6319351e-06,  9.9930733e-01, -3.7117496e-09,\n",
      "         -7.3010004e-01],\n",
      "        [-3.1075075e-08, -3.9534234e-06,  9.9990571e-01, -4.9339155e-10,\n",
      "         -7.5905871e-01]],\n",
      "\n",
      "       [[-6.8521802e-09, -9.0991208e-11,  7.6159418e-01, -7.1137311e-11,\n",
      "         -5.8405495e-01],\n",
      "        [-8.4458457e-10, -8.6369745e-11,  9.6401870e-01, -9.3467742e-12,\n",
      "         -7.7503890e-01],\n",
      "        [-1.2537146e-10, -7.6043477e-11,  9.9505228e-01, -1.0940631e-12,\n",
      "         -8.2579237e-01],\n",
      "        [-1.9677999e-11, -6.6805485e-11,  9.9932885e-01, -1.3642410e-13,\n",
      "         -8.4965783e-01],\n",
      "        [-3.1146314e-12, -5.8993234e-11,  9.9990910e-01, -1.7124640e-14,\n",
      "         -8.6781311e-01]]], dtype=float32)\n"
     ]
    }
   ],
   "source": [
    "with tf.variable_scope('generated_data') as scope:\n",
    "    # One cell RNN input_dim (3) -> output_dim (5). sequence: 5, batch: 3\n",
    "    cell = rnn.BasicLSTMCell(num_units=5, state_is_tuple=True)\n",
    "    initial_state = cell.zero_state(batch_size, tf.float32)\n",
    "    outputs, _states = tf.nn.dynamic_rnn(cell, x_data,\n",
    "                                         initial_state=initial_state, dtype=tf.float32)\n",
    "    sess.run(tf.global_variables_initializer())\n",
    "    pp.pprint(outputs.eval())"
   ]
  },
  {
   "cell_type": "code",
   "execution_count": 10,
   "metadata": {},
   "outputs": [
    {
     "name": "stdout",
     "output_type": "stream",
     "text": [
      "dynamic rnn:  Tensor(\"MultiRNNCell/rnn/transpose:0\", shape=(3, 5, 5), dtype=float32)\n",
      "array([[[-2.0882947e-04,  1.2552479e-03, -3.1736863e-04,  1.1309138e-03,\n",
      "          3.2443483e-03],\n",
      "        [-1.5763624e-04,  2.0796498e-03,  8.3700154e-04,  2.7685205e-03,\n",
      "          1.4514539e-02],\n",
      "        [-8.8484591e-04,  1.6487564e-03,  3.6524446e-03,  5.0008451e-03,\n",
      "          3.0442897e-02],\n",
      "        [-2.6619895e-03,  6.5268301e-05,  7.5394856e-03,  7.7751526e-03,\n",
      "          4.7485728e-02],\n",
      "        [-5.4307776e-03, -2.2621737e-03,  1.1869598e-02,  1.0967651e-02,\n",
      "          6.3511059e-02]],\n",
      "\n",
      "       [[-5.9470750e-04,  7.0152535e-05,  6.6336355e-04,  5.5041013e-04,\n",
      "          3.7130907e-03],\n",
      "        [-1.7675863e-03, -5.8614438e-05,  2.1618833e-03,  1.7198941e-03,\n",
      "          1.0941230e-02],\n",
      "        [-3.4315768e-03, -5.6649995e-04,  4.3695956e-03,  3.4570443e-03,\n",
      "          2.0346874e-02],\n",
      "        [-5.5402545e-03, -1.4820436e-03,  7.0379865e-03,  5.6655700e-03,\n",
      "          3.0530728e-02],\n",
      "        [-8.0615673e-03, -2.7234845e-03,  9.9067362e-03,  8.2201110e-03,\n",
      "          4.0411197e-02]],\n",
      "\n",
      "       [[-2.4301436e-04,  2.6682175e-05,  2.4992161e-04,  2.1575592e-04,\n",
      "          1.3701317e-03],\n",
      "        [-7.6524285e-04, -7.3197516e-06,  8.3824445e-04,  7.1892625e-04,\n",
      "          4.1643437e-03],\n",
      "        [-1.5599992e-03, -1.7809258e-04,  1.7446530e-03,  1.5153219e-03,\n",
      "          7.9536363e-03],\n",
      "        [-2.6169014e-03, -5.1555794e-04,  2.8917925e-03,  2.5744538e-03,\n",
      "          1.2219982e-02],\n",
      "        [-3.9205705e-03, -1.0069495e-03,  4.1838340e-03,  3.8434267e-03,\n",
      "          1.6521275e-02]]], dtype=float32)\n"
     ]
    }
   ],
   "source": [
    "with tf.variable_scope('MultiRNNCell') as scope:\n",
    "    # Make rnn\n",
    "#     cell = rnn.BasicLSTMCell(num_units=5, state_is_tuple=True)\n",
    "    cell = rnn.MultiRNNCell([rnn.BasicLSTMCell(num_units=5, state_is_tuple=True) for _ in range(3)]\n",
    "                             , state_is_tuple=True) # 3 layers\n",
    "#         cell = rnn.MultiRNNCell([cell] * 3, state_is_tuple=True) # 3 layers\n",
    "\n",
    "\n",
    "    # rnn in/out\n",
    "    outputs, _states = tf.nn.dynamic_rnn(cell, x_data, dtype=tf.float32)\n",
    "    print(\"dynamic rnn: \", outputs)\n",
    "    sess.run(tf.global_variables_initializer())\n",
    "    pp.pprint(outputs.eval())  # batch size, unrolling (time), hidden_size"
   ]
  },
  {
   "cell_type": "code",
   "execution_count": 11,
   "metadata": {},
   "outputs": [
    {
     "name": "stdout",
     "output_type": "stream",
     "text": [
      "dynamic rnn:  Tensor(\"dynamic_rnn/rnn/transpose:0\", shape=(3, 5, 5), dtype=float32)\n",
      "array([[[-8.7959245e-02, -9.4180897e-02, -4.6139833e-02, -1.0976961e-01,\n",
      "         -1.7106529e-01],\n",
      "        [ 0.0000000e+00,  0.0000000e+00,  0.0000000e+00,  0.0000000e+00,\n",
      "          0.0000000e+00],\n",
      "        [ 0.0000000e+00,  0.0000000e+00,  0.0000000e+00,  0.0000000e+00,\n",
      "          0.0000000e+00],\n",
      "        [ 0.0000000e+00,  0.0000000e+00,  0.0000000e+00,  0.0000000e+00,\n",
      "          0.0000000e+00],\n",
      "        [ 0.0000000e+00,  0.0000000e+00,  0.0000000e+00,  0.0000000e+00,\n",
      "          0.0000000e+00]],\n",
      "\n",
      "       [[-5.4868472e-01,  3.4973902e-01, -1.1816413e-06,  1.7141610e-04,\n",
      "         -4.0554218e-02],\n",
      "        [-7.4785018e-01,  3.6749136e-01, -1.3551676e-06,  3.9310104e-05,\n",
      "         -2.0761415e-02],\n",
      "        [-8.1295830e-01,  3.7576732e-01, -1.4061635e-06,  8.9051255e-06,\n",
      "         -1.1777908e-02],\n",
      "        [ 0.0000000e+00,  0.0000000e+00,  0.0000000e+00,  0.0000000e+00,\n",
      "          0.0000000e+00],\n",
      "        [ 0.0000000e+00,  0.0000000e+00,  0.0000000e+00,  0.0000000e+00,\n",
      "          0.0000000e+00]],\n",
      "\n",
      "       [[-6.6826183e-01,  3.9051926e-01, -3.4020161e-12,  9.6337089e-08,\n",
      "         -2.2222968e-03],\n",
      "        [-8.7548184e-01,  4.0710139e-01, -3.7866806e-12,  1.6574639e-08,\n",
      "         -9.9388987e-04],\n",
      "        [ 0.0000000e+00,  0.0000000e+00,  0.0000000e+00,  0.0000000e+00,\n",
      "          0.0000000e+00],\n",
      "        [ 0.0000000e+00,  0.0000000e+00,  0.0000000e+00,  0.0000000e+00,\n",
      "          0.0000000e+00],\n",
      "        [ 0.0000000e+00,  0.0000000e+00,  0.0000000e+00,  0.0000000e+00,\n",
      "          0.0000000e+00]]], dtype=float32)\n"
     ]
    }
   ],
   "source": [
    "with tf.variable_scope('dynamic_rnn') as scope:\n",
    "    cell = rnn.BasicLSTMCell(num_units=5, state_is_tuple=True)\n",
    "    outputs, _states = tf.nn.dynamic_rnn(cell, x_data, dtype=tf.float32,\n",
    "                                         sequence_length=[1, 3, 2])\n",
    "    # lentgh 1 for batch 1, lentgh 2 for batch 2\n",
    "    \n",
    "    print(\"dynamic rnn: \", outputs)\n",
    "    sess.run(tf.global_variables_initializer())\n",
    "    pp.pprint(outputs.eval())  # batch size, unrolling (time), hidden_size"
   ]
  },
  {
   "cell_type": "code",
   "execution_count": 12,
   "metadata": {},
   "outputs": [
    {
     "name": "stdout",
     "output_type": "stream",
     "text": [
      "(   array([[[-7.09608719e-02,  1.26819670e-01, -9.18260738e-02,\n",
      "         -1.20876223e-01,  1.90682530e-01],\n",
      "        [ 7.69264027e-02,  2.08882377e-01, -2.07076222e-01,\n",
      "         -2.12751068e-02,  4.80582803e-01],\n",
      "        [ 0.00000000e+00,  0.00000000e+00,  0.00000000e+00,\n",
      "          0.00000000e+00,  0.00000000e+00],\n",
      "        [ 0.00000000e+00,  0.00000000e+00,  0.00000000e+00,\n",
      "          0.00000000e+00,  0.00000000e+00],\n",
      "        [ 0.00000000e+00,  0.00000000e+00,  0.00000000e+00,\n",
      "          0.00000000e+00,  0.00000000e+00]],\n",
      "\n",
      "       [[ 2.39114866e-01,  9.46292494e-05, -1.27583474e-01,\n",
      "         -1.25867234e-06,  6.41262770e-01],\n",
      "        [ 3.98125529e-01,  1.06819156e-04, -1.69756159e-01,\n",
      "         -1.08136696e-07,  6.77737892e-01],\n",
      "        [ 5.11337698e-01,  1.08892309e-04, -1.93088040e-01,\n",
      "         -9.66755920e-09,  6.84586406e-01],\n",
      "        [ 0.00000000e+00,  0.00000000e+00,  0.00000000e+00,\n",
      "          0.00000000e+00,  0.00000000e+00],\n",
      "        [ 0.00000000e+00,  0.00000000e+00,  0.00000000e+00,\n",
      "          0.00000000e+00,  0.00000000e+00]],\n",
      "\n",
      "       [[ 7.73231462e-02,  1.79414688e-08, -7.92609453e-02,\n",
      "         -5.47864532e-12,  7.17633426e-01],\n",
      "        [ 0.00000000e+00,  0.00000000e+00,  0.00000000e+00,\n",
      "          0.00000000e+00,  0.00000000e+00],\n",
      "        [ 0.00000000e+00,  0.00000000e+00,  0.00000000e+00,\n",
      "          0.00000000e+00,  0.00000000e+00],\n",
      "        [ 0.00000000e+00,  0.00000000e+00,  0.00000000e+00,\n",
      "          0.00000000e+00,  0.00000000e+00],\n",
      "        [ 0.00000000e+00,  0.00000000e+00,  0.00000000e+00,\n",
      "          0.00000000e+00,  0.00000000e+00]]], dtype=float32),\n",
      "    array([[[ 2.0664161e-01, -8.7684385e-02,  4.1134569e-01, -3.0060619e-01,\n",
      "         -4.6101201e-01],\n",
      "        [ 1.1168020e-01, -3.8370505e-02,  5.4056072e-01, -2.5998476e-01,\n",
      "         -4.8302609e-01],\n",
      "        [ 0.0000000e+00,  0.0000000e+00,  0.0000000e+00,  0.0000000e+00,\n",
      "          0.0000000e+00],\n",
      "        [ 0.0000000e+00,  0.0000000e+00,  0.0000000e+00,  0.0000000e+00,\n",
      "          0.0000000e+00],\n",
      "        [ 0.0000000e+00,  0.0000000e+00,  0.0000000e+00,  0.0000000e+00,\n",
      "          0.0000000e+00]],\n",
      "\n",
      "       [[-6.6286409e-01, -7.1489078e-05,  9.9031824e-01, -1.9357252e-01,\n",
      "         -9.9311239e-01],\n",
      "        [-7.1226543e-01, -1.3693830e-05,  9.6259224e-01, -1.6822281e-01,\n",
      "         -9.5949006e-01],\n",
      "        [-7.2349298e-01, -2.6788136e-06,  7.6128954e-01, -1.3457192e-01,\n",
      "         -7.5719881e-01],\n",
      "        [ 0.0000000e+00,  0.0000000e+00,  0.0000000e+00,  0.0000000e+00,\n",
      "          0.0000000e+00],\n",
      "        [ 0.0000000e+00,  0.0000000e+00,  0.0000000e+00,  0.0000000e+00,\n",
      "          0.0000000e+00]],\n",
      "\n",
      "       [[-7.5498581e-01, -1.6347611e-08,  7.6158416e-01, -8.9848734e-02,\n",
      "         -7.6098073e-01],\n",
      "        [ 0.0000000e+00,  0.0000000e+00,  0.0000000e+00,  0.0000000e+00,\n",
      "          0.0000000e+00],\n",
      "        [ 0.0000000e+00,  0.0000000e+00,  0.0000000e+00,  0.0000000e+00,\n",
      "          0.0000000e+00],\n",
      "        [ 0.0000000e+00,  0.0000000e+00,  0.0000000e+00,  0.0000000e+00,\n",
      "          0.0000000e+00],\n",
      "        [ 0.0000000e+00,  0.0000000e+00,  0.0000000e+00,  0.0000000e+00,\n",
      "          0.0000000e+00]]], dtype=float32))\n",
      "(   LSTMStateTuple(c=array([[ 9.4743662e-02,  2.1451972e-01, -5.4318237e-01, -1.1898667e+00,\n",
      "         8.8191843e-01],\n",
      "       [ 5.6474435e-01,  1.0889231e-04, -5.5296904e-01, -2.1861267e+00,\n",
      "         1.0462819e+00],\n",
      "       [ 7.7478655e-02,  1.7941469e-08, -1.8557094e-01, -9.9999982e-01,\n",
      "         9.9999779e-01]], dtype=float32), h=array([[ 7.6926403e-02,  2.0888238e-01, -2.0707622e-01, -2.1275107e-02,\n",
      "         4.8058280e-01],\n",
      "       [ 5.1133770e-01,  1.0889231e-04, -1.9308804e-01, -9.6675592e-09,\n",
      "         6.8458641e-01],\n",
      "       [ 7.7323146e-02,  1.7941469e-08, -7.9260945e-02, -5.4786453e-12,\n",
      "         7.1763343e-01]], dtype=float32)),\n",
      "    LSTMStateTuple(c=array([[ 3.8075837e-01, -1.1181419e-01,  1.4116327e+00, -1.0210764e+00,\n",
      "        -7.4360693e-01],\n",
      "       [-7.9831177e-01, -7.1760893e-05,  2.9999948e+00, -1.0125768e+00,\n",
      "        -2.8338919e+00],\n",
      "       [-9.8445028e-01, -1.6350604e-08,  1.0000000e+00, -1.0000000e+00,\n",
      "        -9.9854094e-01]], dtype=float32), h=array([[ 2.0664161e-01, -8.7684385e-02,  4.1134569e-01, -3.0060619e-01,\n",
      "        -4.6101201e-01],\n",
      "       [-6.6286409e-01, -7.1489078e-05,  9.9031824e-01, -1.9357252e-01,\n",
      "        -9.9311239e-01],\n",
      "       [-7.5498581e-01, -1.6347611e-08,  7.6158416e-01, -8.9848734e-02,\n",
      "        -7.6098073e-01]], dtype=float32)))\n"
     ]
    }
   ],
   "source": [
    "with tf.variable_scope('bi-directional') as scope:\n",
    "    # bi-directional rnn\n",
    "    cell_fw = rnn.BasicLSTMCell(num_units=5, state_is_tuple=True)\n",
    "    cell_bw = rnn.BasicLSTMCell(num_units=5, state_is_tuple=True)\n",
    "\n",
    "    outputs, states = tf.nn.bidirectional_dynamic_rnn(cell_fw, cell_bw, x_data,\n",
    "                                                      sequence_length=[2, 3, 1],\n",
    "                                                      dtype=tf.float32)\n",
    "\n",
    "    sess.run(tf.global_variables_initializer())\n",
    "    pp.pprint(sess.run(outputs))\n",
    "    pp.pprint(sess.run(states))"
   ]
  },
  {
   "cell_type": "code",
   "execution_count": 13,
   "metadata": {},
   "outputs": [
    {
     "name": "stdout",
     "output_type": "stream",
     "text": [
      "array([[[ 0.,  1.,  2.],\n",
      "        [ 3.,  4.,  5.],\n",
      "        [ 6.,  7.,  8.],\n",
      "        [ 9., 10., 11.],\n",
      "        [12., 13., 14.]],\n",
      "\n",
      "       [[15., 16., 17.],\n",
      "        [18., 19., 20.],\n",
      "        [21., 22., 23.],\n",
      "        [24., 25., 26.],\n",
      "        [27., 28., 29.]],\n",
      "\n",
      "       [[30., 31., 32.],\n",
      "        [33., 34., 35.],\n",
      "        [36., 37., 38.],\n",
      "        [39., 40., 41.],\n",
      "        [42., 43., 44.]]], dtype=float32)\n",
      "array([[ 0.,  1.,  2.],\n",
      "       [ 3.,  4.,  5.],\n",
      "       [ 6.,  7.,  8.],\n",
      "       [ 9., 10., 11.],\n",
      "       [12., 13., 14.],\n",
      "       [15., 16., 17.],\n",
      "       [18., 19., 20.],\n",
      "       [21., 22., 23.],\n",
      "       [24., 25., 26.],\n",
      "       [27., 28., 29.],\n",
      "       [30., 31., 32.],\n",
      "       [33., 34., 35.],\n",
      "       [36., 37., 38.],\n",
      "       [39., 40., 41.],\n",
      "       [42., 43., 44.]], dtype=float32)\n",
      "array([[[  25.,   28.,   31.,   34.,   37.],\n",
      "        [  70.,   82.,   94.,  106.,  118.],\n",
      "        [ 115.,  136.,  157.,  178.,  199.],\n",
      "        [ 160.,  190.,  220.,  250.,  280.],\n",
      "        [ 205.,  244.,  283.,  322.,  361.]],\n",
      "\n",
      "       [[ 250.,  298.,  346.,  394.,  442.],\n",
      "        [ 295.,  352.,  409.,  466.,  523.],\n",
      "        [ 340.,  406.,  472.,  538.,  604.],\n",
      "        [ 385.,  460.,  535.,  610.,  685.],\n",
      "        [ 430.,  514.,  598.,  682.,  766.]],\n",
      "\n",
      "       [[ 475.,  568.,  661.,  754.,  847.],\n",
      "        [ 520.,  622.,  724.,  826.,  928.],\n",
      "        [ 565.,  676.,  787.,  898., 1009.],\n",
      "        [ 610.,  730.,  850.,  970., 1090.],\n",
      "        [ 655.,  784.,  913., 1042., 1171.]]], dtype=float32)\n"
     ]
    }
   ],
   "source": [
    "# flattern based softmax\n",
    "hidden_size=3\n",
    "sequence_length=5\n",
    "batch_size=3\n",
    "num_classes=5\n",
    "\n",
    "pp.pprint(x_data) # hidden_size=3, sequence_length=4, batch_size=2\n",
    "x_data = x_data.reshape(-1, hidden_size)\n",
    "pp.pprint(x_data)\n",
    "\n",
    "softmax_w = np.arange(15, dtype=np.float32).reshape(hidden_size, num_classes)\n",
    "outputs = np.matmul(x_data, softmax_w)\n",
    "outputs = outputs.reshape(-1, sequence_length, num_classes) # batch, seq, class\n",
    "pp.pprint(outputs)"
   ]
  },
  {
   "cell_type": "code",
   "execution_count": 14,
   "metadata": {},
   "outputs": [
    {
     "name": "stdout",
     "output_type": "stream",
     "text": [
      "Loss:  0.5967595\n"
     ]
    }
   ],
   "source": [
    "# [batch_size, sequence_length]\n",
    "y_data = tf.constant([[1, 1, 1]])\n",
    "\n",
    "# [batch_size, sequence_length, emb_dim ]\n",
    "prediction = tf.constant([[[0.2, 0.7], [0.6, 0.2], [0.2, 0.9]]], dtype=tf.float32)\n",
    "\n",
    "# [batch_size * sequence_length]\n",
    "weights = tf.constant([[1, 1, 1]], dtype=tf.float32)\n",
    "\n",
    "sequence_loss = tf.contrib.seq2seq.sequence_loss(logits=prediction, targets=y_data, weights=weights)\n",
    "sess.run(tf.global_variables_initializer())\n",
    "print(\"Loss: \", sequence_loss.eval())"
   ]
  },
  {
   "cell_type": "code",
   "execution_count": 15,
   "metadata": {},
   "outputs": [
    {
     "name": "stdout",
     "output_type": "stream",
     "text": [
      "Loss1:  0.5130153 Loss2:  0.3711007 Loss3:  1.3132616 Loss4:  1.3132616\n"
     ]
    }
   ],
   "source": [
    "# [batch_size, sequence_length]\n",
    "y_data = tf.constant([[1, 1, 1]])\n",
    "\n",
    "# [batch_size, sequence_length, emb_dim ]\n",
    "prediction1 = tf.constant([[[0.3, 0.7], [0.3, 0.7], [0.3, 0.7]]], dtype=tf.float32)\n",
    "prediction2 = tf.constant([[[0.1, 0.9], [0.1, 0.9], [0.1, 0.9]]], dtype=tf.float32)\n",
    "\n",
    "prediction3 = tf.constant([[[1, 0], [1, 0], [1, 0]]], dtype=tf.float32)\n",
    "prediction4 = tf.constant([[[0, 1], [1, 0], [0, 1]]], dtype=tf.float32)\n",
    "\n",
    "# [batch_size * sequence_length]\n",
    "weights = tf.constant([[1, 1, 1]], dtype=tf.float32)\n",
    "\n",
    "sequence_loss1 = tf.contrib.seq2seq.sequence_loss(prediction1, y_data, weights)\n",
    "sequence_loss2 = tf.contrib.seq2seq.sequence_loss(prediction2, y_data, weights)\n",
    "sequence_loss3 = tf.contrib.seq2seq.sequence_loss(prediction3, y_data, weights)\n",
    "sequence_loss4 = tf.contrib.seq2seq.sequence_loss(prediction3, y_data, weights)\n",
    "\n",
    "sess.run(tf.global_variables_initializer())\n",
    "print(\"Loss1: \", sequence_loss1.eval(),\n",
    "      \"Loss2: \", sequence_loss2.eval(),\n",
    "      \"Loss3: \", sequence_loss3.eval(),\n",
    "      \"Loss4: \", sequence_loss4.eval())"
   ]
  }
 ],
 "metadata": {
  "kernelspec": {
   "display_name": "Python 3",
   "language": "python",
   "name": "python3"
  },
  "language_info": {
   "codemirror_mode": {
    "name": "ipython",
    "version": 3
   },
   "file_extension": ".py",
   "mimetype": "text/x-python",
   "name": "python",
   "nbconvert_exporter": "python",
   "pygments_lexer": "ipython3",
   "version": "3.6.2"
  }
 },
 "nbformat": 4,
 "nbformat_minor": 1
}
