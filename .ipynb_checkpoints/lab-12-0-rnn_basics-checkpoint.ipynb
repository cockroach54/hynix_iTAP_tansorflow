{
 "cells": [
  {
   "cell_type": "code",
   "execution_count": 1,
   "metadata": {},
   "outputs": [
    {
     "name": "stderr",
     "output_type": "stream",
     "text": [
      "C:\\ProgramData\\Anaconda3\\lib\\site-packages\\h5py\\__init__.py:34: FutureWarning: Conversion of the second argument of issubdtype from `float` to `np.floating` is deprecated. In future, it will be treated as `np.float64 == np.dtype(float).type`.\n",
      "  from ._conv import register_converters as _register_converters\n"
     ]
    }
   ],
   "source": [
    "# http://www.wildml.com/2016/08/rnns-in-tensorflow-a-practical-guide-and-undocumented-features/\n",
    "# http://learningtensorflow.com/index.html\n",
    "# http://suriyadeepan.github.io/2016-12-31-practical-seq2seq/\n",
    "\n",
    "import tensorflow as tf\n",
    "import numpy as np;\n",
    "from tensorflow.contrib import rnn\n",
    "import pprint\n",
    "pp = pprint.PrettyPrinter(indent=4)\n",
    "sess = tf.InteractiveSession()"
   ]
  },
  {
   "cell_type": "code",
   "execution_count": 2,
   "metadata": {
    "collapsed": true
   },
   "outputs": [],
   "source": [
    "# One hot encoding for each char in 'hello'\n",
    "h = [1, 0, 0, 0]\n",
    "e = [0, 1, 0, 0]\n",
    "l = [0, 0, 1, 0]\n",
    "o = [0, 0, 0, 1]"
   ]
  },
  {
   "cell_type": "markdown",
   "metadata": {},
   "source": [
    "![image](https://cloud.githubusercontent.com/assets/901975/23348727/cc981856-fce7-11e6-83ea-4b187473466b.png)\n"
   ]
  },
  {
   "cell_type": "code",
   "execution_count": 5,
   "metadata": {},
   "outputs": [
    {
     "name": "stdout",
     "output_type": "stream",
     "text": [
      "2 2\n",
      "array([[[1., 0., 0., 0.]]], dtype=float32)\n",
      "array([[[-0.4475658,  0.4782141]]], dtype=float32)\n",
      "array([[-0.4475658,  0.4782141]], dtype=float32)\n"
     ]
    }
   ],
   "source": [
    "# tf.reset_default_graph()\n",
    "# sess = tf.InteractiveSession()\n",
    "with tf.variable_scope('one_cell') as scope:\n",
    "    # One cell RNN input_dim (4) -> output_dim (2)\n",
    "    hidden_size = 2\n",
    "    cell = tf.contrib.rnn.BasicRNNCell(num_units=hidden_size)#, reuse=True)\n",
    "    print(cell.output_size, cell.state_size)\n",
    "\n",
    "    x_data = np.array([[h]], dtype=np.float32) # x_data = [[[1,0,0,0]]]\n",
    "    pp.pprint(x_data)\n",
    "#     한번 정의 하면 다시 안만들어두 됨, one_cell scope 내에 이미 생성\n",
    "    outputs, _states = tf.nn.dynamic_rnn(cell, x_data, dtype=tf.float32)\n",
    "# basic rnn 에서는 output[-1] = _state\n",
    "\n",
    "    sess.run(tf.global_variables_initializer())\n",
    "    pp.pprint(outputs.eval())\n",
    "    pp.pprint(_states.eval())    "
   ]
  },
  {
   "cell_type": "markdown",
   "metadata": {},
   "source": [
    "![image](https://cloud.githubusercontent.com/assets/901975/23383634/649efd0a-fd82-11e6-925d-8041242743b0.png)"
   ]
  },
  {
   "cell_type": "code",
   "execution_count": 91,
   "metadata": {},
   "outputs": [
    {
     "name": "stdout",
     "output_type": "stream",
     "text": [
      "(1, 5, 4)\n",
      "array([[[1., 0., 0., 0.],\n",
      "        [0., 1., 0., 0.],\n",
      "        [0., 0., 1., 0.],\n",
      "        [0., 0., 1., 0.],\n",
      "        [0., 0., 0., 1.]]], dtype=float32)\n",
      "array([[[-0.4117932 , -0.6803914 ],\n",
      "        [-0.41059777, -0.22151004],\n",
      "        [ 0.24800533, -0.5206909 ],\n",
      "        [ 0.38022932, -0.7784485 ],\n",
      "        [ 0.36700892, -0.5515955 ]]], dtype=float32)\n",
      "array([[ 0.36700892, -0.5515955 ]], dtype=float32)\n"
     ]
    }
   ],
   "source": [
    "# tf.reset_default_graph()\n",
    "# sess = tf.InteractiveSession()\n",
    "with tf.variable_scope('two_sequances') as scope:\n",
    "    # One cell RNN input_dim (4) -> output_dim (2). sequence: 5\n",
    "    hidden_size = 2\n",
    "    cell = tf.contrib.rnn.BasicRNNCell(num_units=hidden_size)\n",
    "    x_data = np.array([[h, e, l, l, o]], dtype=np.float32)\n",
    "    print(x_data.shape)\n",
    "    pp.pprint(x_data)\n",
    "    outputs, states = tf.nn.dynamic_rnn(cell, x_data, dtype=tf.float32)\n",
    "    \n",
    "    sess.run(tf.global_variables_initializer())\n",
    "    pp.pprint(outputs.eval())\n",
    "    pp.pprint(states.eval())"
   ]
  },
  {
   "cell_type": "markdown",
   "metadata": {},
   "source": [
    "![image](https://cloud.githubusercontent.com/assets/901975/23383681/9943a9fc-fd82-11e6-8121-bd187994e249.png)"
   ]
  },
  {
   "cell_type": "code",
   "execution_count": 40,
   "metadata": {},
   "outputs": [
    {
     "name": "stdout",
     "output_type": "stream",
     "text": [
      "array([[[1., 0., 0., 0.],\n",
      "        [0., 1., 0., 0.],\n",
      "        [0., 0., 1., 0.],\n",
      "        [0., 0., 1., 0.],\n",
      "        [0., 0., 0., 1.]],\n",
      "\n",
      "       [[0., 1., 0., 0.],\n",
      "        [0., 0., 0., 1.],\n",
      "        [0., 0., 1., 0.],\n",
      "        [0., 0., 1., 0.],\n",
      "        [0., 0., 1., 0.]],\n",
      "\n",
      "       [[0., 0., 1., 0.],\n",
      "        [0., 0., 1., 0.],\n",
      "        [0., 1., 0., 0.],\n",
      "        [0., 1., 0., 0.],\n",
      "        [0., 0., 1., 0.]]], dtype=float32)\n",
      "array([[[-0.10182311, -0.15088622],\n",
      "        [-0.13941534, -0.2025134 ],\n",
      "        [-0.07251859, -0.15943602],\n",
      "        [-0.07341124, -0.19699812],\n",
      "        [-0.21873139, -0.14464548]],\n",
      "\n",
      "       [[-0.05208891, -0.14652072],\n",
      "        [-0.17189854, -0.07478711],\n",
      "        [-0.08997323, -0.14334752],\n",
      "        [-0.08414454, -0.18234287],\n",
      "        [-0.07684471, -0.20861493]],\n",
      "\n",
      "       [[-0.0330142 , -0.09741466],\n",
      "        [-0.04702163, -0.1563304 ],\n",
      "        [-0.08649664, -0.271051  ],\n",
      "        [-0.07334071, -0.2483477 ],\n",
      "        [-0.04573505, -0.1745006 ]]], dtype=float32)\n",
      "LSTMStateTuple(c=array([[-0.41319203, -0.40375724],\n",
      "       [-0.2456806 , -0.65786004],\n",
      "       [-0.14771375, -0.5438195 ]], dtype=float32), h=array([[-0.21873139, -0.14464548],\n",
      "       [-0.07684471, -0.20861493],\n",
      "       [-0.04573505, -0.1745006 ]], dtype=float32))\n"
     ]
    }
   ],
   "source": [
    "with tf.variable_scope('3_batches') as scope:\n",
    "    # One cell RNN input_dim (4) -> output_dim (2). sequence: 5, batch 3\n",
    "    # 3 batches 'hello', 'eolll', 'lleel'\n",
    "    x_data = np.array([[h, e, l, l, o],\n",
    "                       [e, o, l, l, l],\n",
    "                       [l, l, e, e, l]], dtype=np.float32)\n",
    "    pp.pprint(x_data)\n",
    "    \n",
    "    hidden_size = 2\n",
    "    cell = rnn.BasicLSTMCell(num_units=hidden_size, state_is_tuple=True)\n",
    "#     outputs, _states = tf.nn.dynamic_rnn(\n",
    "#         cell, x_data, dtype=tf.float32)\n",
    "    sess.run(tf.global_variables_initializer())\n",
    "    \n",
    "    pp.pprint(outputs.eval())\n",
    "    pp.pprint(sess.run(_states))"
   ]
  },
  {
   "cell_type": "code",
   "execution_count": 41,
   "metadata": {},
   "outputs": [
    {
     "name": "stdout",
     "output_type": "stream",
     "text": [
      "array([[[1., 0., 0., 0.],\n",
      "        [0., 1., 0., 0.],\n",
      "        [0., 0., 1., 0.],\n",
      "        [0., 0., 1., 0.],\n",
      "        [0., 0., 0., 1.]],\n",
      "\n",
      "       [[0., 1., 0., 0.],\n",
      "        [0., 0., 0., 1.],\n",
      "        [0., 0., 1., 0.],\n",
      "        [0., 0., 1., 0.],\n",
      "        [0., 0., 1., 0.]],\n",
      "\n",
      "       [[0., 0., 1., 0.],\n",
      "        [0., 0., 1., 0.],\n",
      "        [0., 1., 0., 0.],\n",
      "        [0., 1., 0., 0.],\n",
      "        [0., 0., 1., 0.]]], dtype=float32)\n",
      "array([[[-0.07617827, -0.04428805],\n",
      "        [ 0.03876524,  0.08833982],\n",
      "        [ 0.09856242,  0.2464367 ],\n",
      "        [ 0.14265995,  0.34341532],\n",
      "        [ 0.14838411,  0.22156611]],\n",
      "\n",
      "       [[ 0.09071095,  0.11328734],\n",
      "        [ 0.09160928,  0.03934482],\n",
      "        [ 0.13803647,  0.17760944],\n",
      "        [ 0.        ,  0.        ],\n",
      "        [ 0.        ,  0.        ]],\n",
      "\n",
      "       [[ 0.07549731,  0.14988899],\n",
      "        [ 0.12693031,  0.27127272],\n",
      "        [ 0.20409304,  0.25830266],\n",
      "        [ 0.24315977,  0.28867972],\n",
      "        [ 0.        ,  0.        ]]], dtype=float32)\n"
     ]
    }
   ],
   "source": [
    "with tf.variable_scope('3_batches_dynamic_length') as scope:\n",
    "    # One cell RNN input_dim (4) -> output_dim (5). sequence: 5, batch 3\n",
    "    # 3 batches 'hello', 'eolll', 'lleel'\n",
    "    x_data = np.array([[h, e, l, l, o],\n",
    "                       [e, o, l, l, l],\n",
    "                       [l, l, e, e, l]], dtype=np.float32)\n",
    "    pp.pprint(x_data)\n",
    "    \n",
    "    hidden_size = 2\n",
    "    cell = rnn.BasicLSTMCell(num_units=hidden_size, state_is_tuple=True)\n",
    "    outputs, _states = tf.nn.dynamic_rnn(\n",
    "        cell, x_data, sequence_length=[5,3,4], dtype=tf.float32)\n",
    "    sess.run(tf.global_variables_initializer())\n",
    "    pp.pprint(outputs.eval())"
   ]
  },
  {
   "cell_type": "code",
   "execution_count": 42,
   "metadata": {},
   "outputs": [
    {
     "name": "stdout",
     "output_type": "stream",
     "text": [
      "array([[[1., 0., 0., 0.],\n",
      "        [0., 1., 0., 0.],\n",
      "        [0., 0., 1., 0.],\n",
      "        [0., 0., 1., 0.],\n",
      "        [0., 0., 0., 1.]],\n",
      "\n",
      "       [[0., 1., 0., 0.],\n",
      "        [0., 0., 0., 1.],\n",
      "        [0., 0., 1., 0.],\n",
      "        [0., 0., 1., 0.],\n",
      "        [0., 0., 1., 0.]],\n",
      "\n",
      "       [[0., 0., 1., 0.],\n",
      "        [0., 0., 1., 0.],\n",
      "        [0., 1., 0., 0.],\n",
      "        [0., 1., 0., 0.],\n",
      "        [0., 0., 1., 0.]]], dtype=float32)\n",
      "array([[[ 0.03993475, -0.11892224],\n",
      "        [-0.12191749, -0.0420336 ],\n",
      "        [-0.03652245, -0.12939273],\n",
      "        [-0.00636312, -0.16936366],\n",
      "        [ 0.08314894, -0.13605908]],\n",
      "\n",
      "       [[-0.13643199, -0.00222773],\n",
      "        [ 0.0299538 , -0.0763106 ],\n",
      "        [ 0.03364702, -0.17137234],\n",
      "        [ 0.03755234, -0.19780532],\n",
      "        [ 0.03830506, -0.2171274 ]],\n",
      "\n",
      "       [[ 0.0224665 , -0.07741912],\n",
      "        [ 0.03418965, -0.13172509],\n",
      "        [-0.12037027, -0.04724158],\n",
      "        [-0.19744764, -0.03196891],\n",
      "        [-0.07549693, -0.11937114]]], dtype=float32)\n"
     ]
    }
   ],
   "source": [
    "with tf.variable_scope('initial_state') as scope:\n",
    "    batch_size = 3\n",
    "    x_data = np.array([[h, e, l, l, o],\n",
    "                      [e, o, l, l, l],\n",
    "                      [l, l, e, e, l]], dtype=np.float32)\n",
    "    pp.pprint(x_data)\n",
    "    \n",
    "    # One cell RNN input_dim (4) -> output_dim (5). sequence: 5, batch: 3\n",
    "    hidden_size=2\n",
    "    cell = rnn.BasicLSTMCell(num_units=hidden_size, state_is_tuple=True)\n",
    "    initial_state = cell.zero_state(batch_size, tf.float32)\n",
    "    outputs, _states = tf.nn.dynamic_rnn(cell, x_data,\n",
    "                                         initial_state=initial_state, dtype=tf.float32)\n",
    "    sess.run(tf.global_variables_initializer())\n",
    "    pp.pprint(outputs.eval())"
   ]
  },
  {
   "cell_type": "code",
   "execution_count": 97,
   "metadata": {},
   "outputs": [
    {
     "data": {
      "text/plain": [
       "array([[ 0,  1,  2,  3,  4],\n",
       "       [ 5,  6,  7,  8,  9],\n",
       "       [10, 11, 12, 13, 14],\n",
       "       [15, 16, 17, 18, 19],\n",
       "       [20, 21, 22, 23, 24],\n",
       "       [25, 26, 27, 28, 29],\n",
       "       [30, 31, 32, 33, 34],\n",
       "       [35, 36, 37, 38, 39],\n",
       "       [40, 41, 42, 43, 44],\n",
       "       [45, 46, 47, 48, 49]])"
      ]
     },
     "execution_count": 97,
     "metadata": {},
     "output_type": "execute_result"
    }
   ],
   "source": [
    "np.arange(50).reshape([-1,5])"
   ]
  },
  {
   "cell_type": "code",
   "execution_count": 13,
   "metadata": {},
   "outputs": [
    {
     "name": "stdout",
     "output_type": "stream",
     "text": [
      "array([[[ 0.,  1.,  2.],\n",
      "        [ 3.,  4.,  5.],\n",
      "        [ 6.,  7.,  8.],\n",
      "        [ 9., 10., 11.],\n",
      "        [12., 13., 14.]],\n",
      "\n",
      "       [[15., 16., 17.],\n",
      "        [18., 19., 20.],\n",
      "        [21., 22., 23.],\n",
      "        [24., 25., 26.],\n",
      "        [27., 28., 29.]],\n",
      "\n",
      "       [[30., 31., 32.],\n",
      "        [33., 34., 35.],\n",
      "        [36., 37., 38.],\n",
      "        [39., 40., 41.],\n",
      "        [42., 43., 44.]]], dtype=float32)\n"
     ]
    }
   ],
   "source": [
    "# Create input data\n",
    "batch_size=3\n",
    "sequence_length=5\n",
    "input_dim=3\n",
    "\n",
    "x_data = np.arange(45, dtype=np.float32).reshape(batch_size, sequence_length, input_dim)\n",
    "pp.pprint(x_data)  # batch, sequence_length, input_dim"
   ]
  },
  {
   "cell_type": "code",
   "execution_count": 43,
   "metadata": {},
   "outputs": [
    {
     "name": "stdout",
     "output_type": "stream",
     "text": [
      "array([[[-0.09132701, -0.07079794,  0.04599177,  0.01998146,\n",
      "         -0.01158326],\n",
      "        [-0.06252545, -0.04564673,  0.10397587, -0.00046265,\n",
      "          0.03994242],\n",
      "        [ 0.01154837, -0.00860379,  0.12329465,  0.0591893 ,\n",
      "         -0.03139519],\n",
      "        [ 0.09271022,  0.0431072 ,  0.14971118,  0.09715822,\n",
      "         -0.06826583],\n",
      "        [ 0.03395345,  0.03721558,  0.17606905,  0.07806135,\n",
      "         -0.00537324]],\n",
      "\n",
      "       [[ 0.02376806, -0.00639667,  0.06301279, -0.03489038,\n",
      "          0.06220614],\n",
      "        [-0.02859783, -0.02447187,  0.11615314, -0.03051697,\n",
      "          0.06576603],\n",
      "        [ 0.04705526,  0.01413366,  0.14653279,  0.0423134 ,\n",
      "         -0.00669572],\n",
      "        [ 0.11618993,  0.05798095,  0.16416143,  0.08566584,\n",
      "         -0.05308986],\n",
      "        [ 0.17427595,  0.09740557,  0.17279524,  0.11246333,\n",
      "         -0.08261189]],\n",
      "\n",
      "       [[ 0.08939864,  0.03137995,  0.07131325,  0.04722066,\n",
      "         -0.03754198],\n",
      "        [ 0.1593059 ,  0.06544228,  0.11537051,  0.08104727,\n",
      "         -0.06622756],\n",
      "        [ 0.129081  ,  0.04033354,  0.17128064,  0.02721514,\n",
      "         -0.0180327 ],\n",
      "        [ 0.1189902 ,  0.03221902,  0.18189332, -0.016368  ,\n",
      "          0.03462587],\n",
      "        [ 0.18861672,  0.07305359,  0.1564393 ,  0.0467952 ,\n",
      "         -0.0381107 ]]], dtype=float32)\n"
     ]
    }
   ],
   "source": [
    "with tf.variable_scope('generated_data') as scope:\n",
    "    # One cell RNN input_dim (3) -> output_dim (5). sequence: 5, batch: 3\n",
    "    cell = rnn.BasicLSTMCell(num_units=5, state_is_tuple=True)\n",
    "    initial_state = cell.zero_state(batch_size, tf.float32) # [batch_size, state_size] filled with zeros.\n",
    "    outputs, _states = tf.nn.dynamic_rnn(cell, x_data,\n",
    "                                         initial_state=initial_state, dtype=tf.float32)\n",
    "    sess.run(tf.global_variables_initializer())\n",
    "    pp.pprint(outputs.eval())"
   ]
  },
  {
   "cell_type": "code",
   "execution_count": 102,
   "metadata": {},
   "outputs": [
    {
     "name": "stdout",
     "output_type": "stream",
     "text": [
      "dynamic rnn:  Tensor(\"MultiRNNCell/rnn/transpose:0\", shape=(1, 5, 5), dtype=float32)\n",
      "array([[[ 0.00054245, -0.00196731,  0.00115956,  0.00150405,\n",
      "          0.00154406],\n",
      "        [ 0.0025574 , -0.00213866, -0.00028167,  0.00331825,\n",
      "          0.00495022],\n",
      "        [ 0.00341816, -0.00249767, -0.00038203,  0.00440823,\n",
      "          0.00559587],\n",
      "        [ 0.00280092, -0.00471925,  0.002342  ,  0.00467351,\n",
      "          0.00394952],\n",
      "        [ 0.00127339, -0.00760254,  0.00449402,  0.00491067,\n",
      "          0.00398002]]], dtype=float32)\n"
     ]
    }
   ],
   "source": [
    "tf.reset_default_graph()\n",
    "sess = tf.InteractiveSession()\n",
    "with tf.variable_scope('MultiRNNCell') as scope:\n",
    "    # Make rnn\n",
    "    \"\"\"예전엔 이게 됐는데 지금은 막힘. 참고용 코드에 이렇게 적혀있으면 바꿔줘야함\"\"\"\n",
    "#     cell = rnn.BasicLSTMCell(num_units=5, state_is_tuple=True)\n",
    "#     cell = rnn.MultiRNNCell([cell] * 3, state_is_tuple=True) # 3 layers\n",
    "    cell = rnn.MultiRNNCell([rnn.BasicLSTMCell(num_units=5, state_is_tuple=True) for _ in range(3)]\n",
    "                             , state_is_tuple=True) # 3 layer\n",
    "\n",
    "\n",
    "    # rnn in/out\n",
    "    outputs, _states = tf.nn.dynamic_rnn(cell, x_data, dtype=tf.float32)\n",
    "    print(\"dynamic rnn: \", outputs)\n",
    "    sess.run(tf.global_variables_initializer())\n",
    "    pp.pprint(outputs.eval())  # batch size, unrolling (time), hidden_size"
   ]
  },
  {
   "cell_type": "code",
   "execution_count": 8,
   "metadata": {},
   "outputs": [
    {
     "name": "stdout",
     "output_type": "stream",
     "text": [
      "(3, 5, 3)\n"
     ]
    },
    {
     "data": {
      "text/plain": [
       "array([[[ 0.,  1.,  2.],\n",
       "        [ 3.,  4.,  5.],\n",
       "        [ 6.,  7.,  8.],\n",
       "        [ 9., 10., 11.],\n",
       "        [12., 13., 14.]],\n",
       "\n",
       "       [[15., 16., 17.],\n",
       "        [18., 19., 20.],\n",
       "        [21., 22., 23.],\n",
       "        [24., 25., 26.],\n",
       "        [27., 28., 29.]],\n",
       "\n",
       "       [[30., 31., 32.],\n",
       "        [33., 34., 35.],\n",
       "        [36., 37., 38.],\n",
       "        [39., 40., 41.],\n",
       "        [42., 43., 44.]]], dtype=float32)"
      ]
     },
     "execution_count": 8,
     "metadata": {},
     "output_type": "execute_result"
    }
   ],
   "source": [
    "print(x_data.shape)\n",
    "x_data"
   ]
  },
  {
   "cell_type": "code",
   "execution_count": 9,
   "metadata": {},
   "outputs": [
    {
     "name": "stdout",
     "output_type": "stream",
     "text": [
      "dynamic rnn:  Tensor(\"dynamic_rnn/rnn/transpose:0\", shape=(3, 5, 5), dtype=float32)\n",
      "array([[[ 9.16322917e-02,  8.26223642e-02,  8.59395787e-02,\n",
      "          1.05789781e-01, -3.39128822e-02],\n",
      "        [ 0.00000000e+00,  0.00000000e+00,  0.00000000e+00,\n",
      "          0.00000000e+00,  0.00000000e+00],\n",
      "        [ 0.00000000e+00,  0.00000000e+00,  0.00000000e+00,\n",
      "          0.00000000e+00,  0.00000000e+00],\n",
      "        [ 0.00000000e+00,  0.00000000e+00,  0.00000000e+00,\n",
      "          0.00000000e+00,  0.00000000e+00],\n",
      "        [ 0.00000000e+00,  0.00000000e+00,  0.00000000e+00,\n",
      "          0.00000000e+00,  0.00000000e+00]],\n",
      "\n",
      "       [[ 1.12587453e-10,  1.23634580e-09,  5.14535022e-05,\n",
      "          5.24141453e-03, -8.84465010e-07],\n",
      "        [ 3.98605593e-11,  3.24333255e-10,  5.35893050e-05,\n",
      "          2.23060907e-03, -2.74748942e-07],\n",
      "        [ 1.36351373e-11,  7.89854362e-11,  4.87635298e-05,\n",
      "          9.38968209e-04, -6.21316119e-08],\n",
      "        [ 0.00000000e+00,  0.00000000e+00,  0.00000000e+00,\n",
      "          0.00000000e+00,  0.00000000e+00],\n",
      "        [ 0.00000000e+00,  0.00000000e+00,  0.00000000e+00,\n",
      "          0.00000000e+00,  0.00000000e+00]],\n",
      "\n",
      "       [[ 4.04196507e-20,  5.41362538e-18,  1.02024300e-08,\n",
      "          6.82834579e-05, -7.67904750e-12],\n",
      "        [ 1.43018817e-20,  1.42256867e-18,  1.13225935e-08,\n",
      "          2.83893223e-05, -1.72819734e-12],\n",
      "        [ 0.00000000e+00,  0.00000000e+00,  0.00000000e+00,\n",
      "          0.00000000e+00,  0.00000000e+00],\n",
      "        [ 0.00000000e+00,  0.00000000e+00,  0.00000000e+00,\n",
      "          0.00000000e+00,  0.00000000e+00],\n",
      "        [ 0.00000000e+00,  0.00000000e+00,  0.00000000e+00,\n",
      "          0.00000000e+00,  0.00000000e+00]]], dtype=float32)\n",
      "LSTMStateTuple(c=array([[ 2.18565971e-01,  1.95240602e-01,  1.76652133e-01,\n",
      "         2.89583474e-01, -7.70467594e-02],\n",
      "       [ 3.43495437e-08,  2.20099719e-06,  1.21086981e-04,\n",
      "         9.54156876e-01, -1.16886295e-04],\n",
      "       [ 2.66271011e-15,  1.16454190e-11,  3.19752722e-08,\n",
      "         9.91051137e-01, -2.10911878e-07]], dtype=float32), h=array([[ 9.16322917e-02,  8.26223642e-02,  8.59395787e-02,\n",
      "         1.05789781e-01, -3.39128822e-02],\n",
      "       [ 1.36351373e-11,  7.89854362e-11,  4.87635298e-05,\n",
      "         9.38968209e-04, -6.21316119e-08],\n",
      "       [ 1.43018817e-20,  1.42256867e-18,  1.13225935e-08,\n",
      "         2.83893223e-05, -1.72819734e-12]], dtype=float32))\n"
     ]
    }
   ],
   "source": [
    "tf.reset_default_graph()\n",
    "sess = tf.InteractiveSession()\n",
    "with tf.variable_scope('dynamic_rnn') as scope:\n",
    "    cell = rnn.BasicLSTMCell(num_units=5, state_is_tuple=True)\n",
    "    outputs, _states = tf.nn.dynamic_rnn(cell, x_data, dtype=tf.float32,\n",
    "                                         sequence_length=[1, 3, 2])\n",
    "    # lentgh 1 for batch 1, lentgh 2 for batch 2\n",
    "    \n",
    "    print(\"dynamic rnn: \", outputs)\n",
    "    sess.run(tf.global_variables_initializer())\n",
    "    pp.pprint(outputs.eval())  # batch size, unrolling (time), hidden_size\n",
    "    pp.pprint(sess.run(_states))"
   ]
  },
  {
   "cell_type": "code",
   "execution_count": 114,
   "metadata": {},
   "outputs": [
    {
     "name": "stdout",
     "output_type": "stream",
     "text": [
      "array([[[-1.5255492e-02, -3.6959812e-02, -4.8789423e-02,  1.4670210e-02,\n",
      "          1.6053623e-02],\n",
      "        [-6.8657249e-02, -2.7031293e-02, -2.0605482e-02, -1.7814202e-02,\n",
      "         -9.6430913e-02],\n",
      "        [ 0.0000000e+00,  0.0000000e+00,  0.0000000e+00,  0.0000000e+00,\n",
      "          0.0000000e+00],\n",
      "        [ 0.0000000e+00,  0.0000000e+00,  0.0000000e+00,  0.0000000e+00,\n",
      "          0.0000000e+00],\n",
      "        [ 0.0000000e+00,  0.0000000e+00,  0.0000000e+00,  0.0000000e+00,\n",
      "          0.0000000e+00]],\n",
      "\n",
      "       [[-8.0075610e-04, -5.4896959e-06, -1.2623042e-07, -2.0502354e-03,\n",
      "         -1.8805536e-02],\n",
      "        [-2.2019839e-04, -6.1834527e-07, -3.1730412e-08, -1.0336440e-03,\n",
      "         -1.1365689e-02],\n",
      "        [-5.9916430e-05, -6.9086532e-08, -6.5827295e-09, -4.1806520e-04,\n",
      "         -5.5703307e-03],\n",
      "        [ 0.0000000e+00,  0.0000000e+00,  0.0000000e+00,  0.0000000e+00,\n",
      "          0.0000000e+00],\n",
      "        [ 0.0000000e+00,  0.0000000e+00,  0.0000000e+00,  0.0000000e+00,\n",
      "          0.0000000e+00]],\n",
      "\n",
      "       [[-1.1611272e-06, -9.7006500e-11, -7.7762924e-14, -1.8855431e-05,\n",
      "         -4.4266481e-04],\n",
      "        [ 0.0000000e+00,  0.0000000e+00,  0.0000000e+00,  0.0000000e+00,\n",
      "          0.0000000e+00],\n",
      "        [ 0.0000000e+00,  0.0000000e+00,  0.0000000e+00,  0.0000000e+00,\n",
      "          0.0000000e+00],\n",
      "        [ 0.0000000e+00,  0.0000000e+00,  0.0000000e+00,  0.0000000e+00,\n",
      "          0.0000000e+00],\n",
      "        [ 0.0000000e+00,  0.0000000e+00,  0.0000000e+00,  0.0000000e+00,\n",
      "          0.0000000e+00]]], dtype=float32)\n",
      "array([[[-8.41065273e-02,  1.09857142e-01,  5.44656277e-01,\n",
      "         -4.00094166e-02,  1.58176824e-01],\n",
      "        [-3.59238014e-02,  2.50033904e-02,  5.93144357e-01,\n",
      "         -1.19420355e-02,  1.29711956e-01],\n",
      "        [ 0.00000000e+00,  0.00000000e+00,  0.00000000e+00,\n",
      "          0.00000000e+00,  0.00000000e+00],\n",
      "        [ 0.00000000e+00,  0.00000000e+00,  0.00000000e+00,\n",
      "          0.00000000e+00,  0.00000000e+00],\n",
      "        [ 0.00000000e+00,  0.00000000e+00,  0.00000000e+00,\n",
      "          0.00000000e+00,  0.00000000e+00]],\n",
      "\n",
      "       [[-1.06271429e-04,  2.13785938e-06,  9.88461137e-01,\n",
      "         -1.33897032e-07,  2.84561943e-02],\n",
      "        [-2.13701060e-05,  1.77122928e-07,  9.61010516e-01,\n",
      "         -7.63928298e-09,  1.25539536e-02],\n",
      "        [-3.24357325e-06,  1.32336861e-08,  7.60380626e-01,\n",
      "         -4.70968764e-10,  3.98152741e-03],\n",
      "        [ 0.00000000e+00,  0.00000000e+00,  0.00000000e+00,\n",
      "          0.00000000e+00,  0.00000000e+00],\n",
      "        [ 0.00000000e+00,  0.00000000e+00,  0.00000000e+00,\n",
      "          0.00000000e+00,  0.00000000e+00]],\n",
      "\n",
      "       [[-2.46459244e-08,  7.14741807e-12,  7.61486590e-01,\n",
      "         -7.96867184e-14,  4.88298421e-04],\n",
      "        [ 0.00000000e+00,  0.00000000e+00,  0.00000000e+00,\n",
      "          0.00000000e+00,  0.00000000e+00],\n",
      "        [ 0.00000000e+00,  0.00000000e+00,  0.00000000e+00,\n",
      "          0.00000000e+00,  0.00000000e+00],\n",
      "        [ 0.00000000e+00,  0.00000000e+00,  0.00000000e+00,\n",
      "          0.00000000e+00,  0.00000000e+00],\n",
      "        [ 0.00000000e+00,  0.00000000e+00,  0.00000000e+00,\n",
      "          0.00000000e+00,  0.00000000e+00]]], dtype=float32)\n",
      "(   LSTMStateTuple(c=array([[-3.6087543e-01, -7.0598602e-01, -1.8977176e-01, -1.6115077e-01,\n",
      "        -2.9072559e-01],\n",
      "       [-9.0456539e-01, -1.0060989e+00, -3.6194909e-04, -2.9034019e+00,\n",
      "        -2.8415480e+00],\n",
      "       [-9.6605569e-01, -9.9999928e-01, -3.5661859e-07, -9.9880975e-01,\n",
      "        -9.9959195e-01]], dtype=float32), h=array([[-6.8657249e-02, -2.7031293e-02, -2.0605482e-02, -1.7814202e-02,\n",
      "        -9.6430913e-02],\n",
      "       [-5.9916430e-05, -6.9086532e-08, -6.5827295e-09, -4.1806520e-04,\n",
      "        -5.5703307e-03],\n",
      "       [-1.1611272e-06, -9.7006500e-11, -7.7762924e-14, -1.8855431e-05,\n",
      "        -4.4266481e-04]], dtype=float32)),\n",
      "    LSTMStateTuple(c=array([[-1.7939508e-01,  4.4734222e-01,  1.0100925e+00, -6.1566856e-02,\n",
      "         3.4677595e-01],\n",
      "       [-1.2374829e-03,  1.7499883e-02,  2.9935570e+00, -1.6765921e-07,\n",
      "         1.4368645e+00],\n",
      "       [-4.1065286e-06,  1.5007549e-04,  1.0000000e+00, -9.4675475e-14,\n",
      "         9.9998724e-01]], dtype=float32), h=array([[-8.4106527e-02,  1.0985714e-01,  5.4465628e-01, -4.0009417e-02,\n",
      "         1.5817682e-01],\n",
      "       [-1.0627143e-04,  2.1378594e-06,  9.8846114e-01, -1.3389703e-07,\n",
      "         2.8456194e-02],\n",
      "       [-2.4645924e-08,  7.1474181e-12,  7.6148659e-01, -7.9686718e-14,\n",
      "         4.8829842e-04]], dtype=float32)))\n"
     ]
    }
   ],
   "source": [
    "with tf.variable_scope('bi-directional') as scope:\n",
    "    # bi-directional rnn\n",
    "    cell_fw = rnn.BasicLSTMCell(num_units=5, state_is_tuple=True)\n",
    "    cell_bw = rnn.BasicLSTMCell(num_units=5, state_is_tuple=True)\n",
    "\n",
    "    outputs, states = tf.nn.bidirectional_dynamic_rnn(cell_fw, cell_bw, x_data,\n",
    "                                                      sequence_length=[2, 3, 1],\n",
    "                                                      dtype=tf.float32)\n",
    "    outputs_f, outputs_b = outputs\n",
    "\n",
    "    sess.run(tf.global_variables_initializer())\n",
    "    pp.pprint(sess.run(outputs_f))\n",
    "    pp.pprint(sess.run(outputs_b))\n",
    "    pp.pprint(sess.run(states)) # 마찬가지로 state도 둘로 나눌 수 있다 "
   ]
  },
  {
   "cell_type": "code",
   "execution_count": 17,
   "metadata": {},
   "outputs": [
    {
     "name": "stdout",
     "output_type": "stream",
     "text": [
      "(3, 5, 3)\n",
      "array([[[ 0.,  1.,  2.],\n",
      "        [ 3.,  4.,  5.],\n",
      "        [ 6.,  7.,  8.],\n",
      "        [ 9., 10., 11.],\n",
      "        [12., 13., 14.]],\n",
      "\n",
      "       [[15., 16., 17.],\n",
      "        [18., 19., 20.],\n",
      "        [21., 22., 23.],\n",
      "        [24., 25., 26.],\n",
      "        [27., 28., 29.]],\n",
      "\n",
      "       [[30., 31., 32.],\n",
      "        [33., 34., 35.],\n",
      "        [36., 37., 38.],\n",
      "        [39., 40., 41.],\n",
      "        [42., 43., 44.]]], dtype=float32)\n",
      "(15, 3)\n",
      "array([[ 0.,  1.,  2.],\n",
      "       [ 3.,  4.,  5.],\n",
      "       [ 6.,  7.,  8.],\n",
      "       [ 9., 10., 11.],\n",
      "       [12., 13., 14.],\n",
      "       [15., 16., 17.],\n",
      "       [18., 19., 20.],\n",
      "       [21., 22., 23.],\n",
      "       [24., 25., 26.],\n",
      "       [27., 28., 29.],\n",
      "       [30., 31., 32.],\n",
      "       [33., 34., 35.],\n",
      "       [36., 37., 38.],\n",
      "       [39., 40., 41.],\n",
      "       [42., 43., 44.]], dtype=float32)\n",
      "(3, 5, 5)\n",
      "array([[[  25.,   28.,   31.,   34.,   37.],\n",
      "        [  70.,   82.,   94.,  106.,  118.],\n",
      "        [ 115.,  136.,  157.,  178.,  199.],\n",
      "        [ 160.,  190.,  220.,  250.,  280.],\n",
      "        [ 205.,  244.,  283.,  322.,  361.]],\n",
      "\n",
      "       [[ 250.,  298.,  346.,  394.,  442.],\n",
      "        [ 295.,  352.,  409.,  466.,  523.],\n",
      "        [ 340.,  406.,  472.,  538.,  604.],\n",
      "        [ 385.,  460.,  535.,  610.,  685.],\n",
      "        [ 430.,  514.,  598.,  682.,  766.]],\n",
      "\n",
      "       [[ 475.,  568.,  661.,  754.,  847.],\n",
      "        [ 520.,  622.,  724.,  826.,  928.],\n",
      "        [ 565.,  676.,  787.,  898., 1009.],\n",
      "        [ 610.,  730.,  850.,  970., 1090.],\n",
      "        [ 655.,  784.,  913., 1042., 1171.]]], dtype=float32)\n"
     ]
    }
   ],
   "source": [
    "# flattern based softmax\n",
    "hidden_size=3\n",
    "sequence_length=5\n",
    "batch_size=3\n",
    "num_classes=5\n",
    "\n",
    "print(x_data.shape)\n",
    "pp.pprint(x_data)\n",
    "x_data2 = x_data.reshape(-1, hidden_size) # 이거 안해도 저절로 broadcasting 해줌\n",
    "print(x_data2.shape)\n",
    "pp.pprint(x_data2)\n",
    "\n",
    "softmax_w = np.arange(15, dtype=np.float32).reshape(hidden_size, num_classes)\n",
    "outputs = np.matmul(x_data2, softmax_w)\n",
    "outputs = outputs.reshape(-1, sequence_length, num_classes) # batch, seq, class\n",
    "print(outputs.shape)\n",
    "pp.pprint(outputs)"
   ]
  },
  {
   "cell_type": "code",
   "execution_count": 18,
   "metadata": {},
   "outputs": [
    {
     "name": "stdout",
     "output_type": "stream",
     "text": [
      "Loss:  0.5967595\n"
     ]
    }
   ],
   "source": [
    "# [batch_size, sequence_length]\n",
    "y_data = tf.constant([[1, 1, 1]])\n",
    "\n",
    "# [batch_size, sequence_length, emb_dim ]\n",
    "prediction = tf.constant([[[0.2, 0.7], [0.6, 0.2], [0.2, 0.9]]], dtype=tf.float32)\n",
    "\n",
    "# [batch_size * sequence_length]\n",
    "weights = tf.constant([[1, 1, 1]], dtype=tf.float32)\n",
    "\n",
    "# sequence_loss 에서 저절로 [.7] -> [0,1]로 one hot encoding 해줌\n",
    "sequence_loss = tf.contrib.seq2seq.sequence_loss(logits=prediction, targets=y_data, weights=weights)\n",
    "sess.run(tf.global_variables_initializer())\n",
    "print(\"Loss: \", sequence_loss.eval())"
   ]
  },
  {
   "cell_type": "code",
   "execution_count": 19,
   "metadata": {},
   "outputs": [
    {
     "name": "stdout",
     "output_type": "stream",
     "text": [
      "Loss1:  0.5130153 Loss2:  0.3711007 Loss3:  1.3132616 Loss4:  0.31326166\n"
     ]
    }
   ],
   "source": [
    "# [batch_size, sequence_length]\n",
    "y_data = tf.constant([[1, 1, 1]])\n",
    "\n",
    "# [batch_size, sequence_length, emb_dim ]\n",
    "prediction1 = tf.constant([[[0.3, 0.7], [0.3, 0.7], [0.3, 0.7]]], dtype=tf.float32)\n",
    "prediction2 = tf.constant([[[0.1, 0.9], [0.1, 0.9], [0.1, 0.9]]], dtype=tf.float32)\n",
    "\n",
    "prediction3 = tf.constant([[[1, 0], [1, 0], [1, 0]]], dtype=tf.float32)\n",
    "prediction4 = tf.constant([[[0, 1], [0, 1], [0, 1]]], dtype=tf.float32)\n",
    "\n",
    "# [batch_size * sequence_length]\n",
    "weights = tf.constant([[1, 1, 1]], dtype=tf.float32)\n",
    "\n",
    "sequence_loss1 = tf.contrib.seq2seq.sequence_loss(prediction1, y_data, weights)\n",
    "sequence_loss2 = tf.contrib.seq2seq.sequence_loss(prediction2, y_data, weights)\n",
    "sequence_loss3 = tf.contrib.seq2seq.sequence_loss(prediction3, y_data, weights)\n",
    "sequence_loss4 = tf.contrib.seq2seq.sequence_loss(prediction4, y_data, weights)\n",
    "\n",
    "sess.run(tf.global_variables_initializer())\n",
    "print(\"Loss1: \", sequence_loss1.eval(),\n",
    "      \"Loss2: \", sequence_loss2.eval(),\n",
    "      \"Loss3: \", sequence_loss3.eval(),\n",
    "      \"Loss4: \", sequence_loss4.eval())"
   ]
  }
 ],
 "metadata": {
  "kernelspec": {
   "display_name": "Python 3",
   "language": "python",
   "name": "python3"
  },
  "language_info": {
   "codemirror_mode": {
    "name": "ipython",
    "version": 3
   },
   "file_extension": ".py",
   "mimetype": "text/x-python",
   "name": "python",
   "nbconvert_exporter": "python",
   "pygments_lexer": "ipython3",
   "version": "3.6.2"
  }
 },
 "nbformat": 4,
 "nbformat_minor": 1
}
