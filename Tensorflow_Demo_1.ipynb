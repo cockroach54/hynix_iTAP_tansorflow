{
 "cells": [
  {
   "cell_type": "markdown",
   "metadata": {},
   "source": [
    "# Tensorflow Demo\n",
    " - 텐서플로 기초 실습\n",
    " > - https://github.com/hunkim/DeepLearningZeroToAll\n",
    "  - https://tensorflowkorea.gitbooks.io/tensorflow-kr/content/g3doc/tutorials/\n",
    "  - https://r2rt.com/implementing-batch-normalization-in-tensorflow.html"
   ]
  },
  {
   "cell_type": "code",
   "execution_count": 1,
   "metadata": {},
   "outputs": [
    {
     "name": "stderr",
     "output_type": "stream",
     "text": [
      "C:\\ProgramData\\Anaconda3\\lib\\site-packages\\h5py\\__init__.py:34: FutureWarning: Conversion of the second argument of issubdtype from `float` to `np.floating` is deprecated. In future, it will be treated as `np.float64 == np.dtype(float).type`.\n",
      "  from ._conv import register_converters as _register_converters\n"
     ]
    },
    {
     "data": {
      "text/plain": [
       "'1.4.0'"
      ]
     },
     "execution_count": 1,
     "metadata": {},
     "output_type": "execute_result"
    }
   ],
   "source": [
    "import tensorflow as tf\n",
    "tf.__version__\n",
    "## '1.4.0'"
   ]
  },
  {
   "cell_type": "code",
   "execution_count": 21,
   "metadata": {},
   "outputs": [],
   "source": [
    "# Create a constant op\n",
    "# This op is added as a node to the default graph\n",
    "hello = tf.constant(\"Hello, TensorFlow!\")\n",
    "num = tf.constant([[1,2,3],[4,5,6],[7,8,9]])"
   ]
  },
  {
   "cell_type": "code",
   "execution_count": 17,
   "metadata": {},
   "outputs": [
    {
     "data": {
      "text/plain": [
       "<tf.Tensor 'Const_5:0' shape=() dtype=string>"
      ]
     },
     "execution_count": 17,
     "metadata": {},
     "output_type": "execute_result"
    }
   ],
   "source": [
    "hello"
   ]
  },
  {
   "cell_type": "code",
   "execution_count": 18,
   "metadata": {
    "collapsed": true
   },
   "outputs": [],
   "source": [
    "# start a TF session\n",
    "sess = tf.Session()"
   ]
  },
  {
   "cell_type": "code",
   "execution_count": 22,
   "metadata": {},
   "outputs": [
    {
     "data": {
      "text/plain": [
       "<tf.Tensor 'Const_8:0' shape=(3, 3) dtype=int32>"
      ]
     },
     "execution_count": 22,
     "metadata": {},
     "output_type": "execute_result"
    }
   ],
   "source": [
    "num"
   ]
  },
  {
   "cell_type": "code",
   "execution_count": 23,
   "metadata": {},
   "outputs": [
    {
     "name": "stdout",
     "output_type": "stream",
     "text": [
      "b'Hello, TensorFlow!'\n",
      "[[1 2 3]\n",
      " [4 5 6]\n",
      " [7 8 9]]\n"
     ]
    }
   ],
   "source": [
    "# run the op and get result\n",
    "print(sess.run(hello))\n",
    "print(sess.run(num))\n",
    "\n",
    "\n",
    "## b'Hello, TensorFlow!'"
   ]
  },
  {
   "cell_type": "code",
   "execution_count": 24,
   "metadata": {},
   "outputs": [
    {
     "data": {
      "text/plain": [
       "[[[1.0, 2.0, 3.0]], [[7.0, 8.0, 9.0]]]"
      ]
     },
     "execution_count": 24,
     "metadata": {},
     "output_type": "execute_result"
    }
   ],
   "source": [
    "3 # a rank 0 tensor; this is a scalar with shape []\n",
    "[1. ,2., 3.] # a rank 1 tensor; this is a vector with shape [3]\n",
    "[[1., 2., 3.], [4., 5., 6.]] # a rank 2 tensor; a matrix with shape [2, 3]\n",
    "[[[1., 2., 3.]], [[7., 8., 9.]]] # a rank 3 tensor with shape [2, 1, 3]"
   ]
  },
  {
   "cell_type": "code",
   "execution_count": 30,
   "metadata": {},
   "outputs": [
    {
     "name": "stdout",
     "output_type": "stream",
     "text": [
      "node1: Tensor(\"my_node1:0\", shape=(), dtype=float32) node2: Tensor(\"Const_11:0\", shape=(), dtype=float32)\n",
      "node3:  Tensor(\"Add_1:0\", shape=(), dtype=float32)\n"
     ]
    }
   ],
   "source": [
    "node1 = tf.constant(3.0, dtype=tf.float32, name='my_node1')\n",
    "node2 = tf.constant(4.0) # also tf.float32 implicitly\n",
    "node3 = tf.add(node1, node2)\n",
    "\n",
    "print(\"node1:\", node1, \"node2:\", node2)\n",
    "print(\"node3: \", node3)\n",
    "\n",
    "## node1: Tensor(\"Const_1:0\", shape=(), dtype=float32) node2: Tensor(\"Const_2:0\", shape=(), dtype=float32)\n",
    "## node3:  Tensor(\"Add:0\", shape=(), dtype=float32)\n"
   ]
  },
  {
   "cell_type": "code",
   "execution_count": 26,
   "metadata": {
    "collapsed": true
   },
   "outputs": [],
   "source": [
    "sess = tf.Session()"
   ]
  },
  {
   "cell_type": "code",
   "execution_count": 27,
   "metadata": {},
   "outputs": [
    {
     "name": "stdout",
     "output_type": "stream",
     "text": [
      "sess.run(node1, node2):  [3.0, 4.0]\n",
      "sess.run(node3):  7.0\n"
     ]
    }
   ],
   "source": [
    "print(\"sess.run(node1, node2): \", sess.run([node1, node2]))\n",
    "print(\"sess.run(node3): \", sess.run(node3))\n",
    "\n",
    "## sess.run(node1, node2):  [3.0, 4.0]\n",
    "## sess.run(node3):  7.0"
   ]
  },
  {
   "cell_type": "code",
   "execution_count": 29,
   "metadata": {},
   "outputs": [
    {
     "data": {
      "text/plain": [
       "<tf.Tensor 'Placeholder:0' shape=<unknown> dtype=float16>"
      ]
     },
     "execution_count": 29,
     "metadata": {},
     "output_type": "execute_result"
    }
   ],
   "source": [
    "a"
   ]
  },
  {
   "cell_type": "code",
   "execution_count": 46,
   "metadata": {
    "collapsed": true
   },
   "outputs": [],
   "source": [
    "a = tf.placeholder(dtype=tf.float16, name='my_node_a')\n",
    "b = tf.placeholder(dtype=tf.float16, name='my_node_b')\n",
    "adder_node = a + b  # + provides a shortcut for tf.add(a, b)"
   ]
  },
  {
   "cell_type": "code",
   "execution_count": 42,
   "metadata": {},
   "outputs": [
    {
     "data": {
      "text/plain": [
       "[[1, 2], [3, 4]]"
      ]
     },
     "execution_count": 42,
     "metadata": {},
     "output_type": "execute_result"
    }
   ],
   "source": [
    "[[1,2], [3,4]]"
   ]
  },
  {
   "cell_type": "code",
   "execution_count": 43,
   "metadata": {},
   "outputs": [
    {
     "data": {
      "text/plain": [
       "array([[1., 2.],\n",
       "       [3., 4.]], dtype=float16)"
      ]
     },
     "execution_count": 43,
     "metadata": {},
     "output_type": "execute_result"
    }
   ],
   "source": [
    "sess.run(a, feed_dict={a:[[1,2], [3,4]]})"
   ]
  },
  {
   "cell_type": "code",
   "execution_count": 45,
   "metadata": {},
   "outputs": [
    {
     "name": "stdout",
     "output_type": "stream",
     "text": [
      "[[2. 4.]\n",
      " [6. 8.]]\n"
     ]
    }
   ],
   "source": [
    "print(sess.run(adder_node, feed_dict={a: [[1,2], [3,4]], b: [[1,2], [3,4]]}))\n",
    "# print(sess.run(adder_node, feed_dict={a: [1,3], b: [2, 4]}))\n",
    "\n",
    "## 7.5\n",
    "## [ 3.  7.]"
   ]
  },
  {
   "cell_type": "code",
   "execution_count": 47,
   "metadata": {},
   "outputs": [
    {
     "name": "stdout",
     "output_type": "stream",
     "text": [
      "22.5\n",
      "[21.  9.]\n"
     ]
    }
   ],
   "source": [
    "add_and_triple = adder_node * 3.\n",
    "print(sess.run(add_and_triple, feed_dict={a: 3, b:4.5}))\n",
    "print(sess.run(add_and_triple, feed_dict={a: [3,2], b:[4,1]}))\n",
    "# 22.5"
   ]
  },
  {
   "cell_type": "code",
   "execution_count": 55,
   "metadata": {},
   "outputs": [],
   "source": [
    "# 명시적으로 여러개의 그래프 생성도 가능\n",
    "g1 = tf.Graph()\n",
    "with g1.as_default():\n",
    "    c1 = tf.constant([2.,2.,2.])    \n",
    "#     v1 = tf.Variable([1.0,2.0,3.0], name='g1/v1') # [0,0,0]\n",
    "    v1_2 = tf.Variable(tf.random_normal(shape=[3]), name='g1/v1_2')    \n",
    "    a1 = tf.add(c1, v1_2)\n",
    "\n",
    "g2 = tf.Graph()\n",
    "with g2.as_default():\n",
    "    c2 = tf.constant([4.,4.,4.])    \n",
    "    v2 = tf.Variable(tf.ones(3), name='g2/v2') # [1,1,1]\n",
    "    v2_2 = tf.Variable(tf.fill([3,5], 7), name='g2/v2_2')\n",
    "    a2 = tf.add(c2, v2)"
   ]
  },
  {
   "cell_type": "code",
   "execution_count": 50,
   "metadata": {},
   "outputs": [
    {
     "data": {
      "text/plain": [
       "<tensorflow.python.framework.ops.Graph at 0x2436a9dc668>"
      ]
     },
     "execution_count": 50,
     "metadata": {},
     "output_type": "execute_result"
    }
   ],
   "source": [
    "g2"
   ]
  },
  {
   "cell_type": "code",
   "execution_count": 70,
   "metadata": {},
   "outputs": [
    {
     "name": "stdout",
     "output_type": "stream",
     "text": [
      "[ 0.69057095  0.8349261  -1.2421254 ]\n",
      "[2.6905708 2.8349261 0.7578746]\n"
     ]
    }
   ],
   "source": [
    "with tf.Session(graph = g1) as sess:\n",
    "    sess.run(tf.global_variables_initializer())\n",
    "    print(sess.run(v1_2))\n",
    "    print(sess.run(a1))\n",
    "#[2., 2., 2.]\n",
    "\n",
    "# with tf.Session(graph = g2) as sess:\n",
    "#     sess.run(tf.global_variables_initializer())\n",
    "#     print(sess.run(a2))\n",
    "# #[5,5,5]"
   ]
  },
  {
   "cell_type": "code",
   "execution_count": 82,
   "metadata": {},
   "outputs": [
    {
     "name": "stdout",
     "output_type": "stream",
     "text": [
      "[<tf.Variable 'g2/v2:0' shape=(3,) dtype=float32_ref>, <tf.Variable 'g2/v2_2:0' shape=(3, 5) dtype=int32_ref>]\n",
      "[[7 7 7 7 7]\n",
      " [7 7 7 7 7]\n",
      " [7 7 7 7 7]]\n",
      "[1. 1. 1.]\n"
     ]
    }
   ],
   "source": [
    "with g2.as_default():\n",
    "    print(tf.global_variables())\n",
    "    \n",
    "with tf.Session(graph = g2) as sess:\n",
    "    sess.run(tf.global_variables_initializer())\n",
    "    print(sess.run(v2_2))\n",
    "    print(v2.eval())"
   ]
  },
  {
   "cell_type": "markdown",
   "metadata": {},
   "source": [
    "---\n",
    "## Linear regression"
   ]
  },
  {
   "cell_type": "code",
   "execution_count": null,
   "metadata": {
    "collapsed": true
   },
   "outputs": [],
   "source": [
    "import numpy as np"
   ]
  },
  {
   "cell_type": "code",
   "execution_count": 127,
   "metadata": {
    "collapsed": true
   },
   "outputs": [],
   "source": [
    "xx = np.random.normal(5, 1, [100])\n",
    "noise = np.random.normal(0, 0.5, [100])\n",
    "yy = xx*3 + 10+ noise"
   ]
  },
  {
   "cell_type": "code",
   "execution_count": 128,
   "metadata": {},
   "outputs": [
    {
     "data": {
      "text/plain": [
       "array([21.16175424, 29.40531334, 23.92764931, 26.3458976 , 28.28844972,\n",
       "       24.12923355, 24.11054935, 18.9907661 , 25.92930969, 25.92845133,\n",
       "       19.7797785 , 26.38017474, 27.07740284, 26.99567922, 24.96605095,\n",
       "       25.06948727, 24.01851899, 22.95775164, 26.73391568, 25.38159547,\n",
       "       26.88244267, 28.66969251, 28.63689029, 25.82670675, 20.76776264,\n",
       "       26.55839613, 25.62435759, 27.67299017, 22.80851972, 25.12428576,\n",
       "       19.73997035, 26.46080986, 24.6075402 , 22.05233148, 28.53564921,\n",
       "       22.20008108, 23.96775348, 24.37827075, 19.61240388, 26.18937984,\n",
       "       24.71632069, 29.15759273, 27.83460335, 28.43347452, 26.05383008,\n",
       "       21.57651375, 29.11989651, 21.15129824, 20.19561981, 23.59264584,\n",
       "       25.33226319, 32.20016757, 24.70531363, 29.31151868, 24.82737976,\n",
       "       20.64119589, 31.46565033, 22.77115895, 29.00656953, 29.99122794,\n",
       "       21.7403578 , 18.84614996, 32.1574654 , 29.73375659, 21.82142308,\n",
       "       27.81273727, 29.08325398, 21.8705604 , 22.74678783, 27.34931624,\n",
       "       27.51084349, 25.84518792, 29.58766854, 26.29287301, 19.79485669,\n",
       "       22.27312045, 26.04976853, 26.53752783, 19.6371796 , 22.84264073,\n",
       "       20.66100096, 24.17099058, 23.59634758, 28.67650786, 19.37463487,\n",
       "       22.26502412, 26.70679056, 26.66280302, 20.95219505, 22.70759161,\n",
       "       28.29008024, 24.27205109, 31.04935299, 25.68041474, 25.02249534,\n",
       "       31.99285383, 22.7502308 , 20.77145223, 25.66514478, 26.68766265])"
      ]
     },
     "execution_count": 128,
     "metadata": {},
     "output_type": "execute_result"
    }
   ],
   "source": [
    "yy"
   ]
  },
  {
   "cell_type": "code",
   "execution_count": 129,
   "metadata": {},
   "outputs": [
    {
     "data": {
      "image/png": "[encoded data removed]",
      "text/plain": [
       "<matplotlib.figure.Figure at 0x243780b22e8>"
      ]
     },
     "metadata": {},
     "output_type": "display_data"
    }
   ],
   "source": [
    "import matplotlib.pyplot as plt\n",
    "# plt.scatter(x_train, y_train)\n",
    "plt.scatter(xx, yy)\n",
    "plt.show()"
   ]
  },
  {
   "cell_type": "code",
   "execution_count": 130,
   "metadata": {
    "collapsed": true
   },
   "outputs": [],
   "source": [
    "# Try to find values for W and b to compute y_data = x_data * W + b\n",
    "# We know that W should be 1 and b should be 0\n",
    "# But let TensorFlow figure it out\n",
    "W = tf.Variable(tf.random_normal([1]), name='weight')\n",
    "b = tf.Variable(tf.random_normal([1]), name='bias')\n",
    "\n",
    "# Our hypothesis XW+b\n",
    "hypothesis = xx * W + b\n",
    "\n",
    "# cost/loss function\n",
    "cost = tf.reduce_mean(tf.square(hypothesis - yy))\n",
    "\n",
    "# Minimize\n",
    "optimizer = tf.train.GradientDescentOptimizer(learning_rate=0.01)\n",
    "train = optimizer.minimize(cost)"
   ]
  },
  {
   "cell_type": "markdown",
   "metadata": {},
   "source": [
    "---\n",
    "위는 연습용"
   ]
  },
  {
   "cell_type": "code",
   "execution_count": 115,
   "metadata": {
    "collapsed": true
   },
   "outputs": [],
   "source": [
    "# X and Y data\n",
    "x_train = np.array([1, 2, 3])\n",
    "# y_train = [1, 2, 3]\n",
    "y_train = np.array([5, 9, 13])# W*W 제곱해서 2차 근사"
   ]
  },
  {
   "cell_type": "code",
   "execution_count": 116,
   "metadata": {},
   "outputs": [],
   "source": [
    "# Try to find values for W and b to compute y_data = x_data * W + b\n",
    "# We know that W should be 1 and b should be 0\n",
    "# But let TensorFlow figure it out\n",
    "W = tf.Variable(tf.random_normal([1]), name='weight')\n",
    "b = tf.Variable(tf.random_normal([1]), name='bias')\n",
    "\n",
    "# Our hypothesis XW+b\n",
    "hypothesis = x_train * W*W + b\n",
    "\n",
    "# cost/loss function\n",
    "cost = tf.reduce_mean(tf.square(hypothesis - y_train))\n",
    "\n",
    "# Minimize\n",
    "optimizer = tf.train.GradientDescentOptimizer(learning_rate=0.01)\n",
    "train = optimizer.minimize(cost)"
   ]
  },
  {
   "cell_type": "code",
   "execution_count": 131,
   "metadata": {
    "collapsed": true
   },
   "outputs": [],
   "source": [
    "# Launch the graph in a session.\n",
    "sess = tf.Session()\n",
    "# Initializes global variables in the graph.\n",
    "sess.run(tf.global_variables_initializer())"
   ]
  },
  {
   "cell_type": "code",
   "execution_count": 132,
   "metadata": {
    "scrolled": true
   },
   "outputs": [
    {
     "name": "stdout",
     "output_type": "stream",
     "text": [
      "0 168.40302 [2.1845036] [1.1368518]\n",
      "20 3.0589108 [4.556737] [1.7260818]\n",
      "40 2.967259 [4.531548] [1.8591346]\n",
      "60 2.8785915 [4.506772] [1.9900029]\n",
      "80 2.792813 [4.4824033] [2.118722]\n",
      "100 2.7098289 [4.4584346] [2.2453277]\n",
      "120 2.6295462 [4.4348593] [2.369854]\n",
      "140 2.5518787 [4.4116716] [2.4923358]\n",
      "160 2.4767406 [4.388864] [2.6128075]\n",
      "180 2.4040508 [4.3664308] [2.7313006]\n",
      "200 2.3337274 [4.3443666] [2.8478477]\n",
      "220 2.265695 [4.322664] [2.9624815]\n",
      "240 2.1998785 [4.301318] [3.0752325]\n",
      "260 2.1362054 [4.280323] [3.1861322]\n",
      "280 2.074606 [4.259672] [3.2952116]\n",
      "300 2.015014 [4.239361] [3.402499]\n",
      "320 1.9573619 [4.219383] [3.508025]\n",
      "340 1.9015877 [4.199733] [3.6118183]\n",
      "360 1.8476303 [4.180405] [3.7139075]\n",
      "380 1.7954302 [4.161395] [3.8143203]\n",
      "400 1.7449304 [4.1426973] [3.9130845]\n",
      "420 1.696075 [4.1243067] [4.010227]\n",
      "440 1.648811 [4.106218] [4.105774]\n",
      "460 1.6030864 [4.088426] [4.199752]\n",
      "480 1.5588516 [4.0709267] [4.2921863]\n",
      "500 1.516057 [4.053714] [4.383104]\n",
      "520 1.4746567 [4.0367846] [4.4725285]\n",
      "540 1.4346045 [4.0201325] [4.5604854]\n",
      "560 1.3958561 [4.003754] [4.646998]\n",
      "580 1.3583703 [3.9876444] [4.7320895]\n",
      "600 1.3221064 [3.9717999] [4.8157835]\n",
      "620 1.2870224 [3.9562151] [4.8981037]\n",
      "640 1.2530811 [3.9408863] [4.9790726]\n",
      "660 1.2202454 [3.925809] [5.058712]\n",
      "680 1.1884794 [3.9109793] [5.1370435]\n",
      "700 1.1577483 [3.8963933] [5.2140884]\n",
      "720 1.1280181 [3.882047] [5.289868]\n",
      "740 1.099256 [3.867936] [5.3644032]\n",
      "760 1.0714307 [3.8540568] [5.4377146]\n",
      "780 1.0445117 [3.8404055] [5.5098224]\n",
      "800 1.0184692 [3.8269782] [5.5807467]\n",
      "820 0.9932756 [3.8137715] [5.6505055]\n",
      "840 0.9689018 [3.8007817] [5.719119]\n",
      "860 0.94532233 [3.788005] [5.7866063]\n",
      "880 0.92251104 [3.7754385] [5.852985]\n",
      "900 0.90044236 [3.763078] [5.918274]\n",
      "920 0.8790927 [3.7509205] [5.9824915]\n",
      "940 0.85843813 [3.7389627] [6.045654]\n",
      "960 0.8384564 [3.727201] [6.1077795]\n",
      "980 0.81912535 [3.7156327] [6.168885]\n",
      "1000 0.800424 [3.7042544] [6.228987]\n",
      "1020 0.78233165 [3.6930628] [6.288102]\n",
      "1040 0.76482904 [3.682055] [6.3462462]\n",
      "1060 0.7478965 [3.671228] [6.403435]\n",
      "1080 0.73151505 [3.6605787] [6.459686]\n",
      "1100 0.7156674 [3.6501043] [6.5150127]\n",
      "1120 0.7003359 [3.6398017] [6.5694313]\n",
      "1140 0.68550384 [3.6296687] [6.6229563]\n",
      "1160 0.6711543 [3.6197016] [6.6756024]\n",
      "1180 0.6572727 [3.6098986] [6.727383]\n",
      "1200 0.6438434 [3.6002564] [6.7783146]\n",
      "1220 0.6308507 [3.5907724] [6.82841]\n",
      "1240 0.6182813 [3.581444] [6.8776827]\n",
      "1260 0.60612196 [3.5722692] [6.926146]\n",
      "1280 0.59435827 [3.5632448] [6.9738135]\n",
      "1300 0.58297753 [3.5543687] [7.020699]\n",
      "1320 0.5719677 [3.5456378] [7.066815]\n",
      "1340 0.5613159 [3.5370507] [7.112174]\n",
      "1360 0.5510122 [3.5286045] [7.156787]\n",
      "1380 0.541043 [3.520297] [7.200668]\n",
      "1400 0.53139895 [3.512126] [7.2438283]\n",
      "1420 0.5220691 [3.5040894] [7.286279]\n",
      "1440 0.5130429 [3.4961843] [7.328034]\n",
      "1460 0.5043108 [3.4884093] [7.369103]\n",
      "1480 0.4958632 [3.480762] [7.4094963]\n",
      "1500 0.48769066 [3.4732404] [7.4492273]\n",
      "1520 0.47978428 [3.4658418] [7.4883065]\n",
      "1540 0.47213578 [3.458565] [7.5267434]\n",
      "1560 0.4647361 [3.4514077] [7.5645494]\n",
      "1580 0.45757717 [3.444368] [7.6017346]\n",
      "1600 0.45065162 [3.4374435] [7.6383095]\n",
      "1620 0.44395146 [3.4306328] [7.674284]\n",
      "1640 0.43746975 [3.4239342] [7.7096663]\n",
      "1660 0.43119898 [3.4173453] [7.7444706]\n",
      "1680 0.4251321 [3.4108646] [7.7787027]\n",
      "1700 0.4192634 [3.4044905] [7.8123717]\n",
      "1720 0.4135858 [3.3982208] [7.845488]\n",
      "1740 0.408093 [3.3920543] [7.8780603]\n",
      "1760 0.40277913 [3.385989] [7.9100976]\n",
      "1780 0.39763817 [3.3800232] [7.9416094]\n",
      "1800 0.392665 [3.3741555] [7.972604]\n",
      "1820 0.38785338 [3.368384] [8.003089]\n",
      "1840 0.38319904 [3.3627074] [8.033073]\n",
      "1860 0.37869608 [3.357124] [8.062565]\n",
      "1880 0.3743396 [3.3516324] [8.091573]\n",
      "1900 0.37012523 [3.3462307] [8.120104]\n",
      "1920 0.36604804 [3.3409183] [8.148167]\n",
      "1940 0.36210346 [3.3356924] [8.17577]\n",
      "1960 0.3582875 [3.3305526] [8.202918]\n",
      "1980 0.354596 [3.3254972] [8.229621]\n",
      "2000 0.3510245 [3.320525] [8.255885]\n",
      "2020 0.34756976 [3.3156343] [8.281718]\n",
      "2040 0.34422693 [3.310824] [8.307128]\n",
      "2060 0.34099343 [3.3060925] [8.332119]\n",
      "2080 0.33786523 [3.3014386] [8.356702]\n",
      "2100 0.33483848 [3.2968612] [8.38088]\n",
      "2120 0.33191082 [3.2923594] [8.404659]\n",
      "2140 0.32907787 [3.2879305] [8.428053]\n",
      "2160 0.32633674 [3.2835739] [8.451065]\n",
      "2180 0.3236858 [3.2792895] [8.473696]\n",
      "2200 0.32112136 [3.275076] [8.495952]\n",
      "2220 0.31864 [3.2709317] [8.517843]\n",
      "2240 0.31623974 [3.266855] [8.539376]\n",
      "2260 0.31391734 [3.2628455] [8.560555]\n",
      "2280 0.311671 [3.2589018] [8.581386]\n",
      "2300 0.3094976 [3.2550228] [8.601875]\n",
      "2320 0.30739477 [3.2512074] [8.622028]\n",
      "2340 0.30536085 [3.247455] [8.6418495]\n",
      "2360 0.30339295 [3.2437637] [8.661346]\n",
      "2380 0.3014894 [3.2401335] [8.680521]\n",
      "2400 0.2996475 [3.2365627] [8.699383]\n",
      "2420 0.29786563 [3.2330506] [8.717934]\n",
      "2440 0.29614213 [3.2295961] [8.73618]\n",
      "2460 0.2944744 [3.2261984] [8.7541275]\n",
      "2480 0.29286137 [3.2228565] [8.77178]\n",
      "2500 0.29130086 [3.2195697] [8.789142]\n",
      "2520 0.28979087 [3.2163365] [8.806219]\n",
      "2540 0.28833026 [3.2131567] [8.823016]\n",
      "2560 0.28691703 [3.2100286] [8.839538]\n",
      "2580 0.28554973 [3.2069523] [8.855787]\n",
      "2600 0.28422746 [3.2039266] [8.87177]\n",
      "2620 0.28294778 [3.2009504] [8.887491]\n",
      "2640 0.28171 [3.198023] [8.902953]\n",
      "2660 0.28051254 [3.195144] [8.918161]\n",
      "2680 0.27935418 [3.192312] [8.93312]\n",
      "2700 0.27823365 [3.1895263] [8.947833]\n",
      "2720 0.27714902 [3.1867867] [8.962305]\n",
      "2740 0.27609995 [3.1840918] [8.97654]\n",
      "2760 0.2750855 [3.181441] [8.9905405]\n",
      "2780 0.27410352 [3.1788342] [9.004311]\n",
      "2800 0.2731538 [3.17627] [9.017856]\n",
      "2820 0.27223498 [3.173748] [9.0311775]\n",
      "2840 0.2713459 [3.1712673] [9.044281]\n",
      "2860 0.270486 [3.168827] [9.057169]\n",
      "2880 0.2696541 [3.1664271] [9.069846]\n",
      "2900 0.2688494 [3.1640668] [9.0823145]\n",
      "2920 0.2680706 [3.161745] [9.094578]\n",
      "2940 0.26731753 [3.1594615] [9.10664]\n",
      "2960 0.2665887 [3.1572154] [9.118504]\n",
      "2980 0.26588354 [3.1550055] [9.130177]\n",
      "3000 0.2652013 [3.152832] [9.141657]\n",
      "3020 0.26454127 [3.1506944] [9.152948]\n",
      "3040 0.26390302 [3.1485922] [9.164052]\n",
      "3060 0.2632856 [3.1465247] [9.1749735]\n",
      "3080 0.26268804 [3.144491] [9.185716]\n",
      "3100 0.2621101 [3.1424906] [9.196281]\n",
      "3120 0.26155108 [3.1405232] [9.206674]\n",
      "3140 0.2610104 [3.1385882] [9.216895]\n",
      "3160 0.26048687 [3.136685] [9.226948]\n",
      "3180 0.25998053 [3.1348126] [9.236837]\n",
      "3200 0.2594907 [3.132971] [9.246564]\n",
      "3220 0.2590169 [3.13116] [9.256131]\n",
      "3240 0.25855866 [3.1293783] [9.265541]\n",
      "3260 0.258115 [3.1276264] [9.274796]\n",
      "3280 0.25768617 [3.1259031] [9.283898]\n",
      "3300 0.25727108 [3.124208] [9.292852]\n",
      "3320 0.25686952 [3.1225407] [9.301659]\n",
      "3340 0.2564811 [3.1209009] [9.310321]\n",
      "3360 0.2561053 [3.119288] [9.31884]\n",
      "3380 0.25574178 [3.1177015] [9.32722]\n",
      "3400 0.25539 [3.116141] [9.335463]\n",
      "3420 0.25504982 [3.1146064] [9.34357]\n",
      "3440 0.25472057 [3.1130967] [9.351543]\n",
      "3460 0.25440225 [3.111612] [9.3593855]\n",
      "3480 0.25409412 [3.1101515] [9.367101]\n",
      "3500 0.25379595 [3.1087148] [9.374689]\n",
      "3520 0.25350773 [3.1073022] [9.382151]\n",
      "3540 0.2532287 [3.1059124] [9.389491]\n",
      "3560 0.2529591 [3.1045456] [9.396711]\n",
      "3580 0.2526978 [3.1032012] [9.403812]\n",
      "3600 0.25244513 [3.101879] [9.410797]\n",
      "3620 0.25220087 [3.100578] [9.417667]\n",
      "3640 0.2519646 [3.099299] [9.424424]\n",
      "3660 0.25173578 [3.0980408] [9.43107]\n",
      "3680 0.25151458 [3.0968032] [9.437607]\n",
      "3700 0.25130063 [3.095586] [9.4440365]\n",
      "3720 0.2510936 [3.0943887] [9.450361]\n",
      "3740 0.25089327 [3.0932112] [9.456582]\n",
      "3760 0.2506993 [3.0920527] [9.462699]\n",
      "3780 0.25051185 [3.0909135] [9.468717]\n",
      "3800 0.2503307 [3.0897932] [9.474635]\n",
      "3820 0.25015515 [3.088691] [9.480457]\n",
      "3840 0.24998526 [3.0876067] [9.486184]\n",
      "3860 0.24982113 [3.0865405] [9.491816]\n",
      "3880 0.24966191 [3.0854917] [9.497355]\n",
      "3900 0.2495084 [3.0844603] [9.502804]\n",
      "3920 0.2493598 [3.0834458] [9.5081625]\n",
      "3940 0.24921606 [3.0824478] [9.513433]\n",
      "3960 0.24907677 [3.0814664] [9.518619]\n",
      "3980 0.24894223 [3.080501] [9.523717]\n",
      "4000 0.24881195 [3.0795515] [9.528733]\n",
      "4020 0.24868603 [3.0786176] [9.533667]\n",
      "4040 0.24856411 [3.077699] [9.538518]\n",
      "4060 0.24844597 [3.0767953] [9.54329]\n",
      "4080 0.24833208 [3.0759068] [9.547984]\n",
      "4100 0.24822173 [3.0750325] [9.552602]\n",
      "4120 0.2481148 [3.0741727] [9.557143]\n",
      "4140 0.24801165 [3.0733273] [9.56161]\n",
      "4160 0.24791165 [3.0724955] [9.566004]\n",
      "4180 0.24781491 [3.0716774] [9.570325]\n",
      "4200 0.24772154 [3.0708728] [9.574574]\n",
      "4220 0.2476309 [3.0700812] [9.578755]\n",
      "4240 0.24754354 [3.0693028] [9.582867]\n",
      "4260 0.2474586 [3.0685372] [9.586911]\n",
      "4280 0.24737684 [3.067784] [9.590889]\n",
      "4300 0.24729763 [3.0670433] [9.594803]\n",
      "4320 0.24722084 [3.0663145] [9.598652]\n",
      "4340 0.24714665 [3.0655978] [9.602438]\n",
      "4360 0.24707483 [3.0648928] [9.606161]\n",
      "4380 0.24700555 [3.0641994] [9.609823]\n",
      "4400 0.2469383 [3.0635178] [9.613424]\n",
      "4420 0.24687332 [3.062847] [9.616967]\n",
      "4440 0.24681056 [3.0621874] [9.620452]\n",
      "4460 0.24674958 [3.0615385] [9.6238785]\n"
     ]
    },
    {
     "name": "stdout",
     "output_type": "stream",
     "text": [
      "4480 0.24669094 [3.0609002] [9.62725]\n",
      "4500 0.24663399 [3.0602727] [9.630565]\n",
      "4520 0.24657892 [3.0596557] [9.633825]\n",
      "4540 0.24652565 [3.0590484] [9.6370325]\n",
      "4560 0.24647425 [3.058451] [9.640187]\n",
      "4580 0.24642424 [3.0578635] [9.6432905]\n",
      "4600 0.24637605 [3.057286] [9.646342]\n",
      "4620 0.24632911 [3.0567174] [9.649344]\n",
      "4640 0.24628423 [3.0561583] [9.652298]\n",
      "4660 0.24624062 [3.0556087] [9.655201]\n",
      "4680 0.24619831 [3.0550678] [9.658058]\n",
      "4700 0.24615751 [3.054536] [9.660867]\n",
      "4720 0.24611786 [3.0540128] [9.6636305]\n",
      "4740 0.24607967 [3.053498] [9.666349]\n",
      "4760 0.24604271 [3.052992] [9.669023]\n",
      "4780 0.24600671 [3.0524943] [9.671652]\n",
      "4800 0.2459721 [3.0520046] [9.674239]\n",
      "4820 0.2459386 [3.051523] [9.676783]\n",
      "4840 0.24590622 [3.0510492] [9.679284]\n",
      "4860 0.2458748 [3.0505831] [9.681746]\n",
      "4880 0.24584457 [3.050125] [9.684167]\n",
      "4900 0.24581516 [3.049674] [9.686548]\n",
      "4920 0.24578682 [3.0492308] [9.68889]\n",
      "4940 0.2457593 [3.0487945] [9.691195]\n",
      "4960 0.24573272 [3.0483656] [9.69346]\n",
      "4980 0.24570702 [3.0479436] [9.695688]\n",
      "5000 0.24568215 [3.0475287] [9.69788]\n"
     ]
    }
   ],
   "source": [
    "costs = []\n",
    "# Fit the line\n",
    "for step in range(5001):\n",
    "    sess.run(train)\n",
    "    if step % 20 == 0:\n",
    "        cost_ = sess.run(cost)\n",
    "        costs.append(cost_)\n",
    "        print(step, cost_, sess.run(W), sess.run(b))"
   ]
  },
  {
   "cell_type": "code",
   "execution_count": 102,
   "metadata": {},
   "outputs": [
    {
     "data": {
      "text/plain": [
       "array([0.67, 4.67, 8.67])"
      ]
     },
     "execution_count": 102,
     "metadata": {},
     "output_type": "execute_result"
    }
   ],
   "source": [
    "import numpy as np\n",
    "k = np.array([1,2,3])\n",
    "k*2*2 -3.33"
   ]
  },
  {
   "cell_type": "code",
   "execution_count": 133,
   "metadata": {},
   "outputs": [
    {
     "data": {
      "image/png": "[encoded data removed]",
      "text/plain": [
       "<matplotlib.figure.Figure at 0x24377cb64a8>"
      ]
     },
     "metadata": {},
     "output_type": "display_data"
    }
   ],
   "source": [
    "import matplotlib.pyplot as plt\n",
    "plt.plot(costs)\n",
    "plt.show()"
   ]
  },
  {
   "cell_type": "markdown",
   "metadata": {},
   "source": [
    "---\n",
    "## MLP(Multi Layer Perceptron)\n",
    "> MNIST data set"
   ]
  },
  {
   "cell_type": "code",
   "execution_count": 134,
   "metadata": {},
   "outputs": [
    {
     "name": "stdout",
     "output_type": "stream",
     "text": [
      "Extracting MNIST_data/train-images-idx3-ubyte.gz\n",
      "Extracting MNIST_data/train-labels-idx1-ubyte.gz\n",
      "Extracting MNIST_data/t10k-images-idx3-ubyte.gz\n",
      "Extracting MNIST_data/t10k-labels-idx1-ubyte.gz\n"
     ]
    }
   ],
   "source": [
    "# load MNIST dataset \n",
    "import random\n",
    "from tensorflow.examples.tutorials.mnist import input_data\n",
    "\n",
    "tf.set_random_seed(777)  # reproducibility\n",
    "\n",
    "mnist = input_data.read_data_sets(\"MNIST_data/\", one_hot=True)\n",
    "# Check out https://www.tensorflow.org/get_started/mnist/beginners for\n",
    "# more information about the mnist dataset"
   ]
  },
  {
   "cell_type": "code",
   "execution_count": 146,
   "metadata": {},
   "outputs": [
    {
     "data": {
      "text/plain": [
       "array([0., 0., 0., 1., 0., 0., 0., 0., 0., 0.])"
      ]
     },
     "execution_count": 146,
     "metadata": {},
     "output_type": "execute_result"
    }
   ],
   "source": [
    "mnist.train.labels[1]\n",
    "# [784] --> [24, 24]"
   ]
  },
  {
   "cell_type": "code",
   "execution_count": 145,
   "metadata": {},
   "outputs": [
    {
     "data": {
      "image/png": "[encoded data removed]",
      "text/plain": [
       "<matplotlib.figure.Figure at 0x2437c83f240>"
      ]
     },
     "metadata": {},
     "output_type": "display_data"
    }
   ],
   "source": [
    "plt.imshow(mnist.train.images[1].\n",
    "          reshape(28, 28), cmap='Greys', interpolation='nearest')\n",
    "plt.show()"
   ]
  },
  {
   "cell_type": "code",
   "execution_count": 189,
   "metadata": {},
   "outputs": [],
   "source": [
    "# parameters\n",
    "learning_rate = 0.005\n",
    "training_epochs = 30\n",
    "# use mini batch\n",
    "batch_size = 100\n",
    "\n",
    "# input place holders\n",
    "X = tf.placeholder(tf.float32, [None, 784]) #[100, 784]\n",
    "Y = tf.placeholder(tf.float32, [None, 10]) #[100, 10]\n",
    "\n",
    "# # weights & bias for nn hidden layers\n",
    "# # 1-hidden layer\n",
    "# W1 = tf.Variable(tf.random_normal([784, 512])) #[784, 256]\n",
    "# b1 = tf.Variable(tf.random_normal([512]))\n",
    "# L1 = tf.nn.relu(tf.matmul(X, W1) + b1)\n",
    "\n",
    "# W2 = tf.Variable(tf.random_normal([512, 10]))\n",
    "# b2 = tf.Variable(tf.random_normal([10]))\n",
    "# hypothesis = tf.matmul(L1, W2) + b2\n",
    "\n",
    "\n",
    "# 2-hidden layers\n",
    "# W1 = tf.Variable(tf.random_normal([784, 256]))\n",
    "# b1 = tf.Variable(tf.random_normal([256]))\n",
    "# L1 = tf.nn.relu(tf.matmul(X, W1) + b1)\n",
    "\n",
    "# W2 = tf.Variable(tf.random_normal([256, 256]))\n",
    "# b2 = tf.Variable(tf.random_normal([256]))\n",
    "# L2 = tf.nn.relu(tf.matmul(L1, W2) + b2)\n",
    "\n",
    "# W3 = tf.Variable(tf.random_normal([256, 10]))\n",
    "# b3 = tf.Variable(tf.random_normal([10]))\n",
    "# hypothesis = tf.matmul(L2, W3) + b3\n",
    "\n",
    "# 3-hidden layers\n",
    "W1 = tf.Variable(tf.random_normal([784, 256]))\n",
    "b1 = tf.Variable(tf.random_normal([256]))\n",
    "L1 = tf.nn.relu(tf.matmul(X, W1) + b1)\n",
    "\n",
    "W2 = tf.Variable(tf.random_normal([256, 256]))\n",
    "b2 = tf.Variable(tf.random_normal([256]))\n",
    "L2 = tf.nn.relu(tf.matmul(L1, W2) + b2)\n",
    "\n",
    "W3 = tf.Variable(tf.random_normal([256, 256]))\n",
    "b3 = tf.Variable(tf.random_normal([256]))\n",
    "L3 = tf.nn.relu(tf.matmul(L2, W3) + b3)\n",
    "\n",
    "W4 = tf.Variable(tf.random_normal([256, 10]))\n",
    "b4 = tf.Variable(tf.random_normal([10]))\n",
    "hypothesis = tf.matmul(L3, W4) + b4\n",
    "\n",
    "\n",
    "# define cost/loss & optimizer\n",
    "cost = tf.reduce_mean(tf.nn.softmax_cross_entropy_with_logits(\n",
    "    logits=hypothesis, labels=Y))\n",
    "optimizer = tf.train.GradientDescentOptimizer(learning_rate=learning_rate).minimize(cost)\n",
    "\n",
    "predicted = tf.argmax(hypothesis, 1)  # [0,0,0,1,0....]--> [3]\n",
    "accuracy = tf.reduce_mean(tf.cast(tf.equal(predicted, tf.argmax(Y, 1)), dtype=tf.float32))"
   ]
  },
  {
   "cell_type": "code",
   "execution_count": 190,
   "metadata": {
    "scrolled": true
   },
   "outputs": [
    {
     "name": "stdout",
     "output_type": "stream",
     "text": [
      "Total step: 16500\n",
      "step 0: acc_tr 0.0989818, acc_tt 0.0958, cost 354353\n",
      "step 200: acc_tr 0.0989818, acc_tt 0.0958, cost nan\n",
      "step 400: acc_tr 0.0989818, acc_tt 0.0958, cost nan\n",
      "step 600: acc_tr 0.0989818, acc_tt 0.0958, cost nan\n",
      "step 800: acc_tr 0.0989818, acc_tt 0.0958, cost nan\n",
      "step 1000: acc_tr 0.0989818, acc_tt 0.0958, cost nan\n",
      "step 1200: acc_tr 0.0989818, acc_tt 0.0958, cost nan\n",
      "step 1400: acc_tr 0.0989818, acc_tt 0.0958, cost nan\n",
      "step 1600: acc_tr 0.0989818, acc_tt 0.0958, cost nan\n",
      "step 1800: acc_tr 0.0989818, acc_tt 0.0958, cost nan\n",
      "step 2000: acc_tr 0.0989818, acc_tt 0.0958, cost nan\n",
      "step 2200: acc_tr 0.0989818, acc_tt 0.0958, cost nan\n",
      "step 2400: acc_tr 0.0989818, acc_tt 0.0958, cost nan\n",
      "step 2600: acc_tr 0.0989818, acc_tt 0.0958, cost nan\n",
      "step 2800: acc_tr 0.0989818, acc_tt 0.0958, cost nan\n",
      "step 3000: acc_tr 0.0989818, acc_tt 0.0958, cost nan\n",
      "step 3200: acc_tr 0.0989818, acc_tt 0.0958, cost nan\n",
      "step 3400: acc_tr 0.0989818, acc_tt 0.0958, cost nan\n",
      "step 3600: acc_tr 0.0989818, acc_tt 0.0958, cost nan\n",
      "step 3800: acc_tr 0.0989818, acc_tt 0.0958, cost nan\n",
      "step 4000: acc_tr 0.0989818, acc_tt 0.0958, cost nan\n",
      "step 4200: acc_tr 0.0989818, acc_tt 0.0958, cost nan\n",
      "step 4400: acc_tr 0.0989818, acc_tt 0.0958, cost nan\n",
      "step 4600: acc_tr 0.0989818, acc_tt 0.0958, cost nan\n",
      "step 4800: acc_tr 0.0989818, acc_tt 0.0958, cost nan\n",
      "step 5000: acc_tr 0.0989818, acc_tt 0.0958, cost nan\n",
      "step 5200: acc_tr 0.0989818, acc_tt 0.0958, cost nan\n",
      "step 5400: acc_tr 0.0989818, acc_tt 0.0958, cost nan\n",
      "step 5600: acc_tr 0.0989818, acc_tt 0.0958, cost nan\n",
      "step 5800: acc_tr 0.0989818, acc_tt 0.0958, cost nan\n",
      "step 6000: acc_tr 0.0989818, acc_tt 0.0958, cost nan\n",
      "step 6200: acc_tr 0.0989818, acc_tt 0.0958, cost nan\n",
      "step 6400: acc_tr 0.0989818, acc_tt 0.0958, cost nan\n",
      "step 6600: acc_tr 0.0989818, acc_tt 0.0958, cost nan\n",
      "step 6800: acc_tr 0.0989818, acc_tt 0.0958, cost nan\n",
      "step 7000: acc_tr 0.0989818, acc_tt 0.0958, cost nan\n",
      "step 7200: acc_tr 0.0989818, acc_tt 0.0958, cost nan\n",
      "step 7400: acc_tr 0.0989818, acc_tt 0.0958, cost nan\n",
      "step 7600: acc_tr 0.0989818, acc_tt 0.0958, cost nan\n",
      "step 7800: acc_tr 0.0989818, acc_tt 0.0958, cost nan\n",
      "step 8000: acc_tr 0.0989818, acc_tt 0.0958, cost nan\n",
      "step 8200: acc_tr 0.0989818, acc_tt 0.0958, cost nan\n",
      "step 8400: acc_tr 0.0989818, acc_tt 0.0958, cost nan\n",
      "step 8600: acc_tr 0.0989818, acc_tt 0.0958, cost nan\n",
      "step 8800: acc_tr 0.0989818, acc_tt 0.0958, cost nan\n",
      "step 9000: acc_tr 0.0989818, acc_tt 0.0958, cost nan\n",
      "step 9200: acc_tr 0.0989818, acc_tt 0.0958, cost nan\n",
      "step 9400: acc_tr 0.0989818, acc_tt 0.0958, cost nan\n",
      "step 9600: acc_tr 0.0989818, acc_tt 0.0958, cost nan\n",
      "step 9800: acc_tr 0.0989818, acc_tt 0.0958, cost nan\n",
      "step 10000: acc_tr 0.0989818, acc_tt 0.0958, cost nan\n",
      "step 10200: acc_tr 0.0989818, acc_tt 0.0958, cost nan\n",
      "step 10400: acc_tr 0.0989818, acc_tt 0.0958, cost nan\n",
      "step 10600: acc_tr 0.0989818, acc_tt 0.0958, cost nan\n",
      "step 10800: acc_tr 0.0989818, acc_tt 0.0958, cost nan\n",
      "step 11000: acc_tr 0.0989818, acc_tt 0.0958, cost nan\n",
      "step 11200: acc_tr 0.0989818, acc_tt 0.0958, cost nan\n",
      "step 11400: acc_tr 0.0989818, acc_tt 0.0958, cost nan\n",
      "step 11600: acc_tr 0.0989818, acc_tt 0.0958, cost nan\n",
      "step 11800: acc_tr 0.0989818, acc_tt 0.0958, cost nan\n",
      "step 12000: acc_tr 0.0989818, acc_tt 0.0958, cost nan\n",
      "step 12200: acc_tr 0.0989818, acc_tt 0.0958, cost nan\n",
      "step 12400: acc_tr 0.0989818, acc_tt 0.0958, cost nan\n",
      "step 12600: acc_tr 0.0989818, acc_tt 0.0958, cost nan\n",
      "step 12800: acc_tr 0.0989818, acc_tt 0.0958, cost nan\n",
      "step 13000: acc_tr 0.0989818, acc_tt 0.0958, cost nan\n",
      "step 13200: acc_tr 0.0989818, acc_tt 0.0958, cost nan\n",
      "step 13400: acc_tr 0.0989818, acc_tt 0.0958, cost nan\n",
      "step 13600: acc_tr 0.0989818, acc_tt 0.0958, cost nan\n",
      "step 13800: acc_tr 0.0989818, acc_tt 0.0958, cost nan\n",
      "step 14000: acc_tr 0.0989818, acc_tt 0.0958, cost nan\n",
      "step 14200: acc_tr 0.0989818, acc_tt 0.0958, cost nan\n",
      "step 14400: acc_tr 0.0989818, acc_tt 0.0958, cost nan\n",
      "step 14600: acc_tr 0.0989818, acc_tt 0.0958, cost nan\n",
      "step 14800: acc_tr 0.0989818, acc_tt 0.0958, cost nan\n",
      "step 15000: acc_tr 0.0989818, acc_tt 0.0958, cost nan\n",
      "step 15200: acc_tr 0.0989818, acc_tt 0.0958, cost nan\n",
      "step 15400: acc_tr 0.0989818, acc_tt 0.0958, cost nan\n",
      "step 15600: acc_tr 0.0989818, acc_tt 0.0958, cost nan\n",
      "step 15800: acc_tr 0.0989818, acc_tt 0.0958, cost nan\n",
      "step 16000: acc_tr 0.0989818, acc_tt 0.0958, cost nan\n",
      "step 16200: acc_tr 0.0989818, acc_tt 0.0958, cost nan\n",
      "step 16400: acc_tr 0.0989818, acc_tt 0.0958, cost nan\n",
      "--------------------------\n",
      "Learning Finished!\n",
      "Accuracy: 0.098\n",
      "Label:  [3]\n",
      "Prediction:  [0]\n",
      "Wall time: 32.9 s\n"
     ]
    }
   ],
   "source": [
    "%%time\n",
    "# initialize session\n",
    "sess = tf.InteractiveSession()\n",
    "sess.run(tf.global_variables_initializer())\n",
    "\n",
    "# for plotting\n",
    "x_range=[]\n",
    "train_accuracies=[]\n",
    "val_accuracies=[]\n",
    "val_costs=[]\n",
    "\n",
    "total_iter = int(mnist.train.num_examples/batch_size*training_epochs)\n",
    "print('Total step:', total_iter)\n",
    "\n",
    "for i in range(total_iter):\n",
    "    batch = mnist.train.next_batch(batch_size)\n",
    "    optimizer.run(feed_dict={X: batch[0], Y: batch[1]})\n",
    "\n",
    "    if i % 200 == 0:   \n",
    "        train_accuracy = accuracy.eval(feed_dict={X:mnist.train.images, Y:mnist.train.labels})\n",
    "        val_accuracy = accuracy.eval(feed_dict={X: mnist.validation.images, Y: mnist.validation.labels})\n",
    "        cost_ = cost.eval(feed_dict={X:mnist.test.images, Y:mnist.test.labels})\n",
    "        print('step %d: acc_tr %g, acc_tt %g, cost %g' % (i, train_accuracy, val_accuracy, cost_))\n",
    "\n",
    "        # for plotting\n",
    "        train_accuracies.append(train_accuracy)\n",
    "        val_accuracies.append(val_accuracy)\n",
    "        val_costs.append(cost_)\n",
    "        x_range.append(i)\n",
    "\n",
    "print('--------------------------')\n",
    "print('Learning Finished!')\n",
    "\n",
    "# Test model and check accuracy\n",
    "print('Accuracy:', sess.run(accuracy, feed_dict={\n",
    "      X: mnist.test.images, Y: mnist.test.labels}))\n",
    "\n",
    "# Get one and predict\n",
    "r = random.randint(0, mnist.test.num_examples - 1)\n",
    "print(\"Label: \", sess.run(tf.argmax(mnist.test.labels[r:r + 1], 1)))\n",
    "print(\"Prediction: \", sess.run(\n",
    "    tf.argmax(hypothesis, 1), feed_dict={X: mnist.test.images[r:r + 1]}))"
   ]
  },
  {
   "cell_type": "code",
   "execution_count": null,
   "metadata": {},
   "outputs": [],
   "source": [
    "# draw graph\n",
    "import matplotlib.pyplot as plt\n",
    "plt.imshow(mnist.test.images[r:r + 1].\n",
    "          reshape(28, 28), cmap='Greys', interpolation='nearest')\n",
    "plt.show()"
   ]
  },
  {
   "cell_type": "code",
   "execution_count": 175,
   "metadata": {},
   "outputs": [
    {
     "data": {
      "image/png": "[encoded data removed]",
      "text/plain": [
       "<matplotlib.figure.Figure at 0x2437c9fd3c8>"
      ]
     },
     "metadata": {},
     "output_type": "display_data"
    }
   ],
   "source": [
    "# plot learning result\n",
    "\n",
    "plt.figure(figsize=(18,5))\n",
    "plt.subplot(121)\n",
    "plt.plot(x_range, train_accuracies,'-b', label='Training')\n",
    "plt.plot(x_range, val_accuracies,'-g', label='Validation')\n",
    "plt.legend(loc='lower right', frameon=False)\n",
    "# plt.ylim(ymax = 1.1, ymin = 0.7)\n",
    "plt.ylabel('accuracy')\n",
    "plt.xlabel('step')\n",
    "plt.title('FCN: Accuracy')\n",
    "\n",
    "plt.subplot(122)\n",
    "plt.plot(x_range, val_costs,'-r', label='Validatin_cost')\n",
    "plt.legend(loc='lower right', frameon=False)\n",
    "# plt.ylim(ymax = 1.1, ymin = 0.7)\n",
    "plt.ylabel('cost')\n",
    "plt.xlabel('step')\n",
    "plt.title('FCN: Validation Cost')\n",
    "plt.show()"
   ]
  }
 ],
 "metadata": {
  "kernelspec": {
   "display_name": "Python 3",
   "language": "python",
   "name": "python3"
  },
  "language_info": {
   "codemirror_mode": {
    "name": "ipython",
    "version": 3
   },
   "file_extension": ".py",
   "mimetype": "text/x-python",
   "name": "python",
   "nbconvert_exporter": "python",
   "pygments_lexer": "ipython3",
   "version": "3.6.2"
  }
 },
 "nbformat": 4,
 "nbformat_minor": 2
}
