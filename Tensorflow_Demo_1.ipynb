{
 "cells": [
  {
   "cell_type": "markdown",
   "metadata": {},
   "source": [
    "# Tensorflow Demo\n",
    " - 텐서플로 기초 실습\n",
    " > - https://github.com/hunkim/DeepLearningZeroToAll\n",
    "  - https://tensorflowkorea.gitbooks.io/tensorflow-kr/content/g3doc/tutorials/\n",
    "  - https://r2rt.com/implementing-batch-normalization-in-tensorflow.html"
   ]
  },
  {
   "cell_type": "code",
   "execution_count": 14,
   "metadata": {},
   "outputs": [
    {
     "data": {
      "text/plain": [
       "'1.1.0'"
      ]
     },
     "execution_count": 14,
     "metadata": {},
     "output_type": "execute_result"
    }
   ],
   "source": [
    "import tensorflow as tf\n",
    "tf.__version__\n",
    "## '1.2.1'"
   ]
  },
  {
   "cell_type": "code",
   "execution_count": 15,
   "metadata": {
    "collapsed": true
   },
   "outputs": [],
   "source": [
    "# Create a constant op\n",
    "# This op is added as a node to the default graph\n",
    "hello = tf.constant(\"Hello, TensorFlow!\")"
   ]
  },
  {
   "cell_type": "code",
   "execution_count": 16,
   "metadata": {
    "collapsed": true
   },
   "outputs": [],
   "source": [
    "# start a TF session\n",
    "sess = tf.Session()"
   ]
  },
  {
   "cell_type": "code",
   "execution_count": 17,
   "metadata": {},
   "outputs": [
    {
     "name": "stdout",
     "output_type": "stream",
     "text": [
      "b'Hello, TensorFlow!'\n"
     ]
    }
   ],
   "source": [
    "# run the op and get result\n",
    "print(sess.run(hello))\n",
    "\n",
    "## b'Hello, TensorFlow!'"
   ]
  },
  {
   "cell_type": "code",
   "execution_count": 18,
   "metadata": {},
   "outputs": [
    {
     "data": {
      "text/plain": [
       "[[[1.0, 2.0, 3.0]], [[7.0, 8.0, 9.0]]]"
      ]
     },
     "execution_count": 18,
     "metadata": {},
     "output_type": "execute_result"
    }
   ],
   "source": [
    "3 # a rank 0 tensor; this is a scalar with shape []\n",
    "[1. ,2., 3.] # a rank 1 tensor; this is a vector with shape [3]\n",
    "[[1., 2., 3.], [4., 5., 6.]] # a rank 2 tensor; a matrix with shape [2, 3]\n",
    "[[[1., 2., 3.]], [[7., 8., 9.]]] # a rank 3 tensor with shape [2, 1, 3]"
   ]
  },
  {
   "cell_type": "code",
   "execution_count": 19,
   "metadata": {},
   "outputs": [
    {
     "name": "stdout",
     "output_type": "stream",
     "text": [
      "node1: Tensor(\"Const_4:0\", shape=(), dtype=float32) node2: Tensor(\"Const_5:0\", shape=(), dtype=float32)\n",
      "node3:  Tensor(\"Add:0\", shape=(), dtype=float32)\n"
     ]
    }
   ],
   "source": [
    "node1 = tf.constant(3.0, tf.float32)\n",
    "node2 = tf.constant(4.0) # also tf.float32 implicitly\n",
    "node3 = tf.add(node1, node2)\n",
    "\n",
    "print(\"node1:\", node1, \"node2:\", node2)\n",
    "print(\"node3: \", node3)\n",
    "\n",
    "## node1: Tensor(\"Const_1:0\", shape=(), dtype=float32) node2: Tensor(\"Const_2:0\", shape=(), dtype=float32)\n",
    "## node3:  Tensor(\"Add:0\", shape=(), dtype=float32)\n"
   ]
  },
  {
   "cell_type": "code",
   "execution_count": 20,
   "metadata": {},
   "outputs": [
    {
     "name": "stdout",
     "output_type": "stream",
     "text": [
      "sess.run(node1, node2):  [3.0, 4.0]\n",
      "sess.run(node3):  7.0\n"
     ]
    }
   ],
   "source": [
    "sess = tf.Session()\n",
    "print(\"sess.run(node1, node2): \", sess.run([node1, node2]))\n",
    "print(\"sess.run(node3): \", sess.run(node3))\n",
    "\n",
    "## sess.run(node1, node2):  [3.0, 4.0]\n",
    "## sess.run(node3):  7.0"
   ]
  },
  {
   "cell_type": "code",
   "execution_count": 21,
   "metadata": {},
   "outputs": [
    {
     "name": "stdout",
     "output_type": "stream",
     "text": [
      "7.5\n",
      "[ 3.  7.]\n"
     ]
    }
   ],
   "source": [
    "a = tf.placeholder(tf.float32)\n",
    "b = tf.placeholder(tf.float32)\n",
    "adder_node = a + b  # + provides a shortcut for tf.add(a, b)\n",
    "\n",
    "print(sess.run(adder_node, feed_dict={a: 3, b: 4.5}))\n",
    "print(sess.run(adder_node, feed_dict={a: [1,3], b: [2, 4]}))\n",
    "\n",
    "## 7.5\n",
    "## [ 3.  7.]"
   ]
  },
  {
   "cell_type": "code",
   "execution_count": 22,
   "metadata": {},
   "outputs": [
    {
     "name": "stdout",
     "output_type": "stream",
     "text": [
      "22.5\n"
     ]
    }
   ],
   "source": [
    "add_and_triple = adder_node * 3.\n",
    "print(sess.run(add_and_triple, feed_dict={a: 3, b:4.5}))\n",
    "# 22.5"
   ]
  },
  {
   "cell_type": "code",
   "execution_count": 23,
   "metadata": {},
   "outputs": [
    {
     "name": "stdout",
     "output_type": "stream",
     "text": [
      "[ 2.  2.  2.]\n",
      "[ 4.  4.  4.]\n"
     ]
    }
   ],
   "source": [
    "# 명시적으로 여러개의 그래프 생성도 가능\n",
    "g1 = tf.Graph()\n",
    "with g1.as_default():\n",
    "    c1 = tf.constant([2.,2.,2.])    \n",
    "    v1 = tf.Variable(tf.zeros(3))\n",
    "    a1 = tf.add(c1, v1)\n",
    "\n",
    "g2 = tf.Graph()\n",
    "with g2.as_default():\n",
    "    c2 = tf.constant([4.,4.,4.])    \n",
    "    v2 = tf.Variable(tf.zeros(3))\n",
    "    a2 = tf.add(c2, v2)\n",
    "\n",
    "with tf.Session(graph = g1) as sess:\n",
    "    sess.run(tf.global_variables_initializer())\n",
    "    print(sess.run(a1))\n",
    "#[2., 2., 2.]\n",
    "\n",
    "with tf.Session(graph = g2) as sess:\n",
    "    sess.run(tf.global_variables_initializer())\n",
    "    print(sess.run(a2))\n",
    "#[4., 4., 4.]\n"
   ]
  },
  {
   "cell_type": "markdown",
   "metadata": {},
   "source": [
    "---\n",
    "## Linear regression"
   ]
  },
  {
   "cell_type": "code",
   "execution_count": 24,
   "metadata": {
    "collapsed": true
   },
   "outputs": [],
   "source": [
    "# X and Y data\n",
    "x_train = [1, 2, 3]\n",
    "y_train = [1, 2, 3]"
   ]
  },
  {
   "cell_type": "code",
   "execution_count": 25,
   "metadata": {
    "collapsed": true
   },
   "outputs": [],
   "source": [
    "# Try to find values for W and b to compute y_data = x_data * W + b\n",
    "# We know that W should be 1 and b should be 0\n",
    "# But let TensorFlow figure it out\n",
    "W = tf.Variable(tf.random_normal([1]), name='weight')\n",
    "b = tf.Variable(tf.random_normal([1]), name='bias')\n",
    "\n",
    "# Our hypothesis XW+b\n",
    "hypothesis = x_train * W + b\n",
    "\n",
    "# cost/loss function\n",
    "cost = tf.reduce_mean(tf.square(hypothesis - y_train))\n",
    "\n",
    "# Minimize\n",
    "optimizer = tf.train.GradientDescentOptimizer(learning_rate=0.01)\n",
    "train = optimizer.minimize(cost)"
   ]
  },
  {
   "cell_type": "code",
   "execution_count": 26,
   "metadata": {
    "scrolled": true
   },
   "outputs": [
    {
     "name": "stdout",
     "output_type": "stream",
     "text": [
      "0 0.0800647 [ 0.66855055] [ 0.58028215]\n",
      "20 0.048465 [ 0.73888016] [ 0.57709682]\n",
      "40 0.0437968 [ 0.7563653] [ 0.5522688]\n",
      "60 0.039775 [ 0.76831168] [ 0.52653253]\n",
      "80 0.0361243 [ 0.77924746] [ 0.50180817]\n",
      "100 0.0328086 [ 0.78962654] [ 0.47822705]\n",
      "120 0.0297973 [ 0.7995137] [ 0.45575231]\n",
      "140 0.0270624 [ 0.80893594] [ 0.43433359]\n",
      "160 0.0245785 [ 0.8179152] [ 0.41392156]\n",
      "180 0.0223226 [ 0.82647246] [ 0.39446875]\n",
      "200 0.0202737 [ 0.83462769] [ 0.37593016]\n",
      "220 0.0184129 [ 0.8423996] [ 0.35826284]\n",
      "240 0.0167229 [ 0.84980613] [ 0.34142578]\n",
      "260 0.015188 [ 0.85686481] [ 0.32538006]\n",
      "280 0.013794 [ 0.86359161] [ 0.31008834]\n",
      "300 0.0125279 [ 0.87000239] [ 0.29551521]\n",
      "320 0.0113781 [ 0.87611181] [ 0.28162706]\n",
      "340 0.0103337 [ 0.88193411] [ 0.26839161]\n",
      "360 0.00938526 [ 0.8874827] [ 0.25577828]\n",
      "380 0.00852385 [ 0.89277059] [ 0.24375767]\n",
      "400 0.00774151 [ 0.89780986] [ 0.23230198]\n",
      "420 0.00703095 [ 0.90261251] [ 0.22138467]\n",
      "440 0.00638563 [ 0.90718931] [ 0.21098037]\n",
      "460 0.00579953 [ 0.91155112] [ 0.20106512]\n",
      "480 0.00526722 [ 0.91570789] [ 0.19161578]\n",
      "500 0.00478379 [ 0.91966933] [ 0.18261053]\n",
      "520 0.0043447 [ 0.92344457] [ 0.17402849]\n",
      "540 0.00394593 [ 0.92704242] [ 0.16584979]\n",
      "560 0.00358376 [ 0.93047112] [ 0.15805551]\n",
      "580 0.00325482 [ 0.93373871] [ 0.15062751]\n",
      "600 0.00295609 [ 0.93685269] [ 0.14354858]\n",
      "620 0.00268477 [ 0.93982047] [ 0.13680235]\n",
      "640 0.00243834 [ 0.94264865] [ 0.13037312]\n",
      "660 0.00221454 [ 0.94534397] [ 0.12424605]\n",
      "680 0.00201129 [ 0.94791257] [ 0.11840695]\n",
      "700 0.00182668 [ 0.9503606] [ 0.1128422]\n",
      "720 0.00165902 [ 0.95269346] [ 0.10753901]\n",
      "740 0.00150675 [ 0.95491666] [ 0.10248505]\n",
      "760 0.00136845 [ 0.95703542] [ 0.09766863]\n",
      "780 0.00124285 [ 0.95905447] [ 0.09307857]\n",
      "800 0.00112878 [ 0.96097893] [ 0.08870418]\n",
      "820 0.00102517 [ 0.96281272] [ 0.0845354]\n",
      "840 0.000931076 [ 0.96456045] [ 0.08056254]\n",
      "860 0.000845618 [ 0.96622592] [ 0.07677639]\n",
      "880 0.000768002 [ 0.96781313] [ 0.0731682]\n",
      "900 0.000697514 [ 0.96932566] [ 0.06972962]\n",
      "920 0.000633496 [ 0.97076744] [ 0.06645263]\n",
      "940 0.000575352 [ 0.97214121] [ 0.06332957]\n",
      "960 0.000522542 [ 0.97345042] [ 0.06035332]\n",
      "980 0.000474581 [ 0.97469813] [ 0.05751696]\n",
      "1000 0.000431023 [ 0.9758873] [ 0.05481388]\n",
      "1020 0.000391463 [ 0.9770205] [ 0.05223781]\n",
      "1040 0.000355532 [ 0.97810042] [ 0.04978282]\n",
      "1060 0.0003229 [ 0.97912961] [ 0.04744326]\n",
      "1080 0.000293263 [ 0.98011059] [ 0.04521354]\n",
      "1100 0.000266346 [ 0.98104525] [ 0.04308864]\n",
      "1120 0.000241899 [ 0.98193604] [ 0.04106363]\n",
      "1140 0.000219696 [ 0.98278499] [ 0.03913377]\n",
      "1160 0.000199531 [ 0.983594] [ 0.03729463]\n",
      "1180 0.000181217 [ 0.98436505] [ 0.03554193]\n",
      "1200 0.000164584 [ 0.98509985] [ 0.03387157]\n",
      "1220 0.000149477 [ 0.98580009] [ 0.03227973]\n",
      "1240 0.000135759 [ 0.98646736] [ 0.03076271]\n",
      "1260 0.000123299 [ 0.9871034] [ 0.02931698]\n",
      "1280 0.000111982 [ 0.98770946] [ 0.0279392]\n",
      "1300 0.000101704 [ 0.98828715] [ 0.02662616]\n",
      "1320 9.23682e-05 [ 0.98883754] [ 0.02537482]\n",
      "1340 8.38917e-05 [ 0.98936206] [ 0.02418232]\n",
      "1360 7.61917e-05 [ 0.98986214] [ 0.02304586]\n",
      "1380 6.91976e-05 [ 0.99033856] [ 0.02196277]\n",
      "1400 6.28468e-05 [ 0.99079263] [ 0.02093056]\n",
      "1420 5.70781e-05 [ 0.99122536] [ 0.01994689]\n",
      "1440 5.1839e-05 [ 0.99163777] [ 0.01900944]\n",
      "1460 4.70804e-05 [ 0.99203074] [ 0.01811605]\n",
      "1480 4.27599e-05 [ 0.99240524] [ 0.01726465]\n",
      "1500 3.88346e-05 [ 0.99276221] [ 0.01645327]\n",
      "1520 3.527e-05 [ 0.99310237] [ 0.01568001]\n",
      "1540 3.2033e-05 [ 0.9934265] [ 0.01494311]\n",
      "1560 2.90931e-05 [ 0.99373543] [ 0.01424082]\n",
      "1580 2.64229e-05 [ 0.99402982] [ 0.01357155]\n",
      "1600 2.39978e-05 [ 0.99431044] [ 0.01293376]\n",
      "1620 2.17951e-05 [ 0.99457777] [ 0.01232593]\n",
      "1640 1.97949e-05 [ 0.99483258] [ 0.01174667]\n",
      "1660 1.79781e-05 [ 0.99507546] [ 0.01119465]\n",
      "1680 1.63283e-05 [ 0.99530691] [ 0.01066853]\n",
      "1700 1.48296e-05 [ 0.99552745] [ 0.01016716]\n",
      "1720 1.34678e-05 [ 0.99573767] [ 0.00968933]\n",
      "1740 1.22317e-05 [ 0.995938] [ 0.00923393]\n",
      "1760 1.11089e-05 [ 0.99612886] [ 0.00879996]\n",
      "1780 1.00892e-05 [ 0.99631083] [ 0.00838641]\n",
      "1800 9.16368e-06 [ 0.99648416] [ 0.00799227]\n",
      "1820 8.32207e-06 [ 0.99664938] [ 0.00761667]\n",
      "1840 7.55879e-06 [ 0.99680686] [ 0.00725872]\n",
      "1860 6.86476e-06 [ 0.99695694] [ 0.00691759]\n",
      "1880 6.23458e-06 [ 0.9971] [ 0.00659248]\n",
      "1900 5.66242e-06 [ 0.99723631] [ 0.00628263]\n",
      "1920 5.14265e-06 [ 0.99736613] [ 0.00598736]\n",
      "1940 4.6708e-06 [ 0.99748993] [ 0.00570602]\n",
      "1960 4.24227e-06 [ 0.99760789] [ 0.00543786]\n",
      "1980 3.85275e-06 [ 0.9977203] [ 0.0051823]\n",
      "2000 3.4991e-06 [ 0.99782741] [ 0.00493876]\n"
     ]
    }
   ],
   "source": [
    "# Launch the graph in a session.\n",
    "sess = tf.Session()\n",
    "# Initializes global variables in the graph.\n",
    "sess.run(tf.global_variables_initializer())\n",
    "\n",
    "# Fit the line\n",
    "for step in range(2001):\n",
    "    sess.run(train)\n",
    "    if step % 20 == 0:\n",
    "        print(step, sess.run(cost), sess.run(W), sess.run(b))"
   ]
  },
  {
   "cell_type": "markdown",
   "metadata": {},
   "source": [
    "---\n",
    "## MLP(Multi Layer Perceptron)\n",
    "> MNIST data set"
   ]
  },
  {
   "cell_type": "code",
   "execution_count": 27,
   "metadata": {},
   "outputs": [
    {
     "name": "stdout",
     "output_type": "stream",
     "text": [
      "Extracting MNIST_data/train-images-idx3-ubyte.gz\n",
      "Extracting MNIST_data/train-labels-idx1-ubyte.gz\n",
      "Extracting MNIST_data/t10k-images-idx3-ubyte.gz\n",
      "Extracting MNIST_data/t10k-labels-idx1-ubyte.gz\n"
     ]
    }
   ],
   "source": [
    "# load MNIST dataset \n",
    "import random\n",
    "from tensorflow.examples.tutorials.mnist import input_data\n",
    "\n",
    "tf.set_random_seed(777)  # reproducibility\n",
    "\n",
    "mnist = input_data.read_data_sets(\"MNIST_data/\", one_hot=True)\n",
    "# Check out https://www.tensorflow.org/get_started/mnist/beginners for\n",
    "# more information about the mnist dataset"
   ]
  },
  {
   "cell_type": "code",
   "execution_count": 35,
   "metadata": {
    "collapsed": true
   },
   "outputs": [],
   "source": [
    "# parameters\n",
    "learning_rate = 0.001\n",
    "training_epochs = 15\n",
    "# use mini batch\n",
    "batch_size = 100\n",
    "\n",
    "# input place holders\n",
    "X = tf.placeholder(tf.float32, [None, 784])\n",
    "Y = tf.placeholder(tf.float32, [None, 10])\n",
    "\n",
    "# weights & bias for nn hidden layers\n",
    "# 1-hidden layer\n",
    "W1 = tf.Variable(tf.random_normal([784, 256]))\n",
    "b1 = tf.Variable(tf.random_normal([256]))\n",
    "L1 = tf.nn.relu(tf.matmul(X, W1) + b1)\n",
    "\n",
    "W2 = tf.Variable(tf.random_normal([256, 10]))\n",
    "b2 = tf.Variable(tf.random_normal([10]))\n",
    "hypothesis = tf.matmul(L1, W2) + b2\n",
    "\n",
    "\n",
    "# 2-hidden layers\n",
    "# W1 = tf.Variable(tf.random_normal([784, 256]))\n",
    "# b1 = tf.Variable(tf.random_normal([256]))\n",
    "# L1 = tf.nn.relu(tf.matmul(X, W1) + b1)\n",
    "\n",
    "# W2 = tf.Variable(tf.random_normal([256, 256]))\n",
    "# b2 = tf.Variable(tf.random_normal([256]))\n",
    "# L2 = tf.nn.relu(tf.matmul(L1, W2) + b2)\n",
    "\n",
    "# W3 = tf.Variable(tf.random_normal([256, 10]))\n",
    "# b3 = tf.Variable(tf.random_normal([10]))\n",
    "# hypothesis = tf.matmul(L2, W3) + b3\n",
    "\n",
    "# 3-hidden layers\n",
    "# W1 = tf.Variable(tf.random_normal([784, 256]))\n",
    "# b1 = tf.Variable(tf.random_normal([256]))\n",
    "# L1 = tf.nn.relu(tf.matmul(X, W1) + b1)\n",
    "\n",
    "# W2 = tf.Variable(tf.random_normal([256, 256]))\n",
    "# b2 = tf.Variable(tf.random_normal([256]))\n",
    "# L2 = tf.nn.relu(tf.matmul(L1, W2) + b2)\n",
    "\n",
    "# W3 = tf.Variable(tf.random_normal([256, 256]))\n",
    "# b3 = tf.Variable(tf.random_normal([256]))\n",
    "# L3 = tf.nn.relu(tf.matmul(L2, W3) + b3)\n",
    "\n",
    "# W4 = tf.Variable(tf.random_normal([256, 10]))\n",
    "# b4 = tf.Variable(tf.random_normal([10]))\n",
    "# hypothesis = tf.matmul(L4, W4) + b4\n",
    "\n",
    "\n",
    "# define cost/loss & optimizer\n",
    "cost = tf.reduce_mean(tf.nn.softmax_cross_entropy_with_logits(\n",
    "    logits=hypothesis, labels=Y))\n",
    "optimizer = tf.train.GradientDescentOptimizer(learning_rate=learning_rate).minimize(cost)\n",
    "\n",
    "predicted = tf.argmax(hypothesis, 1)\n",
    "accuracy = tf.reduce_mean(tf.cast(tf.equal(predicted, tf.argmax(Y, 1)), dtype=tf.float32))"
   ]
  },
  {
   "cell_type": "code",
   "execution_count": 36,
   "metadata": {
    "scrolled": true
   },
   "outputs": [
    {
     "name": "stdout",
     "output_type": "stream",
     "text": [
      "step 0: acc_tr 0.129255, acc_tt 0.124, cost 78.074\n",
      "step 200: acc_tr 0.883127, acc_tt 0.8886, cost 2.73614\n",
      "step 400: acc_tr 0.913564, acc_tt 0.9058, cost 1.7351\n",
      "step 600: acc_tr 0.928418, acc_tt 0.9226, cost 1.29399\n",
      "step 800: acc_tr 0.935218, acc_tt 0.923, cost 1.17459\n",
      "step 1000: acc_tr 0.944182, acc_tt 0.9284, cost 1.06861\n",
      "step 1200: acc_tr 0.954818, acc_tt 0.9386, cost 0.930009\n",
      "step 1400: acc_tr 0.951309, acc_tt 0.9314, cost 0.977673\n",
      "step 1600: acc_tr 0.958164, acc_tt 0.9448, cost 0.852315\n",
      "step 1800: acc_tr 0.9612, acc_tt 0.9454, cost 0.846204\n",
      "step 2000: acc_tr 0.967836, acc_tt 0.9464, cost 0.751544\n",
      "step 2200: acc_tr 0.9714, acc_tt 0.9506, cost 0.706065\n",
      "step 2400: acc_tr 0.9736, acc_tt 0.9516, cost 0.704193\n",
      "step 2600: acc_tr 0.974145, acc_tt 0.95, cost 0.711334\n",
      "step 2800: acc_tr 0.978491, acc_tt 0.9566, cost 0.698065\n",
      "step 3000: acc_tr 0.976836, acc_tt 0.954, cost 0.697187\n",
      "step 3200: acc_tr 0.979455, acc_tt 0.9516, cost 0.735257\n",
      "step 3400: acc_tr 0.984182, acc_tt 0.9586, cost 0.596534\n",
      "step 3600: acc_tr 0.985182, acc_tt 0.9612, cost 0.627845\n",
      "step 3800: acc_tr 0.983364, acc_tt 0.9562, cost 0.698801\n",
      "step 4000: acc_tr 0.985436, acc_tt 0.959, cost 0.659488\n",
      "step 4200: acc_tr 0.982618, acc_tt 0.9518, cost 0.676218\n",
      "step 4400: acc_tr 0.987982, acc_tt 0.9596, cost 0.623136\n",
      "step 4600: acc_tr 0.987818, acc_tt 0.9604, cost 0.599509\n",
      "step 4800: acc_tr 0.984145, acc_tt 0.9584, cost 0.665412\n",
      "step 5000: acc_tr 0.990509, acc_tt 0.9604, cost 0.580004\n",
      "step 5200: acc_tr 0.986491, acc_tt 0.9578, cost 0.658896\n",
      "step 5400: acc_tr 0.990491, acc_tt 0.9584, cost 0.596973\n",
      "step 5600: acc_tr 0.989345, acc_tt 0.9608, cost 0.610896\n",
      "step 5800: acc_tr 0.988655, acc_tt 0.9606, cost 0.663138\n",
      "step 6000: acc_tr 0.989891, acc_tt 0.962, cost 0.589898\n",
      "step 6200: acc_tr 0.990764, acc_tt 0.9632, cost 0.583788\n",
      "step 6400: acc_tr 0.988455, acc_tt 0.9632, cost 0.598082\n",
      "step 6600: acc_tr 0.991073, acc_tt 0.9636, cost 0.610385\n",
      "step 6800: acc_tr 0.992582, acc_tt 0.962, cost 0.600276\n",
      "step 7000: acc_tr 0.989309, acc_tt 0.9618, cost 0.643149\n",
      "step 7200: acc_tr 0.992382, acc_tt 0.9642, cost 0.608199\n",
      "step 7400: acc_tr 0.987673, acc_tt 0.962, cost 0.657433\n",
      "step 7600: acc_tr 0.990291, acc_tt 0.9636, cost 0.619969\n",
      "step 7800: acc_tr 0.992218, acc_tt 0.9622, cost 0.613121\n",
      "step 8000: acc_tr 0.992655, acc_tt 0.968, cost 0.609552\n",
      "step 8200: acc_tr 0.9922, acc_tt 0.963, cost 0.614406\n",
      "--------------------------\n",
      "Learning Finished!\n",
      "Accuracy: 0.9608\n",
      "Label:  [7]\n",
      "Prediction:  [7]\n",
      "Wall time: 44.5 s\n"
     ]
    }
   ],
   "source": [
    "%%time\n",
    "# initialize session\n",
    "sess = tf.InteractiveSession()\n",
    "sess.run(tf.global_variables_initializer())\n",
    "\n",
    "# for plotting\n",
    "x_range=[]\n",
    "train_accuracies=[]\n",
    "val_accuracies=[]\n",
    "val_costs=[]\n",
    "\n",
    "total_iter = int(mnist.train.num_examples/batch_size*training_epochs)\n",
    "for i in range(total_iter):\n",
    "    batch = mnist.train.next_batch(batch_size)\n",
    "    optimizer.run(feed_dict={X: batch[0], Y: batch[1]})\n",
    "\n",
    "    if i % 200 == 0:   \n",
    "        train_accuracy = accuracy.eval(feed_dict={X:mnist.train.images, Y:mnist.train.labels})\n",
    "        val_accuracy = accuracy.eval(feed_dict={X: mnist.validation.images, Y: mnist.validation.labels})\n",
    "        cost_ = cost.eval(feed_dict={X:mnist.test.images, Y:mnist.test.labels})\n",
    "        print('step %d: acc_tr %g, acc_tt %g, cost %g' % (i, train_accuracy, val_accuracy, cost_))\n",
    "\n",
    "        # for plotting\n",
    "        train_accuracies.append(train_accuracy)\n",
    "        val_accuracies.append(val_accuracy)\n",
    "        val_costs.append(cost_)\n",
    "        x_range.append(i)\n",
    "\n",
    "print('--------------------------')\n",
    "print('Learning Finished!')\n",
    "\n",
    "# Test model and check accuracy\n",
    "print('Accuracy:', sess.run(accuracy, feed_dict={\n",
    "      X: mnist.test.images, Y: mnist.test.labels}))\n",
    "\n",
    "# Get one and predict\n",
    "r = random.randint(0, mnist.test.num_examples - 1)\n",
    "print(\"Label: \", sess.run(tf.argmax(mnist.test.labels[r:r + 1], 1)))\n",
    "print(\"Prediction: \", sess.run(\n",
    "    tf.argmax(hypothesis, 1), feed_dict={X: mnist.test.images[r:r + 1]}))"
   ]
  },
  {
   "cell_type": "code",
   "execution_count": 30,
   "metadata": {},
   "outputs": [
    {
     "data": {
      "image/png": "[encoded data removed]",
      "text/plain": [
       "<matplotlib.figure.Figure at 0x2464c4cc630>"
      ]
     },
     "metadata": {},
     "output_type": "display_data"
    }
   ],
   "source": [
    "# draw graph\n",
    "import matplotlib.pyplot as plt\n",
    "plt.imshow(mnist.test.images[r:r + 1].\n",
    "          reshape(28, 28), cmap='Greys', interpolation='nearest')\n",
    "plt.show()"
   ]
  },
  {
   "cell_type": "code",
   "execution_count": 31,
   "metadata": {},
   "outputs": [
    {
     "data": {
      "image/png": "[encoded data removed]",
      "text/plain": [
       "<matplotlib.figure.Figure at 0x2460b1caa58>"
      ]
     },
     "metadata": {},
     "output_type": "display_data"
    }
   ],
   "source": [
    "# plot learning result\n",
    "\n",
    "plt.figure(figsize=(18,5))\n",
    "plt.subplot(121)\n",
    "plt.plot(x_range, train_accuracies,'-b', label='Training')\n",
    "plt.plot(x_range, val_accuracies,'-g', label='Validation')\n",
    "plt.legend(loc='lower right', frameon=False)\n",
    "# plt.ylim(ymax = 1.1, ymin = 0.7)\n",
    "plt.ylabel('accuracy')\n",
    "plt.xlabel('step')\n",
    "plt.title('FCN: Accuracy')\n",
    "\n",
    "plt.subplot(122)\n",
    "plt.plot(x_range, val_costs,'-r', label='Validatin_cost')\n",
    "plt.legend(loc='lower right', frameon=False)\n",
    "# plt.ylim(ymax = 1.1, ymin = 0.7)\n",
    "plt.ylabel('cost')\n",
    "plt.xlabel('step')\n",
    "plt.title('FCN: Validation Cost')\n",
    "plt.show()"
   ]
  }
 ],
 "metadata": {
  "kernelspec": {
   "display_name": "Python 3",
   "language": "python",
   "name": "python3"
  },
  "language_info": {
   "codemirror_mode": {
    "name": "ipython",
    "version": 3
   },
   "file_extension": ".py",
   "mimetype": "text/x-python",
   "name": "python",
   "nbconvert_exporter": "python",
   "pygments_lexer": "ipython3",
   "version": "3.6.2"
  }
 },
 "nbformat": 4,
 "nbformat_minor": 2
}
