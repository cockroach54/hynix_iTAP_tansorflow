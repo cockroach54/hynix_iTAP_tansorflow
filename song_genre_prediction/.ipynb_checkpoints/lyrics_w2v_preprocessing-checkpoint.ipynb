{
 "cells": [
  {
   "cell_type": "markdown",
   "metadata": {},
   "source": [
    "## 데이터 전처리\n",
    "> 데이터 출처 https://www.kaggle.com/gyani95/380000-lyrics-from-metrolyrics  \n",
    "원본 용량이 커서 원본은 포함하지 않고 전처리된 csv만 올려두었습니다"
   ]
  },
  {
   "cell_type": "code",
   "execution_count": 2,
   "metadata": {
    "collapsed": true
   },
   "outputs": [],
   "source": [
    "import time\n",
    "import pandas as pd\n",
    "import numpy as np\n",
    "from sklearn.model_selection import train_test_split, KFold"
   ]
  },
  {
   "cell_type": "code",
   "execution_count": 3,
   "metadata": {},
   "outputs": [
    {
     "name": "stderr",
     "output_type": "stream",
     "text": [
      "C:\\ProgramData\\Anaconda3\\lib\\site-packages\\gensim\\utils.py:862: UserWarning: detected Windows; aliasing chunkize to chunkize_serial\n",
      "  warnings.warn(\"detected Windows; aliasing chunkize to chunkize_serial\")\n"
     ]
    }
   ],
   "source": [
    "import gensim\n",
    "import nltk\n",
    "\n",
    "from nltk.tokenize import word_tokenize\n",
    "from nltk.tokenize import RegexpTokenizer\n",
    "# from nltk.corpus import stopwords\n",
    "from gensim import corpora, models, similarities\n",
    "from pprint import pprint\n",
    "t = RegexpTokenizer(\"[A-Za-z]+\")"
   ]
  },
  {
   "cell_type": "code",
   "execution_count": 3,
   "metadata": {
    "collapsed": true
   },
   "outputs": [],
   "source": [
    "lyrics = pd.read_csv('lyrics.csv')"
   ]
  },
  {
   "cell_type": "code",
   "execution_count": 4,
   "metadata": {},
   "outputs": [
    {
     "data": {
      "text/html": [
       "<div>\n",
       "<style>\n",
       "    .dataframe thead tr:only-child th {\n",
       "        text-align: right;\n",
       "    }\n",
       "\n",
       "    .dataframe thead th {\n",
       "        text-align: left;\n",
       "    }\n",
       "\n",
       "    .dataframe tbody tr th {\n",
       "        vertical-align: top;\n",
       "    }\n",
       "</style>\n",
       "<table border=\"1\" class=\"dataframe\">\n",
       "  <thead>\n",
       "    <tr style=\"text-align: right;\">\n",
       "      <th></th>\n",
       "      <th>index</th>\n",
       "      <th>song</th>\n",
       "      <th>year</th>\n",
       "      <th>artist</th>\n",
       "      <th>genre</th>\n",
       "      <th>lyrics</th>\n",
       "    </tr>\n",
       "  </thead>\n",
       "  <tbody>\n",
       "    <tr>\n",
       "      <th>0</th>\n",
       "      <td>0</td>\n",
       "      <td>ego-remix</td>\n",
       "      <td>2009</td>\n",
       "      <td>beyonce-knowles</td>\n",
       "      <td>Pop</td>\n",
       "      <td>Oh baby, how you doing?\\nYou know I'm gonna cu...</td>\n",
       "    </tr>\n",
       "    <tr>\n",
       "      <th>1</th>\n",
       "      <td>1</td>\n",
       "      <td>then-tell-me</td>\n",
       "      <td>2009</td>\n",
       "      <td>beyonce-knowles</td>\n",
       "      <td>Pop</td>\n",
       "      <td>playin' everything so easy,\\nit's like you see...</td>\n",
       "    </tr>\n",
       "    <tr>\n",
       "      <th>2</th>\n",
       "      <td>2</td>\n",
       "      <td>honesty</td>\n",
       "      <td>2009</td>\n",
       "      <td>beyonce-knowles</td>\n",
       "      <td>Pop</td>\n",
       "      <td>If you search\\nFor tenderness\\nIt isn't hard t...</td>\n",
       "    </tr>\n",
       "    <tr>\n",
       "      <th>3</th>\n",
       "      <td>3</td>\n",
       "      <td>you-are-my-rock</td>\n",
       "      <td>2009</td>\n",
       "      <td>beyonce-knowles</td>\n",
       "      <td>Pop</td>\n",
       "      <td>Oh oh oh I, oh oh oh I\\n[Verse 1:]\\nIf I wrote...</td>\n",
       "    </tr>\n",
       "    <tr>\n",
       "      <th>4</th>\n",
       "      <td>4</td>\n",
       "      <td>black-culture</td>\n",
       "      <td>2009</td>\n",
       "      <td>beyonce-knowles</td>\n",
       "      <td>Pop</td>\n",
       "      <td>Party the people, the people the party it's po...</td>\n",
       "    </tr>\n",
       "  </tbody>\n",
       "</table>\n",
       "</div>"
      ],
      "text/plain": [
       "   index             song  year           artist genre  \\\n",
       "0      0        ego-remix  2009  beyonce-knowles   Pop   \n",
       "1      1     then-tell-me  2009  beyonce-knowles   Pop   \n",
       "2      2          honesty  2009  beyonce-knowles   Pop   \n",
       "3      3  you-are-my-rock  2009  beyonce-knowles   Pop   \n",
       "4      4    black-culture  2009  beyonce-knowles   Pop   \n",
       "\n",
       "                                              lyrics  \n",
       "0  Oh baby, how you doing?\\nYou know I'm gonna cu...  \n",
       "1  playin' everything so easy,\\nit's like you see...  \n",
       "2  If you search\\nFor tenderness\\nIt isn't hard t...  \n",
       "3  Oh oh oh I, oh oh oh I\\n[Verse 1:]\\nIf I wrote...  \n",
       "4  Party the people, the people the party it's po...  "
      ]
     },
     "execution_count": 4,
     "metadata": {},
     "output_type": "execute_result"
    }
   ],
   "source": [
    "lyrics.head()"
   ]
  },
  {
   "cell_type": "code",
   "execution_count": 5,
   "metadata": {},
   "outputs": [
    {
     "data": {
      "text/plain": [
       "{'Country',\n",
       " 'Electronic',\n",
       " 'Folk',\n",
       " 'Hip-Hop',\n",
       " 'Indie',\n",
       " 'Jazz',\n",
       " 'Metal',\n",
       " 'Not Available',\n",
       " 'Other',\n",
       " 'Pop',\n",
       " 'R&B',\n",
       " 'Rock'}"
      ]
     },
     "execution_count": 5,
     "metadata": {},
     "output_type": "execute_result"
    }
   ],
   "source": [
    "set(list(lyrics['genre']))"
   ]
  },
  {
   "cell_type": "code",
   "execution_count": 6,
   "metadata": {
    "collapsed": true
   },
   "outputs": [],
   "source": [
    "# w2v용 sentence만들고 에러나는것 인덱스 저장\n",
    "sentences = []\n",
    "err = []\n",
    "for idx, el in enumerate(lyrics['lyrics']): \n",
    "    try:\n",
    "        elt = t.tokenize(el) # 비단어문자 제거, 토크나이징\n",
    "        elt = [ i.lower() for i in elt] # 소문자로 통일\n",
    "        sentences.append(models.doc2vec.LabeledSentence(words=elt, tags=['r%d'%idx]))\n",
    "    except:\n",
    "        err.append(idx)\n",
    "        "
   ]
  },
  {
   "cell_type": "code",
   "execution_count": 7,
   "metadata": {},
   "outputs": [
    {
     "data": {
      "text/plain": [
       "95680"
      ]
     },
     "execution_count": 7,
     "metadata": {},
     "output_type": "execute_result"
    }
   ],
   "source": [
    "len(err)"
   ]
  },
  {
   "cell_type": "code",
   "execution_count": 8,
   "metadata": {},
   "outputs": [
    {
     "data": {
      "text/plain": [
       "134107"
      ]
     },
     "execution_count": 8,
     "metadata": {},
     "output_type": "execute_result"
    }
   ],
   "source": [
    "# 토크나이징된 가사 추가\n",
    "temp=np.array(sentences)\n",
    "tok=[i[0] for i in temp]\n",
    "tok_len=[len(i[0]) for i in temp]\n",
    "# 200 단어 넘는 노래 수\n",
    "sum([i>200 for i in tok_len])"
   ]
  },
  {
   "cell_type": "code",
   "execution_count": 9,
   "metadata": {
    "collapsed": true
   },
   "outputs": [],
   "source": [
    "# 에러 row 제거\n",
    "df = lyrics.drop(err, axis=0)"
   ]
  },
  {
   "cell_type": "code",
   "execution_count": 10,
   "metadata": {
    "collapsed": true
   },
   "outputs": [],
   "source": [
    "df = df.reset_index()"
   ]
  },
  {
   "cell_type": "code",
   "execution_count": 11,
   "metadata": {
    "collapsed": true
   },
   "outputs": [],
   "source": [
    "# 200자 이상인지 true/false 컬럼 만들기\n",
    "le = []\n",
    "for i in tok:\n",
    "    le.append(len(i)>200)"
   ]
  },
  {
   "cell_type": "code",
   "execution_count": 12,
   "metadata": {},
   "outputs": [
    {
     "name": "stdout",
     "output_type": "stream",
     "text": [
      "266557 266557 266557\n"
     ]
    }
   ],
   "source": [
    "print(len(tok), len(le), len(df))"
   ]
  },
  {
   "cell_type": "code",
   "execution_count": 13,
   "metadata": {
    "collapsed": true
   },
   "outputs": [],
   "source": [
    "tok_merged = [' '.join(i) for i in tok]"
   ]
  },
  {
   "cell_type": "code",
   "execution_count": 18,
   "metadata": {
    "collapsed": true,
    "scrolled": true
   },
   "outputs": [],
   "source": [
    "l = pd.DataFrame(le, columns=['len'])\n",
    "t = pd.DataFrame(tok_merged, columns=['tok'])\n",
    "df2 = pd.concat([df, l, t], axis=1)"
   ]
  },
  {
   "cell_type": "code",
   "execution_count": 19,
   "metadata": {
    "collapsed": true
   },
   "outputs": [],
   "source": [
    "# 단어 200개 이상만 남기기\n",
    "df2 = df2[df2['len']==True]"
   ]
  },
  {
   "cell_type": "code",
   "execution_count": 20,
   "metadata": {
    "scrolled": true
   },
   "outputs": [
    {
     "data": {
      "text/html": [
       "<div>\n",
       "<style>\n",
       "    .dataframe thead tr:only-child th {\n",
       "        text-align: right;\n",
       "    }\n",
       "\n",
       "    .dataframe thead th {\n",
       "        text-align: left;\n",
       "    }\n",
       "\n",
       "    .dataframe tbody tr th {\n",
       "        vertical-align: top;\n",
       "    }\n",
       "</style>\n",
       "<table border=\"1\" class=\"dataframe\">\n",
       "  <thead>\n",
       "    <tr style=\"text-align: right;\">\n",
       "      <th></th>\n",
       "      <th>y</th>\n",
       "      <th>tok</th>\n",
       "    </tr>\n",
       "  </thead>\n",
       "  <tbody>\n",
       "    <tr>\n",
       "      <th>0</th>\n",
       "      <td>Pop</td>\n",
       "      <td>oh baby how you doing you know i m gonna cut r...</td>\n",
       "    </tr>\n",
       "    <tr>\n",
       "      <th>1</th>\n",
       "      <td>Pop</td>\n",
       "      <td>playin everything so easy it s like you seem s...</td>\n",
       "    </tr>\n",
       "    <tr>\n",
       "      <th>3</th>\n",
       "      <td>Pop</td>\n",
       "      <td>oh oh oh i oh oh oh i verse if i wrote a book ...</td>\n",
       "    </tr>\n",
       "    <tr>\n",
       "      <th>4</th>\n",
       "      <td>Pop</td>\n",
       "      <td>party the people the people the party it s pop...</td>\n",
       "    </tr>\n",
       "    <tr>\n",
       "      <th>6</th>\n",
       "      <td>Pop</td>\n",
       "      <td>this is just another day that i would spend wa...</td>\n",
       "    </tr>\n",
       "    <tr>\n",
       "      <th>7</th>\n",
       "      <td>Pop</td>\n",
       "      <td>waiting waiting waiting waiting waiting waitin...</td>\n",
       "    </tr>\n",
       "    <tr>\n",
       "      <th>8</th>\n",
       "      <td>Pop</td>\n",
       "      <td>verse i read all of the magazines while waitin...</td>\n",
       "    </tr>\n",
       "    <tr>\n",
       "      <th>9</th>\n",
       "      <td>Pop</td>\n",
       "      <td>n n now honey you better sit down and look aro...</td>\n",
       "    </tr>\n",
       "    <tr>\n",
       "      <th>10</th>\n",
       "      <td>Pop</td>\n",
       "      <td>i lay alone awake at night sorrow fills my eye...</td>\n",
       "    </tr>\n",
       "    <tr>\n",
       "      <th>11</th>\n",
       "      <td>Pop</td>\n",
       "      <td>hello hello baby you called i can t hear a thi...</td>\n",
       "    </tr>\n",
       "    <tr>\n",
       "      <th>12</th>\n",
       "      <td>Pop</td>\n",
       "      <td>feels like i m losing my mind love is so hard ...</td>\n",
       "    </tr>\n",
       "    <tr>\n",
       "      <th>13</th>\n",
       "      <td>Pop</td>\n",
       "      <td>youre everything i thought you never were and ...</td>\n",
       "    </tr>\n",
       "    <tr>\n",
       "      <th>14</th>\n",
       "      <td>Pop</td>\n",
       "      <td>i gotta give up to quite the storm that rages ...</td>\n",
       "    </tr>\n",
       "    <tr>\n",
       "      <th>15</th>\n",
       "      <td>Pop</td>\n",
       "      <td>it really hurts to say this yes it does but af...</td>\n",
       "    </tr>\n",
       "    <tr>\n",
       "      <th>16</th>\n",
       "      <td>Pop</td>\n",
       "      <td>you re bad for me i clearly get it i don t see...</td>\n",
       "    </tr>\n",
       "    <tr>\n",
       "      <th>17</th>\n",
       "      <td>Pop</td>\n",
       "      <td>chorus i m a world wide woman www you can log ...</td>\n",
       "    </tr>\n",
       "    <tr>\n",
       "      <th>18</th>\n",
       "      <td>Pop</td>\n",
       "      <td>ay ay ay nobody likes to be played oh beyonce ...</td>\n",
       "    </tr>\n",
       "    <tr>\n",
       "      <th>19</th>\n",
       "      <td>Pop</td>\n",
       "      <td>ay ay nobody likes being played ay oh beyonc b...</td>\n",
       "    </tr>\n",
       "    <tr>\n",
       "      <th>20</th>\n",
       "      <td>Pop</td>\n",
       "      <td>ay ay nobody likes being played ay oh beyonce ...</td>\n",
       "    </tr>\n",
       "    <tr>\n",
       "      <th>21</th>\n",
       "      <td>Pop</td>\n",
       "      <td>beyonc intro beyonce iam welcome welcome hey o...</td>\n",
       "    </tr>\n",
       "    <tr>\n",
       "      <th>22</th>\n",
       "      <td>Pop</td>\n",
       "      <td>ay ay nobody likes being played ay oh beyonc b...</td>\n",
       "    </tr>\n",
       "    <tr>\n",
       "      <th>23</th>\n",
       "      <td>Pop</td>\n",
       "      <td>took me a while but i m finally here so i just...</td>\n",
       "    </tr>\n",
       "    <tr>\n",
       "      <th>24</th>\n",
       "      <td>Pop</td>\n",
       "      <td>ay ay ay oh beyonc beyonc oh beyonc beyonc hey...</td>\n",
       "    </tr>\n",
       "    <tr>\n",
       "      <th>25</th>\n",
       "      <td>Pop</td>\n",
       "      <td>to the left to the left to the left to the lef...</td>\n",
       "    </tr>\n",
       "    <tr>\n",
       "      <th>26</th>\n",
       "      <td>Pop</td>\n",
       "      <td>remember the first day when i saw your face re...</td>\n",
       "    </tr>\n",
       "    <tr>\n",
       "      <th>27</th>\n",
       "      <td>Pop</td>\n",
       "      <td>you say that he s wrong you say that he s no g...</td>\n",
       "    </tr>\n",
       "    <tr>\n",
       "      <th>28</th>\n",
       "      <td>Pop</td>\n",
       "      <td>st verse hey you what s the deal its popping u...</td>\n",
       "    </tr>\n",
       "    <tr>\n",
       "      <th>29</th>\n",
       "      <td>Pop</td>\n",
       "      <td>he is always laughin and flirting with me and ...</td>\n",
       "    </tr>\n",
       "    <tr>\n",
       "      <th>30</th>\n",
       "      <td>Pop</td>\n",
       "      <td>you don t care about me at all you treat me li...</td>\n",
       "    </tr>\n",
       "    <tr>\n",
       "      <th>31</th>\n",
       "      <td>Pop</td>\n",
       "      <td>ay ay ay oh beyonce beyonce oh beyonce beyonce...</td>\n",
       "    </tr>\n",
       "    <tr>\n",
       "      <th>...</th>\n",
       "      <td>...</td>\n",
       "      <td>...</td>\n",
       "    </tr>\n",
       "    <tr>\n",
       "      <th>266491</th>\n",
       "      <td>Rock</td>\n",
       "      <td>siamo figli del caos della notte scura siamo s...</td>\n",
       "    </tr>\n",
       "    <tr>\n",
       "      <th>266492</th>\n",
       "      <td>Rock</td>\n",
       "      <td>se si spoglia un anima di ogni ragione resta s...</td>\n",
       "    </tr>\n",
       "    <tr>\n",
       "      <th>266497</th>\n",
       "      <td>Other</td>\n",
       "      <td>part i denial here i walk away with nothing bu...</td>\n",
       "    </tr>\n",
       "    <tr>\n",
       "      <th>266501</th>\n",
       "      <td>Hip-Hop</td>\n",
       "      <td>weak at the knees in the mouth of the beast wi...</td>\n",
       "    </tr>\n",
       "    <tr>\n",
       "      <th>266502</th>\n",
       "      <td>Hip-Hop</td>\n",
       "      <td>the sky is forever as i m tappin away upon my ...</td>\n",
       "    </tr>\n",
       "    <tr>\n",
       "      <th>266503</th>\n",
       "      <td>Hip-Hop</td>\n",
       "      <td>i see you run when i say whatagwan i see you r...</td>\n",
       "    </tr>\n",
       "    <tr>\n",
       "      <th>266504</th>\n",
       "      <td>Hip-Hop</td>\n",
       "      <td>oooh if i only ever knew i m trapped in my min...</td>\n",
       "    </tr>\n",
       "    <tr>\n",
       "      <th>266505</th>\n",
       "      <td>Hip-Hop</td>\n",
       "      <td>verse i walk alone on this road to babylon i p...</td>\n",
       "    </tr>\n",
       "    <tr>\n",
       "      <th>266506</th>\n",
       "      <td>Hip-Hop</td>\n",
       "      <td>you could love me or not but either way i ve g...</td>\n",
       "    </tr>\n",
       "    <tr>\n",
       "      <th>266507</th>\n",
       "      <td>Rock</td>\n",
       "      <td>can t stand to live in this void blood flows c...</td>\n",
       "    </tr>\n",
       "    <tr>\n",
       "      <th>266508</th>\n",
       "      <td>Rock</td>\n",
       "      <td>i don t want to let them know how i turned out...</td>\n",
       "    </tr>\n",
       "    <tr>\n",
       "      <th>266511</th>\n",
       "      <td>Rock</td>\n",
       "      <td>this endless hole i seem to be stuck within th...</td>\n",
       "    </tr>\n",
       "    <tr>\n",
       "      <th>266512</th>\n",
       "      <td>Rock</td>\n",
       "      <td>what you did that is done and there is no need...</td>\n",
       "    </tr>\n",
       "    <tr>\n",
       "      <th>266516</th>\n",
       "      <td>Rock</td>\n",
       "      <td>you got to climb up on your high horses decide...</td>\n",
       "    </tr>\n",
       "    <tr>\n",
       "      <th>266517</th>\n",
       "      <td>Rock</td>\n",
       "      <td>it all comes tumbling down no vital parts rema...</td>\n",
       "    </tr>\n",
       "    <tr>\n",
       "      <th>266518</th>\n",
       "      <td>Rock</td>\n",
       "      <td>when a life breaks it is silent it just wither...</td>\n",
       "    </tr>\n",
       "    <tr>\n",
       "      <th>266536</th>\n",
       "      <td>Pop</td>\n",
       "      <td>injili injili can i sing with you bout mr temb...</td>\n",
       "    </tr>\n",
       "    <tr>\n",
       "      <th>266539</th>\n",
       "      <td>Pop</td>\n",
       "      <td>when the photographs you re taking now are tak...</td>\n",
       "    </tr>\n",
       "    <tr>\n",
       "      <th>266540</th>\n",
       "      <td>Pop</td>\n",
       "      <td>i met moko jumbie he walks on stilts through a...</td>\n",
       "    </tr>\n",
       "    <tr>\n",
       "      <th>266542</th>\n",
       "      <td>Pop</td>\n",
       "      <td>celebrate the passing drugs put them on the ba...</td>\n",
       "    </tr>\n",
       "    <tr>\n",
       "      <th>266543</th>\n",
       "      <td>Pop</td>\n",
       "      <td>when the serve is done and the parish shuffled...</td>\n",
       "    </tr>\n",
       "    <tr>\n",
       "      <th>266547</th>\n",
       "      <td>Country</td>\n",
       "      <td>you walked in shining brighter than a headligh...</td>\n",
       "    </tr>\n",
       "    <tr>\n",
       "      <th>266548</th>\n",
       "      <td>Country</td>\n",
       "      <td>i warned you that the tank was low shoulda sto...</td>\n",
       "    </tr>\n",
       "    <tr>\n",
       "      <th>266549</th>\n",
       "      <td>Country</td>\n",
       "      <td>to my first pony cherry pie from the little gi...</td>\n",
       "    </tr>\n",
       "    <tr>\n",
       "      <th>266550</th>\n",
       "      <td>Country</td>\n",
       "      <td>it was two years ago and it was yesterday it m...</td>\n",
       "    </tr>\n",
       "    <tr>\n",
       "      <th>266551</th>\n",
       "      <td>Country</td>\n",
       "      <td>you ve got your texas way of walking you ve go...</td>\n",
       "    </tr>\n",
       "    <tr>\n",
       "      <th>266552</th>\n",
       "      <td>Country</td>\n",
       "      <td>i gotta say boy after only just a couple of da...</td>\n",
       "    </tr>\n",
       "    <tr>\n",
       "      <th>266553</th>\n",
       "      <td>Country</td>\n",
       "      <td>i helped you find her diamond ring you made me...</td>\n",
       "    </tr>\n",
       "    <tr>\n",
       "      <th>266554</th>\n",
       "      <td>Country</td>\n",
       "      <td>look at the couple in the corner booth looks a...</td>\n",
       "    </tr>\n",
       "    <tr>\n",
       "      <th>266556</th>\n",
       "      <td>Country</td>\n",
       "      <td>i heard from a friend of a friend of a friend ...</td>\n",
       "    </tr>\n",
       "  </tbody>\n",
       "</table>\n",
       "<p>134107 rows × 2 columns</p>\n",
       "</div>"
      ],
      "text/plain": [
       "              y                                                tok\n",
       "0           Pop  oh baby how you doing you know i m gonna cut r...\n",
       "1           Pop  playin everything so easy it s like you seem s...\n",
       "3           Pop  oh oh oh i oh oh oh i verse if i wrote a book ...\n",
       "4           Pop  party the people the people the party it s pop...\n",
       "6           Pop  this is just another day that i would spend wa...\n",
       "7           Pop  waiting waiting waiting waiting waiting waitin...\n",
       "8           Pop  verse i read all of the magazines while waitin...\n",
       "9           Pop  n n now honey you better sit down and look aro...\n",
       "10          Pop  i lay alone awake at night sorrow fills my eye...\n",
       "11          Pop  hello hello baby you called i can t hear a thi...\n",
       "12          Pop  feels like i m losing my mind love is so hard ...\n",
       "13          Pop  youre everything i thought you never were and ...\n",
       "14          Pop  i gotta give up to quite the storm that rages ...\n",
       "15          Pop  it really hurts to say this yes it does but af...\n",
       "16          Pop  you re bad for me i clearly get it i don t see...\n",
       "17          Pop  chorus i m a world wide woman www you can log ...\n",
       "18          Pop  ay ay ay nobody likes to be played oh beyonce ...\n",
       "19          Pop  ay ay nobody likes being played ay oh beyonc b...\n",
       "20          Pop  ay ay nobody likes being played ay oh beyonce ...\n",
       "21          Pop  beyonc intro beyonce iam welcome welcome hey o...\n",
       "22          Pop  ay ay nobody likes being played ay oh beyonc b...\n",
       "23          Pop  took me a while but i m finally here so i just...\n",
       "24          Pop  ay ay ay oh beyonc beyonc oh beyonc beyonc hey...\n",
       "25          Pop  to the left to the left to the left to the lef...\n",
       "26          Pop  remember the first day when i saw your face re...\n",
       "27          Pop  you say that he s wrong you say that he s no g...\n",
       "28          Pop  st verse hey you what s the deal its popping u...\n",
       "29          Pop  he is always laughin and flirting with me and ...\n",
       "30          Pop  you don t care about me at all you treat me li...\n",
       "31          Pop  ay ay ay oh beyonce beyonce oh beyonce beyonce...\n",
       "...         ...                                                ...\n",
       "266491     Rock  siamo figli del caos della notte scura siamo s...\n",
       "266492     Rock  se si spoglia un anima di ogni ragione resta s...\n",
       "266497    Other  part i denial here i walk away with nothing bu...\n",
       "266501  Hip-Hop  weak at the knees in the mouth of the beast wi...\n",
       "266502  Hip-Hop  the sky is forever as i m tappin away upon my ...\n",
       "266503  Hip-Hop  i see you run when i say whatagwan i see you r...\n",
       "266504  Hip-Hop  oooh if i only ever knew i m trapped in my min...\n",
       "266505  Hip-Hop  verse i walk alone on this road to babylon i p...\n",
       "266506  Hip-Hop  you could love me or not but either way i ve g...\n",
       "266507     Rock  can t stand to live in this void blood flows c...\n",
       "266508     Rock  i don t want to let them know how i turned out...\n",
       "266511     Rock  this endless hole i seem to be stuck within th...\n",
       "266512     Rock  what you did that is done and there is no need...\n",
       "266516     Rock  you got to climb up on your high horses decide...\n",
       "266517     Rock  it all comes tumbling down no vital parts rema...\n",
       "266518     Rock  when a life breaks it is silent it just wither...\n",
       "266536      Pop  injili injili can i sing with you bout mr temb...\n",
       "266539      Pop  when the photographs you re taking now are tak...\n",
       "266540      Pop  i met moko jumbie he walks on stilts through a...\n",
       "266542      Pop  celebrate the passing drugs put them on the ba...\n",
       "266543      Pop  when the serve is done and the parish shuffled...\n",
       "266547  Country  you walked in shining brighter than a headligh...\n",
       "266548  Country  i warned you that the tank was low shoulda sto...\n",
       "266549  Country  to my first pony cherry pie from the little gi...\n",
       "266550  Country  it was two years ago and it was yesterday it m...\n",
       "266551  Country  you ve got your texas way of walking you ve go...\n",
       "266552  Country  i gotta say boy after only just a couple of da...\n",
       "266553  Country  i helped you find her diamond ring you made me...\n",
       "266554  Country  look at the couple in the corner booth looks a...\n",
       "266556  Country  i heard from a friend of a friend of a friend ...\n",
       "\n",
       "[134107 rows x 2 columns]"
      ]
     },
     "execution_count": 20,
     "metadata": {},
     "output_type": "execute_result"
    }
   ],
   "source": [
    "df2 = df2.drop(['level_0','index','song','year','artist','lyrics','len'], axis=1)\n",
    "df2.rename(columns={'genre':'y'})"
   ]
  },
  {
   "cell_type": "code",
   "execution_count": 22,
   "metadata": {
    "collapsed": true
   },
   "outputs": [],
   "source": [
    "# preprocessed lyrics dataframe save\n",
    "df2.to_csv('lyrics_refine.csv', index=False)"
   ]
  },
  {
   "cell_type": "code",
   "execution_count": null,
   "metadata": {
    "collapsed": true
   },
   "outputs": [],
   "source": [
    "# ---------------여기부터 w2v\n",
    "# w2v model 만들기 5~10분쯤 걸림\n",
    "embed_dim = 200\n",
    "model = models.Word2Vec(tok, size=embed_dim, window=7, min_count=3, workers=8)"
   ]
  },
  {
   "cell_type": "code",
   "execution_count": 31,
   "metadata": {
    "scrolled": true
   },
   "outputs": [
    {
     "data": {
      "text/plain": [
       "array([  1.28687263e-01,  -9.69191492e-01,  -4.36079353e-01,\n",
       "        -8.68235111e-01,  -1.42763972e+00,   7.01574147e-01,\n",
       "        -1.44072985e-02,   3.08640122e-01,   2.05311584e+00,\n",
       "        -1.32769716e+00,   1.65949255e-01,  -6.74354851e-01,\n",
       "        -4.18917370e+00,  -8.36543202e-01,  -1.27838767e+00,\n",
       "         6.89653635e-01,   2.02675641e-01,   1.14468646e+00,\n",
       "        -2.67380738e+00,   3.45013410e-01,   1.59758425e+00,\n",
       "        -2.27943754e+00,  -1.24838912e+00,   2.55000567e+00,\n",
       "         1.02508140e+00,   5.93450904e-01,   4.16834450e+00,\n",
       "         2.81060028e+00,   8.07932988e-02,  -4.01927412e-01,\n",
       "        -1.05981851e+00,   1.02131081e+00,   2.23216152e+00,\n",
       "         3.43941426e+00,  -1.37454018e-01,   2.60287619e+00,\n",
       "         3.62378269e-01,  -1.59174883e+00,   2.80558729e+00,\n",
       "        -1.42601073e-01,   1.44566095e+00,  -8.66074681e-01,\n",
       "        -1.26557827e+00,   1.37540428e-02,  -1.35346913e+00,\n",
       "        -1.73966813e+00,  -3.30701566e+00,   1.52821779e+00,\n",
       "         7.18959421e-02,  -1.94862172e-01,   1.10195506e+00,\n",
       "        -2.73183370e+00,  -2.70280123e-01,  -8.49987939e-02,\n",
       "        -9.34725285e-01,  -2.93888450e+00,  -5.89423001e-01,\n",
       "        -7.49543428e-01,   6.82699144e-01,  -1.94055760e+00,\n",
       "        -7.74787545e-01,  -1.03861988e+00,   8.11577678e-01,\n",
       "         1.58117330e+00,   8.11114490e-01,  -1.44371212e+00,\n",
       "         2.71982384e+00,   3.25954318e-01,  -2.26141715e+00,\n",
       "         3.95136714e+00,  -3.62484026e+00,   3.89821129e-03,\n",
       "         1.74853861e+00,  -2.52008408e-01,  -1.33871555e+00,\n",
       "        -5.23585653e+00,   7.04073250e-01,   3.39986110e+00,\n",
       "         8.07555735e-01,   1.84799850e+00,   9.86477911e-01,\n",
       "         1.23592305e+00,  -1.97980964e+00,  -4.29989433e+00,\n",
       "        -3.14159393e+00,   9.85920072e-01,   2.34497833e+00,\n",
       "        -1.86477757e+00,  -1.26054183e-01,   2.38650069e-01,\n",
       "         1.94060802e+00,   2.09225702e+00,  -2.86487520e-01,\n",
       "        -1.13418615e+00,  -1.95794725e+00,   2.57107282e+00,\n",
       "        -3.77896205e-02,  -8.20605218e-01,  -2.10220718e+00,\n",
       "        -1.26429594e+00,  -9.79650199e-01,   4.41217214e-01,\n",
       "        -2.05210853e+00,   2.74605227e+00,  -2.34731150e+00,\n",
       "         4.62885809e+00,   2.16856003e-02,   8.09806049e-01,\n",
       "         4.91505628e-03,   2.72370529e+00,   1.63948858e+00,\n",
       "        -7.51317516e-02,   2.29723364e-01,  -1.53978288e+00,\n",
       "         1.12707458e-01,   4.19326973e+00,  -1.18729675e+00,\n",
       "         8.56583774e-01,   3.10864687e+00,  -2.46785736e+00,\n",
       "         3.42740130e+00,  -8.33452523e-01,  -3.64455557e+00,\n",
       "        -1.01163006e+00,   7.94225037e-01,   8.71426523e-01,\n",
       "        -4.50663090e-01,  -6.76023439e-02,   1.91357780e+00,\n",
       "         1.87516534e+00,  -1.69980192e+00,   9.25621271e-01,\n",
       "         3.31615615e+00,   2.93131500e-01,   2.03693819e+00,\n",
       "        -7.08431840e-01,   1.20101953e+00,   6.93916798e-01,\n",
       "         2.18326426e+00,   4.75082541e+00,   2.59794927e+00,\n",
       "        -4.77352142e+00,  -1.45265698e+00,  -3.82315159e+00,\n",
       "         1.30966902e+00,   1.94980547e-01,  -1.71619725e+00,\n",
       "         1.43260801e+00,  -7.53512800e-01,  -6.79956973e-01,\n",
       "         1.29739344e+00,   1.30060482e+00,  -1.62377417e+00,\n",
       "         5.93905866e-01,  -1.68726230e+00,  -3.57941002e-01,\n",
       "        -2.82971740e+00,  -8.43887985e-01,  -8.64516258e-01,\n",
       "         3.65131807e+00,  -5.10431480e+00,   1.40416849e+00,\n",
       "         1.26090312e+00,   2.08275723e+00,   2.50780821e-01,\n",
       "         4.06736946e+00,   2.64842268e-02,   2.70354331e-01,\n",
       "        -2.10082579e+00,  -7.75824040e-02,  -1.55485988e+00,\n",
       "        -3.26948309e+00,   1.03638208e+00,   4.12872523e-01,\n",
       "        -1.08181572e+00,   2.09176230e+00,   9.04313385e-01,\n",
       "        -1.64043593e+00,  -1.63571179e+00,  -2.84312487e+00,\n",
       "        -8.91074598e-01,  -1.75835252e+00,  -4.36591244e+00,\n",
       "         6.73958898e-01,  -7.42804110e-01,  -2.34255731e-01,\n",
       "        -2.91582584e+00,  -6.48527145e-02,  -2.84042168e+00,\n",
       "         6.42683387e-01,   1.95578885e+00,   4.18130016e+00,\n",
       "         2.76200461e+00,  -2.70851946e+00,   4.02828693e+00,\n",
       "        -2.05971074e+00,  -2.37410992e-01,  -3.28881931e+00,\n",
       "        -2.18282843e+00,  -1.00216949e+00], dtype=float32)"
      ]
     },
     "execution_count": 31,
     "metadata": {},
     "output_type": "execute_result"
    }
   ],
   "source": [
    "model['she']"
   ]
  },
  {
   "cell_type": "code",
   "execution_count": null,
   "metadata": {
    "collapsed": true
   },
   "outputs": [],
   "source": [
    "# word2vec nmodel save\n",
    "model.save(\"models/word2vec.model\")"
   ]
  }
 ],
 "metadata": {
  "kernelspec": {
   "display_name": "Python 3",
   "language": "python",
   "name": "python3"
  },
  "language_info": {
   "codemirror_mode": {
    "name": "ipython",
    "version": 3
   },
   "file_extension": ".py",
   "mimetype": "text/x-python",
   "name": "python",
   "nbconvert_exporter": "python",
   "pygments_lexer": "ipython3",
   "version": "3.6.2"
  }
 },
 "nbformat": 4,
 "nbformat_minor": 2
}
