{
 "cells": [
  {
   "cell_type": "markdown",
   "metadata": {},
   "source": [
    "## 정보융합데이터분석연구특강 Team Project\n",
    "### D팀 Song Genre Prediction by Lyrics with Word2vec and CNN\n",
    "> 팀원 - 곽란, 김대룡, 이성우  \n",
    "> 참고논문 - Convolutional Neural Networks for Sentence Classification, Yoon Kim, 2014"
   ]
  },
  {
   "cell_type": "code",
   "execution_count": 1,
   "metadata": {
    "collapsed": true
   },
   "outputs": [],
   "source": [
    "import time\n",
    "import pandas as pd\n",
    "import numpy as np\n",
    "from sklearn.model_selection import train_test_split, KFold\n",
    "\n",
    "import matplotlib.pyplot as plt\n",
    "import seaborn as sns\n",
    "sns.set_style('whitegrid')\n",
    "%matplotlib inline\n",
    "\n",
    "import tensorflow as tf\n",
    "from pprint import pprint"
   ]
  },
  {
   "cell_type": "code",
   "execution_count": 2,
   "metadata": {},
   "outputs": [
    {
     "name": "stderr",
     "output_type": "stream",
     "text": [
      "C:\\Users\\DD\\Anaconda3\\envs\\tensorflow\\lib\\site-packages\\gensim\\utils.py:860: UserWarning: detected Windows; aliasing chunkize to chunkize_serial\n",
      "  warnings.warn(\"detected Windows; aliasing chunkize to chunkize_serial\")\n"
     ]
    }
   ],
   "source": [
    "import gensim\n",
    "import nltk\n",
    "\n",
    "from gensim import models, similarities"
   ]
  },
  {
   "cell_type": "markdown",
   "metadata": {},
   "source": [
    "---\n",
    "## 메모리 부족때문에 전처리와 학습 과정 분리\n",
    "> 전처리후 저장해둔 csv, w2v model로드"
   ]
  },
  {
   "cell_type": "code",
   "execution_count": 70,
   "metadata": {
    "collapsed": true
   },
   "outputs": [],
   "source": [
    "# 전처리한 데이터 로드\n",
    "df2 = pd.read_csv('lyrics_refine.csv')\n",
    "# 저장한 w2v 모델 로드\n",
    "model = models.word2vec.Word2Vec.load('models/word2vec.model')"
   ]
  },
  {
   "cell_type": "code",
   "execution_count": 71,
   "metadata": {
    "collapsed": true
   },
   "outputs": [],
   "source": [
    "# 원본 데이터 비율 유지한 테스트셋 만들기\n",
    "empty = [0]*len(df2)\n",
    "df2, df2_for_test, no, no_ = train_test_split(df2, empty, test_size=0.1, random_state=3)"
   ]
  },
  {
   "cell_type": "code",
   "execution_count": 72,
   "metadata": {},
   "outputs": [
    {
     "name": "stdout",
     "output_type": "stream",
     "text": [
      "{'Metal', 'R&B', 'Rock', 'Jazz', 'Indie', 'Other', 'Country', 'Folk', 'Electronic', 'Not Available', 'Pop', 'Hip-Hop'}\n"
     ]
    },
    {
     "data": {
      "image/png": "[encoded data removed]",
      "text/plain": [
       "<matplotlib.figure.Figure at 0x1ff0c5f38d0>"
      ]
     },
     "metadata": {},
     "output_type": "display_data"
    }
   ],
   "source": [
    "# train/test set 비율 확인\n",
    "order = df2['genre'].value_counts().index\n",
    "plt.subplots(figsize=(15,5))\n",
    "plt.subplot(121)\n",
    "plt.title('Training set')\n",
    "plt.xticks(rotation=45)\n",
    "sns.countplot(x=df2['genre'], order = order)\n",
    "plt.subplot(122)\n",
    "plt.title('Test set')\n",
    "plt.xticks(rotation=45)\n",
    "sns.countplot(x=df2_for_test['genre'], order = order)\n",
    "print(set(df2['genre']))\n",
    "\n",
    "# df2_for_test['genre'].value_counts().plot(kind='bar')"
   ]
  },
  {
   "cell_type": "code",
   "execution_count": 73,
   "metadata": {},
   "outputs": [
    {
     "name": "stdout",
     "output_type": "stream",
     "text": [
      "2421 43240 284 4785\n"
     ]
    }
   ],
   "source": [
    "# 레이블 최소, 최대 개수 확인\n",
    "print(len(df2[df2['genre'] ==  'Jazz']), len(df2[df2['genre'] ==  'Rock']), \n",
    "      len(df2_for_test[df2_for_test['genre'] ==  'Jazz']), len(df2_for_test[df2_for_test['genre'] ==  'Rock']))"
   ]
  },
  {
   "cell_type": "code",
   "execution_count": 74,
   "metadata": {
    "collapsed": true
   },
   "outputs": [],
   "source": [
    "# train set \n",
    "min = 50000\n",
    "d1 = df2[df2['genre'] == 'Country'][:min]\n",
    "d2 = df2[df2['genre'] == 'Electronic'][:min]\n",
    "# d3 = df2[df2['genre'] ==  'Folk']\n",
    "d4 = df2[df2['genre'] == 'Hip-Hop'][:min]\n",
    "# d5 = df2[df2['genre'] ==  'Indie']\n",
    "d6 = df2[df2['genre'] ==  'Jazz'][:min]\n",
    "d7 = df2[df2['genre'] ==  'Metal'][:min]\n",
    "# d8 = df2[df2['genre'] ==  'Not Available']\n",
    "# d9 = df2[df2['genre'] ==  'Other']\n",
    "d10 = df2[df2['genre'] ==  'Pop'][:min]\n",
    "# d11 = df2[df2['genre'] ==  'R&B']\n",
    "d12 = df2[df2['genre'] ==  'Rock'][:min]"
   ]
  },
  {
   "cell_type": "code",
   "execution_count": 75,
   "metadata": {
    "collapsed": true
   },
   "outputs": [],
   "source": [
    "# test set 포본 추출\n",
    "min_ = 5000\n",
    "d1_ = df2_for_test[df2_for_test['genre'] == 'Country'][:min_]\n",
    "d2_ = df2_for_test[df2_for_test['genre'] == 'Electronic'][:min_]\n",
    "# d3_ = df2_for_test[df2_for_test['genre'] ==  'Folk']\n",
    "d4_ = df2_for_test[df2_for_test['genre'] == 'Hip-Hop'][:min_]\n",
    "# d5_ = df2_for_test[df2_for_test['genre'] ==  'Indie']\n",
    "d6_ = df2_for_test[df2_for_test['genre'] ==  'Jazz'][:min_]\n",
    "d7_ = df2_for_test[df2_for_test['genre'] ==  'Metal'][:min_]\n",
    "# d8_ = df2_for_test[df2_for_test['genre'] ==  'Not Available']\n",
    "# d9_ = df2_for_test[df2_for_test['genre'] ==  'Other']\n",
    "d10_ = df2_for_test[df2_for_test['genre'] ==  'Pop'][:min_]\n",
    "# d11_ = df2_for_test[df2_for_test['genre'] ==  'R&B']\n",
    "d12_ = df2_for_test[df2_for_test['genre'] ==  'Rock'][:min_]"
   ]
  },
  {
   "cell_type": "code",
   "execution_count": 76,
   "metadata": {
    "collapsed": true
   },
   "outputs": [],
   "source": [
    "# 양 적은거 제거 5,3,11,9\n",
    "df2 = pd.concat([d1,d2,d4,d6,d7,d10,d12], axis=0)\n",
    "df2_for_test = pd.concat([d1_,d2_,d4_,d6_,d7_,d10_,d12_], axis=0)"
   ]
  },
  {
   "cell_type": "code",
   "execution_count": 77,
   "metadata": {},
   "outputs": [
    {
     "name": "stdout",
     "output_type": "stream",
     "text": [
      "104011 11521\n"
     ]
    }
   ],
   "source": [
    "print(len(df2), len(df2_for_test))\n",
    "# df2.head()"
   ]
  },
  {
   "cell_type": "code",
   "execution_count": 78,
   "metadata": {},
   "outputs": [
    {
     "data": {
      "text/plain": [
       "{'Country', 'Electronic', 'Hip-Hop', 'Jazz', 'Metal', 'Pop', 'Rock'}"
      ]
     },
     "execution_count": 78,
     "metadata": {},
     "output_type": "execute_result"
    }
   ],
   "source": [
    "set(df2['genre'])"
   ]
  },
  {
   "cell_type": "code",
   "execution_count": 79,
   "metadata": {
    "scrolled": true
   },
   "outputs": [
    {
     "data": {
      "text/plain": [
       "(200,)"
      ]
     },
     "execution_count": 79,
     "metadata": {},
     "output_type": "execute_result"
    }
   ],
   "source": [
    "# w2v vector dictionary에 없는 단어 임베딩 위해서 mean값 게산해서 대신 넣음\n",
    "voc = list(model.wv.vocab)\n",
    "all_w2v = [model[i] for i in voc]\n",
    "all_w2v = np.array(all_w2v)\n",
    "\n",
    "mean = all_w2v.mean(axis=0)\n",
    "mean.shape"
   ]
  },
  {
   "cell_type": "code",
   "execution_count": 80,
   "metadata": {
    "collapsed": true
   },
   "outputs": [],
   "source": [
    "# 앞 200단어만 추림\n",
    "vec = []\n",
    "for i in df2['tok']:\n",
    "    arr = i.split(' ')\n",
    "    temp=[]\n",
    "    for j in arr[:200]:\n",
    "        temp.append(j)\n",
    "    vec.append(temp)\n",
    "\n",
    "vec_for_test = []\n",
    "for i in df2_for_test['tok']:\n",
    "    arr = i.split(' ')\n",
    "    temp=[]\n",
    "    for j in arr[:200]:\n",
    "        temp.append(j)\n",
    "    vec_for_test.append(temp)"
   ]
  },
  {
   "cell_type": "markdown",
   "metadata": {},
   "source": [
    "---\n",
    "여기는 그냥 데이터 메모리 사이즈 확인용"
   ]
  },
  {
   "cell_type": "code",
   "execution_count": 14,
   "metadata": {
    "collapsed": true
   },
   "outputs": [],
   "source": [
    "# 1000개 row만 처리해도 700MB\n",
    "# kk = pd.DataFrame(w2v_vec, columns=['w%d'%idx for idx in range(len(w2v_vec[0]))])\n",
    "# kk.to_csv('jk.csv')"
   ]
  },
  {
   "cell_type": "markdown",
   "metadata": {},
   "source": [
    "---\n",
    "## 여기부터 CNN 학습 과정"
   ]
  },
  {
   "cell_type": "markdown",
   "metadata": {},
   "source": [
    "> 메모리 절약용 제너레이터  \n",
    "실시간으로 워드 임베딩해서 이전 변수에 덮어씀"
   ]
  },
  {
   "cell_type": "code",
   "execution_count": 81,
   "metadata": {},
   "outputs": [
    {
     "name": "stdout",
     "output_type": "stream",
     "text": [
      "104011 104011\n"
     ]
    }
   ],
   "source": [
    "# 실제로 사용할 데이터\n",
    "print(len(vec), len(df2['genre']))"
   ]
  },
  {
   "cell_type": "code",
   "execution_count": 82,
   "metadata": {
    "collapsed": true
   },
   "outputs": [],
   "source": [
    "# 각 단어들에 word embedding #row*40000\n",
    "def tok_embedding(tok_vec):\n",
    "    w2v_vec = []\n",
    "    for i in tok_vec: # 그냥 vec넣으면 134170 다들어감 메모리 절대 부족!!! 파이프라인 구축 필요\n",
    "        temp =[]\n",
    "        for j in i:\n",
    "            try:\n",
    "                temp += list(model[j])\n",
    "            except:\n",
    "                temp += list(mean)\n",
    "        w2v_vec.append(temp)\n",
    "#     reshape은 텐서플로에서 함\n",
    "#     w2v_vec = np.array(w2v_vec, dtype='float16')\n",
    "#     return w2v_vec.reshape([-1,200,embed_dim])\n",
    "    return w2v_vec"
   ]
  },
  {
   "cell_type": "code",
   "execution_count": 83,
   "metadata": {
    "collapsed": true
   },
   "outputs": [],
   "source": [
    "# 피처 데이터, 레이블, 미니배치 갯수\n",
    "def getMiniBatch(df_, y, n):\n",
    "    if len(df_) != len(y):\n",
    "        print('Feature and label num is not equal.')\n",
    "        return\n",
    "    start = 0\n",
    "    while True:\n",
    "        if start>= len(df_):\n",
    "#             셔플을 안하니까 좀 되네... -> df, y 묶어서 셔플해야 함\n",
    "#             df_ = df_.sample(frac=1).reset_index(drop=True) # 1epoch 이후 셔플\n",
    "            start = 0\n",
    "        embeded_df = tok_embedding(df_[start: start+n])\n",
    "        yield embeded_df, y[start: start+n]\n",
    "#         yield df_[start: start+n], y[start: start+n]   \n",
    "        start += n "
   ]
  },
  {
   "cell_type": "code",
   "execution_count": 84,
   "metadata": {
    "collapsed": true
   },
   "outputs": [],
   "source": [
    "# 피처 데이터, 레이블, 미니배치 갯수, random sampling\n",
    "def getMiniBatch2(x, y, n):\n",
    "    if len(x) != len(y):\n",
    "        print('Feature and label num is not equal.')\n",
    "        return\n",
    "    rand_idx_list = []\n",
    "    size = n // len(set(Y_train_0))\n",
    "    for a_class in classes:\n",
    "        idx = np.random.choice(indexes[a_class],size=size) # indexes는 train/validation split 이후 생성\n",
    "        rand_idx_list = np.append(rand_idx_list,idx)\n",
    "    x_ = [x[int(i)] for i in rand_idx_list]\n",
    "    y_ = [y[int(i)] for i in rand_idx_list]\n",
    "    return tok_embedding(x_), y_"
   ]
  },
  {
   "cell_type": "markdown",
   "metadata": {},
   "source": [
    "---\n",
    "## lable 전처리"
   ]
  },
  {
   "cell_type": "code",
   "execution_count": 85,
   "metadata": {
    "collapsed": true
   },
   "outputs": [],
   "source": [
    "# genre: 카테고리 -> 숫자로 변경\n",
    "# genre = {'Electronic':0, 'Jazz':1, 'Metal':2, 'Not Available':3, 'Other':4,\n",
    "#          'Country':5, 'R&B':6, 'Pop':7, 'Rock':8, 'Indie':9, 'Folk':10, 'Hip-Hop':11}\n",
    "genre = {'Electronic':0, 'Jazz':1, 'Metal':2, \n",
    "         'Country':3, 'Pop':4, 'Rock':5, 'Hip-Hop':6}\n",
    "label = [genre[i] for i in df2['genre']]\n",
    "label_for_test = [genre[i] for i in df2_for_test['genre']]"
   ]
  },
  {
   "cell_type": "code",
   "execution_count": 86,
   "metadata": {
    "collapsed": true
   },
   "outputs": [],
   "source": [
    "X_all = vec\n",
    "Y_all = label"
   ]
  },
  {
   "cell_type": "code",
   "execution_count": 87,
   "metadata": {
    "collapsed": true
   },
   "outputs": [],
   "source": [
    "# 데이터 1/10로 줄이자\n",
    "# X2, _, Y2, __ = train_test_split(X, Y, test_size=1, random_state=3)"
   ]
  },
  {
   "cell_type": "code",
   "execution_count": 88,
   "metadata": {
    "collapsed": true
   },
   "outputs": [],
   "source": [
    "X_train, X_val, Y_train_0, Y_val = train_test_split(X_all, Y_all, test_size=0.05, random_state=3)\n",
    "\n",
    "# label 별 index 저장\n",
    "classes = set(Y_train_0)\n",
    "indexes = {}\n",
    "for a_class in classes:\n",
    "    indexes[a_class] = indices = [i for i, x in enumerate(Y_train_0) if x == a_class]"
   ]
  },
  {
   "cell_type": "code",
   "execution_count": 89,
   "metadata": {
    "scrolled": true
   },
   "outputs": [
    {
     "name": "stdout",
     "output_type": "stream",
     "text": [
      "{0, 1, 2, 3, 4, 5, 6}\n"
     ]
    },
    {
     "data": {
      "image/png": "[encoded data removed]",
      "text/plain": [
       "<matplotlib.figure.Figure at 0x1ff347c7828>"
      ]
     },
     "metadata": {},
     "output_type": "display_data"
    }
   ],
   "source": [
    "# data label 분포확인 \n",
    "order = list(range(len(set(Y_all))))\n",
    "plt.subplots(figsize=(18,5))\n",
    "plt.subplot(141)\n",
    "plt.title('Test+Val set:%d'%len(Y_all))\n",
    "sns.countplot(x=Y_all, order = order)\n",
    "plt.subplot(142)\n",
    "plt.title('Train set:%d'%len(X_train))\n",
    "sns.countplot(x=Y_train_0, order = order)\n",
    "plt.subplot(143)\n",
    "plt.title('Validation set:%d'%len(X_val))\n",
    "sns.countplot(x=Y_val, order = order)\n",
    "plt.subplot(144)\n",
    "plt.title('Test set:%d'%len(label_for_test))\n",
    "sns.countplot(x=label_for_test, order = order)\n",
    "print(set(Y_all))"
   ]
  },
  {
   "cell_type": "code",
   "execution_count": 90,
   "metadata": {},
   "outputs": [
    {
     "name": "stdout",
     "output_type": "stream",
     "text": [
      "[98810, 200] [98810, 7] [5201, 200] [5201, 7] 11521\n"
     ]
    }
   ],
   "source": [
    "sess = tf.InteractiveSession()\n",
    "Y_train = sess.run(tf.one_hot(Y_train_0, len(set(Y_all))))\n",
    "Y_val = sess.run(tf.one_hot(Y_val, len(set(Y_all))))\n",
    "label_for_test_onehot = sess.run(tf.one_hot(label_for_test, len(set(Y_all))))\n",
    "print([len(X_train),len(X_train[0])], [len(Y_train),len(Y_train[0])], [len(X_val),len(X_val[0])], [len(Y_val),len(Y_val[0])], len(label_for_test_onehot))"
   ]
  },
  {
   "cell_type": "markdown",
   "metadata": {},
   "source": [
    "### CNN 그래프 만들기"
   ]
  },
  {
   "cell_type": "code",
   "execution_count": 96,
   "metadata": {},
   "outputs": [
    {
     "name": "stdout",
     "output_type": "stream",
     "text": [
      "total iteration: 4700 ...\n"
     ]
    }
   ],
   "source": [
    "tf.reset_default_graph()\n",
    "tf.set_random_seed(777)  # for reproducibility\n",
    "\n",
    "# hyper parameters\n",
    "learning_rate = 0.001\n",
    "batch_size = 7*30\n",
    "epoch = 10\n",
    "lyric_size = 200\n",
    "embed_dim = 200\n",
    "lable_dim = len(Y_train[0])\n",
    "dropout = 0.5\n",
    "kernel = 150\n",
    "ALPHA = 0.01\n",
    "\n",
    "# input place holders\n",
    "X = tf.placeholder(tf.float32, [None, lyric_size*embed_dim])\n",
    "Y = tf.placeholder(tf.float32, [None, lable_dim])\n",
    "X_img = tf.reshape(X, [-1, lyric_size, embed_dim, 1])\n",
    "\n",
    "# kernel size 3\n",
    "W11 = tf.Variable(tf.random_normal([3, embed_dim, 1, kernel], stddev=0.01))\n",
    "b11 = tf.Variable(tf.constant(0.1,shape=[kernel]))\n",
    "#    Conv     -> (?, 200-2, 1, 150)\n",
    "#    Pool     -> (?, 1, 1, 150)\n",
    "L1 = tf.nn.conv2d(X_img, W11, strides=[1, 1, 1, 1], padding='VALID') + b11\n",
    "L1 = tf.nn.tanh(L1)\n",
    "L1 = tf.nn.max_pool(L1, ksize=[1, (lyric_size-2), 1, 1],\n",
    "                    strides=[1, 1, 1, 1], padding='VALID')\n",
    "# <tf.Tensor 'MaxPool:0' shape=(?, 1, 1, 150) dtype=float32>\n",
    "\n",
    "# kernel size 4\n",
    "W12 = tf.Variable(tf.random_normal([4, embed_dim, 1, kernel], stddev=0.01))\n",
    "b12 = tf.Variable(tf.constant(0.1,shape=[kernel]))\n",
    "#    Conv     -> (?, 200-3, 1, 150)\n",
    "#    Pool     -> (?, 1, 1, 150)\n",
    "L12 = tf.nn.conv2d(X_img, W12, strides=[1, 1, 1, 1], padding='VALID') + b12\n",
    "L12 = tf.nn.tanh(L12)\n",
    "L12 = tf.nn.max_pool(L12, ksize=[1, (lyric_size-3), 1, 1],\n",
    "                    strides=[1, 1, 1, 1], padding='VALID')\n",
    "# <tf.Tensor 'MaxPool:0' shape=(?, 1, 1, 150) dtype=float32>\n",
    "\n",
    "# kernel size 5\n",
    "W13 = tf.Variable(tf.random_normal([5, embed_dim, 1, kernel], stddev=0.01))\n",
    "b13 = tf.Variable(tf.constant(0.1,shape=[kernel]))\n",
    "#    Conv     -> (?, 200-4, 1, 150)\n",
    "#    Pool     -> (?, 1, 1, 150)\n",
    "L13 = tf.nn.conv2d(X_img, W13, strides=[1, 1, 1, 1], padding='VALID') + b13\n",
    "L13 = tf.nn.tanh(L13)\n",
    "L13 = tf.nn.max_pool(L13, ksize=[1, (lyric_size-4), 1, 1],\n",
    "                    strides=[1, 1, 1, 1], padding='VALID')\n",
    "# <tf.Tensor 'MaxPool:0' shape=(?, 1, 1, 1.50) dtype=float32>\n",
    "\n",
    "L1_flat = tf.concat([L1, L12, L13], 3)\n",
    "L1_flat = tf.reshape(L1_flat, [-1, 3 * kernel])\n",
    "\n",
    "# FC1\n",
    "keep_prob = tf.placeholder(tf.float32)\n",
    "W2 = tf.get_variable(\"W2\", shape=[3*kernel, 400], initializer=tf.contrib.layers.xavier_initializer())\n",
    "b2 = tf.Variable(tf.constant(0.1,shape=[400]))\n",
    "L2 = tf.nn.relu(tf.matmul(L1_flat, W2)+b2)\n",
    "L2 = tf.nn.dropout(L2, keep_prob=keep_prob)\n",
    "\"\"\"\n",
    "# FC2\n",
    "W3 = tf.get_variable(\"W3\", shape=[400, 400], initializer=tf.contrib.layers.xavier_initializer())\n",
    "b3 = tf.Variable(tf.constant(0.1,shape=[400]))\n",
    "L3 = tf.nn.relu(tf.matmul(L2, W3)+b3)\n",
    "L3 = tf.nn.dropout(L3, keep_prob=keep_prob)\n",
    "\"\"\"\n",
    "# Output Layer\n",
    "# W4 = tf.get_variable(\"W4\", shape=[400, lable_dim], initializer=tf.contrib.layers.xavier_initializer())\n",
    "W4 = tf.get_variable(\"W4\", shape=[400, lable_dim], initializer=tf.contrib.layers.xavier_initializer())\n",
    "b4 = tf.Variable(tf.random_normal([lable_dim]))\n",
    "hypothesis = tf.nn.softmax(tf.matmul(L2, W4)+b4)\n",
    "\n",
    "\n",
    "cost = tf.reduce_mean(-tf.reduce_sum(Y*tf.log(hypothesis), axis=1))\n",
    "# Regularization\n",
    "regularzers = tf.nn.l2_loss(W2)\n",
    "cost = tf.reduce_mean(cost+regularzers*ALPHA)\n",
    "\n",
    "# train_step = tf.train.GradientDescentOptimizer(learning_rate= learning_rate).minimize(cost)\n",
    "train_step = tf.train.AdamOptimizer(learning_rate= learning_rate).minimize(cost)\n",
    "\n",
    "predicted = tf.argmax(hypothesis, 1)\n",
    "accuracy = tf.reduce_mean(tf.cast(tf.equal(predicted, tf.argmax(Y, 1)), dtype=tf.float32))\n",
    "\n",
    "total_iter = epoch*int(len(X_train)/batch_size) # 총 학습횟수\n",
    "print('total iteration:', total_iter, '...')"
   ]
  },
  {
   "cell_type": "code",
   "execution_count": 97,
   "metadata": {
    "collapsed": true
   },
   "outputs": [],
   "source": [
    "# accuracy_, cost_ 계산하는 함수\n",
    "# prop 전체 테스트셋에서 몇 %나 사용할지\n",
    "def calc_acc_cost(x, y, prop):\n",
    "    accuracy_ = 0\n",
    "    cost_ = 0\n",
    "#     iteration = int(len(y)/batch_size*prop)\n",
    "    batch_size = int(len(y)*prop)\n",
    "    # 계속 같은 데이터 부분만 사용할것\n",
    "    batch_for_acc = getMiniBatch(x, y, batch_size)\n",
    "    x_acc, y_acc = next(batch_for_acc)\n",
    "    a, c = sess.run([accuracy, cost], feed_dict={X:x_acc, Y:y_acc, keep_prob:1})\n",
    "    return a, c\n",
    "#     for i in range(iteration):\n",
    "#         x_acc, y_acc = next(batch_for_acc)\n",
    "#         a, c = sess.run([accuracy, cost], feed_dict={X:x_acc, Y:y_acc, keep_prob:1})\n",
    "#         accuracy_+=a\n",
    "#         cost_+=c\n",
    "#     return accuracy_/iteration, cost_/iteration"
   ]
  },
  {
   "cell_type": "code",
   "execution_count": null,
   "metadata": {
    "scrolled": true
   },
   "outputs": [
    {
     "name": "stdout",
     "output_type": "stream",
     "text": [
      "step 0: acc_tr 0.142857, acc_val 0.0705634, val_cost 22.9235\n",
      "step 20: acc_tr 0.361905, acc_val 0.29552, val_cost 14.0934\n",
      "step 40: acc_tr 0.380952, acc_val 0.325899, val_cost 8.34901\n",
      "step 60: acc_tr 0.461905, acc_val 0.356662, val_cost 5.14988\n",
      "step 80: acc_tr 0.447619, acc_val 0.324361, val_cost 3.56833\n",
      "step 100: acc_tr 0.490476, acc_val 0.367237, val_cost 2.70335\n",
      "step 120: acc_tr 0.509524, acc_val 0.351663, val_cost 2.29833\n",
      "step 140: acc_tr 0.538095, acc_val 0.372621, val_cost 2.1153\n",
      "step 160: acc_tr 0.514286, acc_val 0.333205, val_cost 2.01617\n",
      "step 180: acc_tr 0.485714, acc_val 0.375889, val_cost 1.92956\n",
      "step 200: acc_tr 0.466667, acc_val 0.340704, val_cost 1.91544\n",
      "step 220: acc_tr 0.519048, acc_val 0.368968, val_cost 1.8915\n",
      "step 240: acc_tr 0.514286, acc_val 0.381465, val_cost 1.84621\n",
      "step 260: acc_tr 0.514286, acc_val 0.3209, val_cost 1.89672\n",
      "step 280: acc_tr 0.561905, acc_val 0.390694, val_cost 1.84123\n",
      "step 300: acc_tr 0.509524, acc_val 0.321477, val_cost 1.89052\n",
      "step 320: acc_tr 0.557143, acc_val 0.371082, val_cost 1.84865\n",
      "step 340: acc_tr 0.547619, acc_val 0.382042, val_cost 1.85156\n",
      "step 360: acc_tr 0.480952, acc_val 0.380504, val_cost 1.85059\n",
      "step 380: acc_tr 0.461905, acc_val 0.30398, val_cost 1.93366\n",
      "step 400: acc_tr 0.566667, acc_val 0.354932, val_cost 1.89104\n",
      "step 420: acc_tr 0.485714, acc_val 0.34974, val_cost 1.86456\n",
      "step 440: acc_tr 0.47619, acc_val 0.332244, val_cost 1.90546\n",
      "step 460: acc_tr 0.542857, acc_val 0.357047, val_cost 1.85864\n",
      "step 480: acc_tr 0.552381, acc_val 0.357624, val_cost 1.86308\n",
      "step 500: acc_tr 0.595238, acc_val 0.347433, val_cost 1.84736\n",
      "step 520: acc_tr 0.5, acc_val 0.347433, val_cost 1.89612\n",
      "step 540: acc_tr 0.580952, acc_val 0.354932, val_cost 1.89399\n"
     ]
    }
   ],
   "source": [
    "MODEL_DIRECTORY = \"tmp/model2.ckpt\"\n",
    "targetAcc = 0.4\n",
    "\n",
    "s_time = time.time()\n",
    "#----------------------\n",
    "sess = tf.InteractiveSession(config=tf.ConfigProto(log_device_placement=True))\n",
    "sess.run(tf.global_variables_initializer())\n",
    "\n",
    "x_range=[]\n",
    "train_accuracies=[]\n",
    "val_accuracies=[]\n",
    "val_costs=[]\n",
    "max_acc = targetAcc # 타겟 Acc 이후부터 모델 저장\n",
    "patience = 32 # 첫 32 step 동안 타겟 Acc에 도달하지 못할 경우 실패\n",
    "saver = tf.train.Saver()\n",
    "\n",
    "# batch = getMiniBatch(X_train, Y_train, batch_size)\n",
    "# batch_val = getMiniBatch(X_val, Y_val, batch_size)\n",
    "X_val_tok = tok_embedding(X_val)\n",
    "\n",
    "for i in range(total_iter):\n",
    "    if patience == 0:\n",
    "        break # 남은 patience가 0이 되면 학습을 멈춘다\n",
    "    X_, Y_ = getMiniBatch2(X_train, Y_train, batch_size) # 랜덤 미니배치 할당\n",
    "#    X_, Y_ = next(batch) # 미니배치 할당\n",
    "    train_step.run(feed_dict={X:X_, Y:Y_, keep_prob:dropout})\n",
    "\n",
    "#   아래에 결과 프린트용\n",
    "    if i % 20 == 0:   \n",
    "        train_accuracy = accuracy.eval(feed_dict={X:X_, Y:Y_, keep_prob:1})\n",
    "#         val_accuracy, val_cost = calc_acc_cost(X_val, Y_val, 0.1)\n",
    "        val_accuracy, val_cost = sess.run([accuracy, cost], feed_dict={X:X_val_tok, Y:Y_val, keep_prob:1})\n",
    "        \n",
    "        train_accuracies.append(train_accuracy)\n",
    "        val_accuracies.append(val_accuracy)\n",
    "        val_costs.append(val_cost)\n",
    "        x_range.append(i)\n",
    "        print('step %d: acc_tr %g, acc_val %g, val_cost %g' % (i, train_accuracy, val_accuracy, val_cost))\n",
    "        if val_accuracy > max_acc:\n",
    "            max_acc = val_accuracy\n",
    "            save_path = saver.save(sess, MODEL_DIRECTORY)\n",
    "            print(\"Model updated and saved in file: %s\" % save_path)\n",
    "            patience = 16 # 새로운 모델 저장 후 16 step 동안 더 탐색\n",
    "        else: patience -= 1\n",
    "# -------------------------\n",
    "e_time = time.time()\n",
    "print('training time: %s sec' %(e_time - s_time))"
   ]
  },
  {
   "cell_type": "code",
   "execution_count": 94,
   "metadata": {},
   "outputs": [
    {
     "data": {
      "image/png": "[encoded data removed]",
      "text/plain": [
       "<matplotlib.figure.Figure at 0x1ff1694e8d0>"
      ]
     },
     "metadata": {},
     "output_type": "display_data"
    }
   ],
   "source": [
    "plt.figure(figsize=(18,5))\n",
    "plt.subplot(121)\n",
    "plt.plot(x_range, train_accuracies,'-b', label='Training')\n",
    "plt.plot(x_range, val_accuracies,'-g', label='Validation')\n",
    "plt.legend(loc='lower right', frameon=False)\n",
    "# plt.ylim(ymax = 1.1, ymin = 0.7)\n",
    "plt.ylabel('accuracy')\n",
    "plt.xlabel('step')\n",
    "plt.title('CNN: Accuracy')\n",
    "\n",
    "plt.subplot(122)\n",
    "plt.plot(x_range, val_costs,'-r', label='Validatin_cost')\n",
    "plt.legend(loc='lower right', frameon=False)\n",
    "# plt.ylim(ymax = 1.1, ymin = 0.7)\n",
    "plt.ylabel('cost')\n",
    "plt.xlabel('step')\n",
    "plt.title('CNN: Validation Cost')\n",
    "plt.show()"
   ]
  },
  {
   "cell_type": "code",
   "execution_count": 95,
   "metadata": {},
   "outputs": [
    {
     "name": "stdout",
     "output_type": "stream",
     "text": [
      "INFO:tensorflow:Restoring parameters from tmp/model2.ckpt\n",
      "acc_val 0.600077, val_cost 1.35545\n",
      "100% calculated\n",
      "test set accuracy:  0.600989497439\n",
      "Average F1 score:  0.269446828338\n",
      "[[ 0.    0.    0.04  0.    0.28  0.52  0.16]\n",
      " [ 0.    0.    0.    0.    0.27  0.65  0.07]\n",
      " [ 0.    0.    0.38  0.    0.06  0.48  0.09]\n",
      " [ 0.    0.    0.    0.    0.08  0.9   0.03]\n",
      " [ 0.    0.    0.01  0.    0.4   0.49  0.11]\n",
      " [ 0.    0.    0.02  0.    0.12  0.81  0.05]\n",
      " [ 0.    0.    0.01  0.    0.11  0.08  0.8 ]]\n"
     ]
    },
    {
     "data": {
      "text/plain": [
       "<matplotlib.image.AxesImage at 0x1ff15b78c50>"
      ]
     },
     "execution_count": 95,
     "metadata": {},
     "output_type": "execute_result"
    },
    {
     "data": {
      "image/png": "[encoded data removed]",
      "text/plain": [
       "<matplotlib.figure.Figure at 0x1ff1641ccf8>"
      ]
     },
     "metadata": {},
     "output_type": "display_data"
    }
   ],
   "source": [
    "# test set data 예측 정확도\n",
    "saver.restore(sess, MODEL_DIRECTORY)\n",
    "val_accuracy, val_cost = sess.run([accuracy, cost], feed_dict={X:X_val_tok, Y:Y_val, keep_prob:1})\n",
    "print('acc_val %g, val_cost %g' % (val_accuracy, val_cost))\n",
    "\n",
    "xxx = []\n",
    "yyy = []\n",
    "bat = round(len(vec_for_test)/100+0.5)\n",
    "start = 0\n",
    "end = bat\n",
    "for i in range(100):\n",
    "    X_all_test = tok_embedding(vec_for_test[start:end])\n",
    "    try:\n",
    "        xxx.extend(predicted.eval(feed_dict={X:X_all_test, keep_prob:1}))\n",
    "        yyy.extend(sess.run(tf.argmax(label_for_test_onehot[start:end], 1)))\n",
    "        start += bat\n",
    "        end += bat\n",
    "        print('\\r%d%% calculated'%(i+1), end='')\n",
    "    except:\n",
    "        print('exception occured')\n",
    "        \n",
    "# 레이블별 정확도 시각적으로 보기\n",
    "dim = len(label_for_test_onehot[0])\n",
    "image = np.zeros(dim*dim)\n",
    "\n",
    "for i, el in enumerate(xxx):\n",
    "    cell = el+yyy[i]*dim\n",
    "    image[cell] +=1\n",
    "\n",
    "dist = image.reshape(dim,dim).round(0)\n",
    "dist_avg = (dist.T/dist.sum(axis=1)).T + 1e-10\n",
    "acc_test = sum(dist.diagonal())/len(vec_for_test)\n",
    "F1 = []\n",
    "for i in range(dim):\n",
    "    pre = dist_avg[i,i]/np.sum(dist_avg[i,:])\n",
    "    rec = dist_avg[i,i]/np.sum(dist_avg[:,i])\n",
    "    F1.append( 2*pre*rec/(pre+rec) )\n",
    "print('\\ntest set accuracy: ',acc_test)\n",
    "print('Average F1 score: ', np.mean(F1))\n",
    "print(dist_avg.round(2))\n",
    "plt.imshow(dist_avg, cmap='binary')"
   ]
  },
  {
   "cell_type": "raw",
   "metadata": {},
   "source": []
  }
 ],
 "metadata": {
  "kernelspec": {
   "display_name": "Python 3",
   "language": "python",
   "name": "python3"
  },
  "language_info": {
   "codemirror_mode": {
    "name": "ipython",
    "version": 3
   },
   "file_extension": ".py",
   "mimetype": "text/x-python",
   "name": "python",
   "nbconvert_exporter": "python",
   "pygments_lexer": "ipython3",
   "version": "3.6.2"
  }
 },
 "nbformat": 4,
 "nbformat_minor": 2
}
